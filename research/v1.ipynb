{
 "cells": [
  {
   "cell_type": "code",
   "execution_count": 357,
   "metadata": {},
   "outputs": [],
   "source": [
    "import numpy as np\n",
    "import pandas as pd\n",
    "\n",
    "import matplotlib.pyplot as plt\n",
    "\n",
    "from collections import defaultdict\n",
    "\n",
    "%matplotlib inline"
   ]
  },
  {
   "cell_type": "code",
   "execution_count": 2,
   "metadata": {},
   "outputs": [],
   "source": [
    "%config Completer.use_jedi = False"
   ]
  },
  {
   "cell_type": "code",
   "execution_count": 224,
   "metadata": {},
   "outputs": [],
   "source": [
    "train = pd.read_csv(\"/Users/sergmiller/Downloads/train.csv\")\n",
    "edu = pd.read_csv(\"/Users/sergmiller/Downloads/trainEducationFeatures.csv\")\n",
    "groups =  pd.read_csv(\"/Users/sergmiller/Downloads/trainGroups.csv\")"
   ]
  },
  {
   "cell_type": "code",
   "execution_count": 56,
   "metadata": {},
   "outputs": [
    {
     "data": {
      "text/plain": [
       "2013.7580508330789"
      ]
     },
     "execution_count": 56,
     "metadata": {},
     "output_type": "execute_result"
    }
   ],
   "source": [
    "np.mean(train['registered_year'])"
   ]
  },
  {
   "cell_type": "code",
   "execution_count": 74,
   "metadata": {},
   "outputs": [
    {
     "data": {
      "text/plain": [
       "array([[ 1.        , -0.09645648],\n",
       "       [-0.09645648,  1.        ]])"
      ]
     },
     "execution_count": 74,
     "metadata": {},
     "output_type": "execute_result"
    }
   ],
   "source": [
    "np.corrcoef(train['registered_year'].values, train['age'].values)"
   ]
  },
  {
   "cell_type": "code",
   "execution_count": 73,
   "metadata": {},
   "outputs": [
    {
     "data": {
      "text/plain": [
       "(array([ 215., 1516., 5647., 3314., 4802., 1981., 3671., 1731., 3629.,\n",
       "        2963.]),\n",
       " array([2006. , 2007.5, 2009. , 2010.5, 2012. , 2013.5, 2015. , 2016.5,\n",
       "        2018. , 2019.5, 2021. ]),\n",
       " <BarContainer object of 10 artists>)"
      ]
     },
     "execution_count": 73,
     "metadata": {},
     "output_type": "execute_result"
    },
    {
     "data": {
      "image/png": "[encoded data removed]",
      "text/plain": [
       "<Figure size 432x288 with 1 Axes>"
      ]
     },
     "metadata": {
      "needs_background": "light"
     },
     "output_type": "display_data"
    }
   ],
   "source": [
    "plt.hist(train['registered_year'])"
   ]
  },
  {
   "cell_type": "code",
   "execution_count": 100,
   "metadata": {},
   "outputs": [],
   "source": [
    "from sklearn.linear_model import LinearRegression"
   ]
  },
  {
   "cell_type": "code",
   "execution_count": 158,
   "metadata": {},
   "outputs": [
    {
     "data": {
      "text/plain": [
       "89"
      ]
     },
     "execution_count": 158,
     "metadata": {},
     "output_type": "execute_result"
    }
   ],
   "source": [
    "max(train['age'])"
   ]
  },
  {
   "cell_type": "code",
   "execution_count": 176,
   "metadata": {},
   "outputs": [
    {
     "data": {
      "text/plain": [
       "((29469, 9), (29469, 3))"
      ]
     },
     "execution_count": 176,
     "metadata": {},
     "output_type": "execute_result"
    }
   ],
   "source": [
    "edu.shape, train.shape"
   ]
  },
  {
   "cell_type": "code",
   "execution_count": 182,
   "metadata": {},
   "outputs": [],
   "source": [
    "edu_with_register = pd.merge(edu[~pd.isnull(edu['school_education'])], train, how='left', on='uid')"
   ]
  },
  {
   "cell_type": "code",
   "execution_count": 184,
   "metadata": {},
   "outputs": [
    {
     "data": {
      "text/plain": [
       "(array([-0.05582762, -0.88421684]), 1918.9770112931192)"
      ]
     },
     "execution_count": 184,
     "metadata": {},
     "output_type": "execute_result"
    }
   ],
   "source": [
    "model = LinearRegression()\n",
    "model.fit(edu_with_register[['registered_year', 'school_education']], edu_with_register['age'].values.reshape(-1))\n",
    "model.coef_, model.intercept_"
   ]
  },
  {
   "cell_type": "code",
   "execution_count": 196,
   "metadata": {},
   "outputs": [
    {
     "data": {
      "text/plain": [
       "(array([-0.88518542]), 1808.6193469773386)"
      ]
     },
     "execution_count": 196,
     "metadata": {},
     "output_type": "execute_result"
    }
   ],
   "source": [
    "model = LinearRegression()\n",
    "model.fit(edu_with_register[['school_education']], edu_with_register['age'].values.reshape(-1))\n",
    "model.coef_, model.intercept_"
   ]
  },
  {
   "cell_type": "code",
   "execution_count": 105,
   "metadata": {},
   "outputs": [
    {
     "data": {
      "text/plain": [
       "(array([-0.32882735]), 697.2078772973922)"
      ]
     },
     "execution_count": 105,
     "metadata": {},
     "output_type": "execute_result"
    }
   ],
   "source": [
    "model = LinearRegression()\n",
    "model.fit(train[['registered_year', 'school']], train['age'].values.reshape(-1))\n",
    "model.coef_, model.intercept_"
   ]
  },
  {
   "cell_type": "code",
   "execution_count": null,
   "metadata": {},
   "outputs": [],
   "source": [
    "model.predict()"
   ]
  },
  {
   "cell_type": "code",
   "execution_count": 363,
   "metadata": {},
   "outputs": [],
   "source": [
    "def decision(school: float, register: float, groups: list):\n",
    "    if np.isnan(school):\n",
    "        r = 697.208 - 0.32883 * register  # approx 35\n",
    "    else:\n",
    "#         r = 2021 - school + 18\n",
    "        r = 1918.977 - 0.05583 * register - 0.88422 * school\n",
    "#         r = 1808.62 - 0.88519 * school\n",
    "    r = max(r, 14)\n",
    "    r = min(89, r)\n",
    "    return r\n",
    "\n",
    "\n",
    "def make_predictions(ids: pd.DataFrame, education: pd.DataFrame, groups: pd.DataFrame) -> pd.DataFrame:\n",
    "    result = pd.DataFrame()\n",
    "    result['uid'] = ids['uid']\n",
    "    school = {uid : year for uid, year in zip(education['uid'].values, education['school_education'].values)}\n",
    "    register = {uid : year for uid, year in zip(ids['uid'].values, ids['registered_year'].values)}\n",
    "    groups_list = defaultdict(list)\n",
    "    for uid, gid in zip(groups['uid'].values, groups['gid'].values):\n",
    "        groups_list[uid].append(gid)\n",
    "    result['age'] = [decision(school[uid], register[uid], groups_list[uid]) for uid in result['uid'].values]\n",
    "    assert result.shape[0] == ids.shape[0] and result.shape[1] == 2\n",
    "    assert ['uid', 'age'] == list(result.columns)\n",
    "    return result"
   ]
  },
  {
   "cell_type": "code",
   "execution_count": 364,
   "metadata": {},
   "outputs": [],
   "source": [
    "res = make_predictions(train, edu, groups)"
   ]
  },
  {
   "cell_type": "code",
   "execution_count": 360,
   "metadata": {},
   "outputs": [
    {
     "data": {
      "text/plain": [
       "11.541098370410738"
      ]
     },
     "execution_count": 360,
     "metadata": {},
     "output_type": "execute_result"
    }
   ],
   "source": [
    "np.mean((res['age'] - train['age']) ** 2) ** 0.5"
   ]
  },
  {
   "cell_type": "code",
   "execution_count": 19,
   "metadata": {},
   "outputs": [],
   "source": [
    "result.to_csv('/Users/sergmiller/Downloads/result.csv', index=None, index_label=None)"
   ]
  },
  {
   "cell_type": "code",
   "execution_count": 23,
   "metadata": {},
   "outputs": [
    {
     "data": {
      "text/plain": [
       "35.02914927550986"
      ]
     },
     "execution_count": 23,
     "metadata": {},
     "output_type": "execute_result"
    }
   ],
   "source": [
    "np.mean(train['age'].values)"
   ]
  },
  {
   "cell_type": "code",
   "execution_count": 17,
   "metadata": {},
   "outputs": [
    {
     "data": {
      "text/plain": [
       "['uid', 'age']"
      ]
     },
     "execution_count": 17,
     "metadata": {},
     "output_type": "execute_result"
    }
   ],
   "source": [
    "list(result.columns)"
   ]
  },
  {
   "cell_type": "code",
   "execution_count": null,
   "metadata": {},
   "outputs": [],
   "source": [
    "np.mean(train['age'].values)"
   ]
  },
  {
   "cell_type": "code",
   "execution_count": 304,
   "metadata": {},
   "outputs": [],
   "source": [
    "from implicit.als import AlternatingLeastSquares\n",
    "from scipy.sparse import csr_matrix"
   ]
  },
  {
   "cell_type": "code",
   "execution_count": 243,
   "metadata": {},
   "outputs": [],
   "source": [
    "user_weights = groups.groupby('uid').gid.nunique()\n",
    "user2weight = {u:w for u,w in zip(user_weights.index.values, user_weights.values)}"
   ]
  },
  {
   "cell_type": "code",
   "execution_count": 305,
   "metadata": {},
   "outputs": [],
   "source": [
    "row = groups['gid'].values\n",
    "col = groups['uid'].values\n",
    "data = [user2weight[u] for u in col]"
   ]
  },
  {
   "cell_type": "code",
   "execution_count": 375,
   "metadata": {},
   "outputs": [
    {
     "data": {
      "text/plain": [
       "(array([1.784e+03, 1.130e+03, 8.550e+02, 7.280e+02, 7.080e+02, 6.500e+02,\n",
       "        6.140e+02, 5.250e+02, 5.000e+02, 5.270e+02, 4.330e+02, 4.150e+02,\n",
       "        2.970e+02, 4.240e+02, 3.910e+02, 3.470e+02, 3.270e+02, 3.050e+02,\n",
       "        2.900e+02, 3.050e+02, 2.970e+02, 3.000e+02, 2.530e+02, 2.820e+02,\n",
       "        1.690e+02, 2.260e+02, 2.400e+02, 2.170e+02, 2.520e+02, 2.020e+02,\n",
       "        1.840e+02, 1.850e+02, 2.000e+02, 6.029e+03, 0.000e+00, 0.000e+00,\n",
       "        0.000e+00, 0.000e+00, 0.000e+00, 0.000e+00, 1.000e+00, 0.000e+00,\n",
       "        0.000e+00, 0.000e+00, 0.000e+00, 0.000e+00, 0.000e+00, 0.000e+00,\n",
       "        0.000e+00, 1.000e+00]),\n",
       " array([  1.  ,   3.92,   6.84,   9.76,  12.68,  15.6 ,  18.52,  21.44,\n",
       "         24.36,  27.28,  30.2 ,  33.12,  36.04,  38.96,  41.88,  44.8 ,\n",
       "         47.72,  50.64,  53.56,  56.48,  59.4 ,  62.32,  65.24,  68.16,\n",
       "         71.08,  74.  ,  76.92,  79.84,  82.76,  85.68,  88.6 ,  91.52,\n",
       "         94.44,  97.36, 100.28, 103.2 , 106.12, 109.04, 111.96, 114.88,\n",
       "        117.8 , 120.72, 123.64, 126.56, 129.48, 132.4 , 135.32, 138.24,\n",
       "        141.16, 144.08, 147.  ]),\n",
       " <BarContainer object of 50 artists>)"
      ]
     },
     "execution_count": 375,
     "metadata": {},
     "output_type": "execute_result"
    },
    {
     "data": {
      "image/png": "[encoded data removed]",
      "text/plain": [
       "<Figure size 432x288 with 1 Axes>"
      ]
     },
     "metadata": {
      "needs_background": "light"
     },
     "output_type": "display_data"
    }
   ],
   "source": [
    "plt.hist(user_weights.values, bins=50)"
   ]
  },
  {
   "cell_type": "code",
   "execution_count": 276,
   "metadata": {},
   "outputs": [
    {
     "data": {
      "text/plain": [
       "(362032, 120055)"
      ]
     },
     "execution_count": 276,
     "metadata": {},
     "output_type": "execute_result"
    }
   ],
   "source": [
    "max(row), max(col)"
   ]
  },
  {
   "cell_type": "code",
   "execution_count": 306,
   "metadata": {},
   "outputs": [],
   "source": [
    "train_g2u = csr_matrix((data, (row, col)), shape=(362033, 120056))"
   ]
  },
  {
   "cell_type": "code",
   "execution_count": 307,
   "metadata": {},
   "outputs": [
    {
     "data": {
      "application/vnd.jupyter.widget-view+json": {
       "model_id": "930eeb9dc5a54ff397237f611bb21377",
       "version_major": 2,
       "version_minor": 0
      },
      "text/plain": [
       "  0%|          | 0/15 [00:00<?, ?it/s]"
      ]
     },
     "metadata": {},
     "output_type": "display_data"
    }
   ],
   "source": [
    "als = AlternatingLeastSquares(factors=32, random_state=0)\n",
    "als.fit(train_g2u)"
   ]
  },
  {
   "cell_type": "code",
   "execution_count": 308,
   "metadata": {},
   "outputs": [
    {
     "data": {
      "text/plain": [
       "(362033, 32)"
      ]
     },
     "execution_count": 308,
     "metadata": {},
     "output_type": "execute_result"
    }
   ],
   "source": [
    "als.item_factors.shape"
   ]
  },
  {
   "cell_type": "code",
   "execution_count": 309,
   "metadata": {},
   "outputs": [
    {
     "data": {
      "text/plain": [
       "(120056, 32)"
      ]
     },
     "execution_count": 309,
     "metadata": {},
     "output_type": "execute_result"
    }
   ],
   "source": [
    "als.user_factors.shape"
   ]
  },
  {
   "cell_type": "code",
   "execution_count": 310,
   "metadata": {},
   "outputs": [],
   "source": [
    "from sklearn.neighbors import KNeighborsRegressor"
   ]
  },
  {
   "cell_type": "code",
   "execution_count": 311,
   "metadata": {},
   "outputs": [],
   "source": [
    "N = 10000"
   ]
  },
  {
   "cell_type": "code",
   "execution_count": 312,
   "metadata": {},
   "outputs": [
    {
     "data": {
      "text/plain": [
       "((29469, 32), (29469,))"
      ]
     },
     "execution_count": 312,
     "metadata": {},
     "output_type": "execute_result"
    }
   ],
   "source": [
    "user_embs_for_knn = np.array([als.user_factors[u] for u in train['uid'].values])\n",
    "knn_age = train['age'].values\n",
    "user_embs_for_knn.shape, knn_age.shape"
   ]
  },
  {
   "cell_type": "code",
   "execution_count": 321,
   "metadata": {},
   "outputs": [],
   "source": [
    "def calc_embedding_by_user_groups(user_groups: np.array):\n",
    "    groups_embeds = als.item_factors[user_groups]\n",
    "    user_embed = np.mean(groups_embeds, axis=0)\n",
    "    return user_embed"
   ]
  },
  {
   "cell_type": "code",
   "execution_count": 351,
   "metadata": {},
   "outputs": [
    {
     "name": "stdout",
     "output_type": "stream",
     "text": [
      "31.426724404225716\n",
      "CPU times: user 6.27 ms, sys: 2.66 ms, total: 8.93 ms\n",
      "Wall time: 2.73 ms\n"
     ]
    }
   ],
   "source": [
    "%%time\n",
    "for x in user_embs_for_knn[N:]:\n",
    "    print(float(knn.predict([x])))\n",
    "    break"
   ]
  },
  {
   "cell_type": "code",
   "execution_count": 376,
   "metadata": {},
   "outputs": [
    {
     "name": "stdout",
     "output_type": "stream",
     "text": [
      "CPU times: user 28.7 s, sys: 7.59 s, total: 36.3 s\n",
      "Wall time: 16.7 s\n"
     ]
    },
    {
     "data": {
      "text/plain": [
       "7.627103383099767"
      ]
     },
     "execution_count": 376,
     "metadata": {},
     "output_type": "execute_result"
    }
   ],
   "source": [
    "%%time\n",
    "knn = KNeighborsRegressor(weights='distance', n_neighbors=25)\n",
    "knn.fit(user_embs_for_knn, knn_age)\n",
    "\n",
    "knn_age_predicted = knn.predict(user_embs_for_knn)\n",
    "\n",
    "res = np.mean((knn_age_predicted - knn_age) ** 2) ** 0.5\n",
    "res"
   ]
  },
  {
   "cell_type": "code",
   "execution_count": 344,
   "metadata": {},
   "outputs": [
    {
     "name": "stdout",
     "output_type": "stream",
     "text": [
      "CPU times: user 6.41 s, sys: 1.9 s, total: 8.32 s\n",
      "Wall time: 3.66 s\n"
     ]
    },
    {
     "data": {
      "text/plain": [
       "10.719051118447588"
      ]
     },
     "execution_count": 344,
     "metadata": {},
     "output_type": "execute_result"
    }
   ],
   "source": [
    "%%time\n",
    "knn = KNeighborsRegressor(weights='distance', n_neighbors=25)\n",
    "knn.fit(user_embs_for_knn[:N], knn_age[:N])\n",
    "\n",
    "knn_age_predicted = knn.predict(user_embs_for_knn[N:])\n",
    "\n",
    "res = np.mean((knn_age_predicted - knn_age[N:]) ** 2) ** 0.5\n",
    "res"
   ]
  },
  {
   "cell_type": "code",
   "execution_count": 348,
   "metadata": {},
   "outputs": [
    {
     "data": {
      "text/plain": [
       "(160831, 1)"
      ]
     },
     "execution_count": 348,
     "metadata": {},
     "output_type": "execute_result"
    }
   ],
   "source": [
    "pd.read_csv('../submision/data/train_groups.csv').values.shape"
   ]
  },
  {
   "cell_type": "code",
   "execution_count": 326,
   "metadata": {},
   "outputs": [],
   "source": [
    "known_groups = np.unique(groups['gid'].values)"
   ]
  },
  {
   "cell_type": "code",
   "execution_count": 329,
   "metadata": {},
   "outputs": [],
   "source": [
    "pd.DataFrame(known_groups).to_csv(\"../submision/data/train_groups.csv\", index=None, index_label=None)"
   ]
  },
  {
   "cell_type": "code",
   "execution_count": 330,
   "metadata": {},
   "outputs": [
    {
     "data": {
      "text/plain": [
       "(29469, 32)"
      ]
     },
     "execution_count": 330,
     "metadata": {},
     "output_type": "execute_result"
    }
   ],
   "source": [
    "user_embs_for_knn.shape"
   ]
  },
  {
   "cell_type": "code",
   "execution_count": 331,
   "metadata": {},
   "outputs": [
    {
     "data": {
      "text/plain": [
       "(29469,)"
      ]
     },
     "execution_count": 331,
     "metadata": {},
     "output_type": "execute_result"
    }
   ],
   "source": [
    "train['uid'].shape"
   ]
  },
  {
   "cell_type": "code",
   "execution_count": 332,
   "metadata": {},
   "outputs": [],
   "source": [
    "pd.DataFrame(train).to_csv(\"../submision/data/train.csv\", index=None, index_label=None)"
   ]
  },
  {
   "cell_type": "code",
   "execution_count": 336,
   "metadata": {},
   "outputs": [],
   "source": [
    "pd.DataFrame(user_embs_for_knn).to_csv(\"../submision/data/train_als_user_embeddings.csv\", index=None, index_label=None)"
   ]
  },
  {
   "cell_type": "code",
   "execution_count": 340,
   "metadata": {},
   "outputs": [],
   "source": [
    "group_embds_for_knn = als.item_factors[known_groups]"
   ]
  },
  {
   "cell_type": "code",
   "execution_count": 341,
   "metadata": {},
   "outputs": [
    {
     "data": {
      "text/plain": [
       "(160831, 32)"
      ]
     },
     "execution_count": 341,
     "metadata": {},
     "output_type": "execute_result"
    }
   ],
   "source": [
    "group_embds_for_knn.shape"
   ]
  },
  {
   "cell_type": "code",
   "execution_count": 339,
   "metadata": {},
   "outputs": [
    {
     "data": {
      "text/plain": [
       "(29469, 32)"
      ]
     },
     "execution_count": 339,
     "metadata": {},
     "output_type": "execute_result"
    }
   ],
   "source": [
    "user_embs_for_knn.shape"
   ]
  },
  {
   "cell_type": "code",
   "execution_count": 342,
   "metadata": {},
   "outputs": [],
   "source": [
    "pd.DataFrame(group_embds_for_knn).to_csv(\"../submision/data/train_als_group_embeddings.csv\", index=None, index_label=None)"
   ]
  },
  {
   "cell_type": "code",
   "execution_count": 345,
   "metadata": {},
   "outputs": [
    {
     "data": {
      "text/plain": [
       "array([[-0.03352285,  0.01173679, -0.00479133, -0.00079793,  0.00691519,\n",
       "         0.02763588, -0.00387738, -0.02486044, -0.00412413, -0.01828809,\n",
       "         0.03304713,  0.00094347,  0.03785113, -0.00548973,  0.00034857,\n",
       "        -0.02208665,  0.00284895,  0.03267703, -0.00689618,  0.02914728,\n",
       "         0.01545629,  0.01312421,  0.01298617,  0.01491231, -0.01607238,\n",
       "        -0.00461709, -0.00313677,  0.00893403,  0.01912749,  0.04901997,\n",
       "        -0.00721672,  0.02671472],\n",
       "       [ 0.01577521, -0.00342512, -0.03403663, -0.00619824, -0.01844874,\n",
       "         0.02002376, -0.01083123, -0.01982027, -0.02211998,  0.02357365,\n",
       "         0.02775149,  0.00207958,  0.00818852,  0.0136739 ,  0.01661555,\n",
       "         0.00561788, -0.01665961, -0.01122996, -0.00927404, -0.0091855 ,\n",
       "         0.01583714,  0.01119312,  0.01644872, -0.00017456,  0.01745618,\n",
       "         0.00827894,  0.00624486,  0.00029817,  0.00274924,  0.02194361,\n",
       "         0.00729352,  0.02449917]], dtype=float32)"
      ]
     },
     "execution_count": 345,
     "metadata": {},
     "output_type": "execute_result"
    }
   ],
   "source": [
    "als.item_factors[[1,2]]"
   ]
  },
  {
   "cell_type": "code",
   "execution_count": 368,
   "metadata": {},
   "outputs": [
    {
     "data": {
      "text/plain": [
       "array([[ 0.00620317,  0.01065773, -0.01442813, ...,  0.02823488,\n",
       "         0.02111417,  0.0143768 ],\n",
       "       [ 0.6269256 , -0.19519456,  0.26703796, ...,  0.19338019,\n",
       "         0.8778059 , -0.30893627],\n",
       "       [ 0.        ,  0.        ,  0.        , ...,  0.        ,\n",
       "         0.        ,  0.        ],\n",
       "       ...,\n",
       "       [ 0.        ,  0.        ,  0.        , ...,  0.        ,\n",
       "         0.        ,  0.        ],\n",
       "       [ 0.02584702,  0.06221347, -0.00454262, ...,  0.01528523,\n",
       "         0.01898878,  0.09596544],\n",
       "       [-0.5718822 ,  0.6594821 ,  0.07554404, ..., -1.6461611 ,\n",
       "         0.64993376, -1.061764  ]])"
      ]
     },
     "execution_count": 368,
     "metadata": {},
     "output_type": "execute_result"
    }
   ],
   "source": [
    "pd.read_csv('../submision/data/train_als_user_embeddings.csv').values"
   ]
  },
  {
   "cell_type": "code",
   "execution_count": null,
   "metadata": {},
   "outputs": [],
   "source": []
  }
 ],
 "metadata": {
  "kernelspec": {
   "display_name": "Python 3",
   "language": "python",
   "name": "python3"
  },
  "language_info": {
   "codemirror_mode": {
    "name": "ipython",
    "version": 3
   },
   "file_extension": ".py",
   "mimetype": "text/x-python",
   "name": "python",
   "nbconvert_exporter": "python",
   "pygments_lexer": "ipython3",
   "version": "3.7.9"
  }
 },
 "nbformat": 4,
 "nbformat_minor": 4
}
