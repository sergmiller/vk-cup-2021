{
 "cells": [
  {
   "cell_type": "code",
   "execution_count": 357,
   "metadata": {},
   "outputs": [],
   "source": [
    "import numpy as np\n",
    "import pandas as pd\n",
    "\n",
    "import matplotlib.pyplot as plt\n",
    "\n",
    "from collections import defaultdict\n",
    "\n",
    "%matplotlib inline"
   ]
  },
  {
   "cell_type": "code",
   "execution_count": 2,
   "metadata": {},
   "outputs": [],
   "source": [
    "%config Completer.use_jedi = False"
   ]
  },
  {
   "cell_type": "code",
   "execution_count": 377,
   "metadata": {},
   "outputs": [],
   "source": [
    "train = pd.read_csv(\"/Users/sergmiller/Downloads/train.csv\")\n",
    "edu = pd.read_csv(\"/Users/sergmiller/Downloads/trainEducationFeatures.csv\")\n",
    "groups =  pd.read_csv(\"/Users/sergmiller/Downloads/trainGroups.csv\")\n",
    "friends =  pd.read_csv(\"/Users/sergmiller/Downloads/friends.csv\")"
   ]
  },
  {
   "cell_type": "code",
   "execution_count": 56,
   "metadata": {},
   "outputs": [
    {
     "data": {
      "text/plain": [
       "2013.7580508330789"
      ]
     },
     "execution_count": 56,
     "metadata": {},
     "output_type": "execute_result"
    }
   ],
   "source": [
    "np.mean(train['registered_year'])"
   ]
  },
  {
   "cell_type": "code",
   "execution_count": 74,
   "metadata": {},
   "outputs": [
    {
     "data": {
      "text/plain": [
       "array([[ 1.        , -0.09645648],\n",
       "       [-0.09645648,  1.        ]])"
      ]
     },
     "execution_count": 74,
     "metadata": {},
     "output_type": "execute_result"
    }
   ],
   "source": [
    "np.corrcoef(train['registered_year'].values, train['age'].values)"
   ]
  },
  {
   "cell_type": "code",
   "execution_count": 73,
   "metadata": {},
   "outputs": [
    {
     "data": {
      "text/plain": [
       "(array([ 215., 1516., 5647., 3314., 4802., 1981., 3671., 1731., 3629.,\n",
       "        2963.]),\n",
       " array([2006. , 2007.5, 2009. , 2010.5, 2012. , 2013.5, 2015. , 2016.5,\n",
       "        2018. , 2019.5, 2021. ]),\n",
       " <BarContainer object of 10 artists>)"
      ]
     },
     "execution_count": 73,
     "metadata": {},
     "output_type": "execute_result"
    },
    {
     "data": {
      "image/png": "[encoded data removed]",
      "text/plain": [
       "<Figure size 432x288 with 1 Axes>"
      ]
     },
     "metadata": {
      "needs_background": "light"
     },
     "output_type": "display_data"
    }
   ],
   "source": [
    "plt.hist(train['registered_year'])"
   ]
  },
  {
   "cell_type": "code",
   "execution_count": 100,
   "metadata": {},
   "outputs": [],
   "source": [
    "from sklearn.linear_model import LinearRegression"
   ]
  },
  {
   "cell_type": "code",
   "execution_count": 158,
   "metadata": {},
   "outputs": [
    {
     "data": {
      "text/plain": [
       "89"
      ]
     },
     "execution_count": 158,
     "metadata": {},
     "output_type": "execute_result"
    }
   ],
   "source": [
    "max(train['age'])"
   ]
  },
  {
   "cell_type": "code",
   "execution_count": 176,
   "metadata": {},
   "outputs": [
    {
     "data": {
      "text/plain": [
       "((29469, 9), (29469, 3))"
      ]
     },
     "execution_count": 176,
     "metadata": {},
     "output_type": "execute_result"
    }
   ],
   "source": [
    "edu.shape, train.shape"
   ]
  },
  {
   "cell_type": "code",
   "execution_count": 412,
   "metadata": {},
   "outputs": [],
   "source": [
    "edu_with_register = pd.merge(edu[~pd.isnull(edu['school_education'])], train, how='left', on='uid')"
   ]
  },
  {
   "cell_type": "code",
   "execution_count": 413,
   "metadata": {},
   "outputs": [
    {
     "data": {
      "text/html": [
       "<div>\n",
       "<style scoped>\n",
       "    .dataframe tbody tr th:only-of-type {\n",
       "        vertical-align: middle;\n",
       "    }\n",
       "\n",
       "    .dataframe tbody tr th {\n",
       "        vertical-align: top;\n",
       "    }\n",
       "\n",
       "    .dataframe thead th {\n",
       "        text-align: right;\n",
       "    }\n",
       "</style>\n",
       "<table border=\"1\" class=\"dataframe\">\n",
       "  <thead>\n",
       "    <tr style=\"text-align: right;\">\n",
       "      <th></th>\n",
       "      <th>uid</th>\n",
       "      <th>school_education</th>\n",
       "      <th>graduation_1</th>\n",
       "      <th>graduation_2</th>\n",
       "      <th>graduation_3</th>\n",
       "      <th>graduation_4</th>\n",
       "      <th>graduation_5</th>\n",
       "      <th>graduation_6</th>\n",
       "      <th>graduation_7</th>\n",
       "      <th>age</th>\n",
       "      <th>registered_year</th>\n",
       "    </tr>\n",
       "  </thead>\n",
       "  <tbody>\n",
       "    <tr>\n",
       "      <th>0</th>\n",
       "      <td>30288</td>\n",
       "      <td>2008.0</td>\n",
       "      <td>NaN</td>\n",
       "      <td>NaN</td>\n",
       "      <td>NaN</td>\n",
       "      <td>NaN</td>\n",
       "      <td>2013.0</td>\n",
       "      <td>NaN</td>\n",
       "      <td>NaN</td>\n",
       "      <td>30</td>\n",
       "      <td>2008</td>\n",
       "    </tr>\n",
       "    <tr>\n",
       "      <th>1</th>\n",
       "      <td>25275</td>\n",
       "      <td>2007.0</td>\n",
       "      <td>NaN</td>\n",
       "      <td>NaN</td>\n",
       "      <td>NaN</td>\n",
       "      <td>NaN</td>\n",
       "      <td>NaN</td>\n",
       "      <td>2011.0</td>\n",
       "      <td>NaN</td>\n",
       "      <td>31</td>\n",
       "      <td>2007</td>\n",
       "    </tr>\n",
       "    <tr>\n",
       "      <th>2</th>\n",
       "      <td>116156</td>\n",
       "      <td>2008.0</td>\n",
       "      <td>NaN</td>\n",
       "      <td>NaN</td>\n",
       "      <td>NaN</td>\n",
       "      <td>NaN</td>\n",
       "      <td>NaN</td>\n",
       "      <td>NaN</td>\n",
       "      <td>NaN</td>\n",
       "      <td>28</td>\n",
       "      <td>2010</td>\n",
       "    </tr>\n",
       "    <tr>\n",
       "      <th>3</th>\n",
       "      <td>10794</td>\n",
       "      <td>2006.0</td>\n",
       "      <td>NaN</td>\n",
       "      <td>NaN</td>\n",
       "      <td>NaN</td>\n",
       "      <td>NaN</td>\n",
       "      <td>NaN</td>\n",
       "      <td>NaN</td>\n",
       "      <td>2014.0</td>\n",
       "      <td>34</td>\n",
       "      <td>2010</td>\n",
       "    </tr>\n",
       "    <tr>\n",
       "      <th>4</th>\n",
       "      <td>99780</td>\n",
       "      <td>1995.0</td>\n",
       "      <td>NaN</td>\n",
       "      <td>NaN</td>\n",
       "      <td>NaN</td>\n",
       "      <td>NaN</td>\n",
       "      <td>NaN</td>\n",
       "      <td>NaN</td>\n",
       "      <td>NaN</td>\n",
       "      <td>42</td>\n",
       "      <td>2012</td>\n",
       "    </tr>\n",
       "    <tr>\n",
       "      <th>...</th>\n",
       "      <td>...</td>\n",
       "      <td>...</td>\n",
       "      <td>...</td>\n",
       "      <td>...</td>\n",
       "      <td>...</td>\n",
       "      <td>...</td>\n",
       "      <td>...</td>\n",
       "      <td>...</td>\n",
       "      <td>...</td>\n",
       "      <td>...</td>\n",
       "      <td>...</td>\n",
       "    </tr>\n",
       "    <tr>\n",
       "      <th>9109</th>\n",
       "      <td>90272</td>\n",
       "      <td>2010.0</td>\n",
       "      <td>NaN</td>\n",
       "      <td>NaN</td>\n",
       "      <td>NaN</td>\n",
       "      <td>NaN</td>\n",
       "      <td>NaN</td>\n",
       "      <td>NaN</td>\n",
       "      <td>NaN</td>\n",
       "      <td>32</td>\n",
       "      <td>2012</td>\n",
       "    </tr>\n",
       "    <tr>\n",
       "      <th>9110</th>\n",
       "      <td>33331</td>\n",
       "      <td>1987.0</td>\n",
       "      <td>NaN</td>\n",
       "      <td>NaN</td>\n",
       "      <td>NaN</td>\n",
       "      <td>NaN</td>\n",
       "      <td>1991.0</td>\n",
       "      <td>NaN</td>\n",
       "      <td>NaN</td>\n",
       "      <td>51</td>\n",
       "      <td>2008</td>\n",
       "    </tr>\n",
       "    <tr>\n",
       "      <th>9111</th>\n",
       "      <td>97581</td>\n",
       "      <td>2002.0</td>\n",
       "      <td>NaN</td>\n",
       "      <td>NaN</td>\n",
       "      <td>NaN</td>\n",
       "      <td>NaN</td>\n",
       "      <td>2007.0</td>\n",
       "      <td>NaN</td>\n",
       "      <td>NaN</td>\n",
       "      <td>36</td>\n",
       "      <td>2010</td>\n",
       "    </tr>\n",
       "    <tr>\n",
       "      <th>9112</th>\n",
       "      <td>104038</td>\n",
       "      <td>1969.0</td>\n",
       "      <td>NaN</td>\n",
       "      <td>NaN</td>\n",
       "      <td>NaN</td>\n",
       "      <td>NaN</td>\n",
       "      <td>NaN</td>\n",
       "      <td>NaN</td>\n",
       "      <td>NaN</td>\n",
       "      <td>69</td>\n",
       "      <td>2013</td>\n",
       "    </tr>\n",
       "    <tr>\n",
       "      <th>9113</th>\n",
       "      <td>95258</td>\n",
       "      <td>1983.0</td>\n",
       "      <td>NaN</td>\n",
       "      <td>NaN</td>\n",
       "      <td>NaN</td>\n",
       "      <td>NaN</td>\n",
       "      <td>NaN</td>\n",
       "      <td>NaN</td>\n",
       "      <td>NaN</td>\n",
       "      <td>53</td>\n",
       "      <td>2011</td>\n",
       "    </tr>\n",
       "  </tbody>\n",
       "</table>\n",
       "<p>9114 rows × 11 columns</p>\n",
       "</div>"
      ],
      "text/plain": [
       "         uid  school_education  graduation_1  graduation_2  graduation_3  \\\n",
       "0      30288            2008.0           NaN           NaN           NaN   \n",
       "1      25275            2007.0           NaN           NaN           NaN   \n",
       "2     116156            2008.0           NaN           NaN           NaN   \n",
       "3      10794            2006.0           NaN           NaN           NaN   \n",
       "4      99780            1995.0           NaN           NaN           NaN   \n",
       "...      ...               ...           ...           ...           ...   \n",
       "9109   90272            2010.0           NaN           NaN           NaN   \n",
       "9110   33331            1987.0           NaN           NaN           NaN   \n",
       "9111   97581            2002.0           NaN           NaN           NaN   \n",
       "9112  104038            1969.0           NaN           NaN           NaN   \n",
       "9113   95258            1983.0           NaN           NaN           NaN   \n",
       "\n",
       "      graduation_4  graduation_5  graduation_6  graduation_7  age  \\\n",
       "0              NaN        2013.0           NaN           NaN   30   \n",
       "1              NaN           NaN        2011.0           NaN   31   \n",
       "2              NaN           NaN           NaN           NaN   28   \n",
       "3              NaN           NaN           NaN        2014.0   34   \n",
       "4              NaN           NaN           NaN           NaN   42   \n",
       "...            ...           ...           ...           ...  ...   \n",
       "9109           NaN           NaN           NaN           NaN   32   \n",
       "9110           NaN        1991.0           NaN           NaN   51   \n",
       "9111           NaN        2007.0           NaN           NaN   36   \n",
       "9112           NaN           NaN           NaN           NaN   69   \n",
       "9113           NaN           NaN           NaN           NaN   53   \n",
       "\n",
       "      registered_year  \n",
       "0                2008  \n",
       "1                2007  \n",
       "2                2010  \n",
       "3                2010  \n",
       "4                2012  \n",
       "...               ...  \n",
       "9109             2012  \n",
       "9110             2008  \n",
       "9111             2010  \n",
       "9112             2013  \n",
       "9113             2011  \n",
       "\n",
       "[9114 rows x 11 columns]"
      ]
     },
     "execution_count": 413,
     "metadata": {},
     "output_type": "execute_result"
    }
   ],
   "source": [
    "edu_with_register"
   ]
  },
  {
   "cell_type": "code",
   "execution_count": 414,
   "metadata": {},
   "outputs": [],
   "source": [
    "edu_with_g5 = pd.merge(edu[~pd.isnull(edu['graduation_5'])], train, how='left', on='uid')"
   ]
  },
  {
   "cell_type": "code",
   "execution_count": 417,
   "metadata": {},
   "outputs": [
    {
     "name": "stderr",
     "output_type": "stream",
     "text": [
      "/Library/Frameworks/Python.framework/Versions/3.7/lib/python3.7/site-packages/ipykernel_launcher.py:1: UserWarning: Boolean Series key will be reindexed to match DataFrame index.\n",
      "  \"\"\"Entry point for launching an IPython kernel.\n"
     ]
    }
   ],
   "source": [
    "edu_with_g5_and_reg = pd.merge(edu[~pd.isnull(edu['graduation_5'])][~pd.isnull(edu['school_education'])], train, how='left', on='uid')"
   ]
  },
  {
   "cell_type": "code",
   "execution_count": 419,
   "metadata": {},
   "outputs": [
    {
     "data": {
      "text/plain": [
       "(1268, 11)"
      ]
     },
     "execution_count": 419,
     "metadata": {},
     "output_type": "execute_result"
    }
   ],
   "source": [
    "edu_with_g5_and_reg.shape"
   ]
  },
  {
   "cell_type": "code",
   "execution_count": 420,
   "metadata": {},
   "outputs": [
    {
     "data": {
      "text/plain": [
       "(array([ 0.06561199, -0.82945563, -0.12746959]), 1821.0781979242786)"
      ]
     },
     "execution_count": 420,
     "metadata": {},
     "output_type": "execute_result"
    }
   ],
   "source": [
    "model = LinearRegression()\n",
    "model.fit(edu_with_g5_and_reg[['registered_year', 'school_education', 'graduation_5']], edu_with_g5_and_reg['age'].values.reshape(-1))\n",
    "model.coef_, model.intercept_"
   ]
  },
  {
   "cell_type": "code",
   "execution_count": 415,
   "metadata": {},
   "outputs": [
    {
     "data": {
      "text/plain": [
       "(array([ 0.2681817 , -0.89100903]), 1287.6021512433363)"
      ]
     },
     "execution_count": 415,
     "metadata": {},
     "output_type": "execute_result"
    }
   ],
   "source": [
    "model = LinearRegression()\n",
    "model.fit(edu_with_g5[['registered_year', 'graduation_5']], edu_with_g5['age'].values.reshape(-1))\n",
    "model.coef_, model.intercept_"
   ]
  },
  {
   "cell_type": "code",
   "execution_count": 184,
   "metadata": {},
   "outputs": [
    {
     "data": {
      "text/plain": [
       "(array([-0.05582762, -0.88421684]), 1918.9770112931192)"
      ]
     },
     "execution_count": 184,
     "metadata": {},
     "output_type": "execute_result"
    }
   ],
   "source": [
    "model = LinearRegression()\n",
    "model.fit(edu_with_register[['registered_year', 'school_education']], edu_with_register['age'].values.reshape(-1))\n",
    "model.coef_, model.intercept_"
   ]
  },
  {
   "cell_type": "code",
   "execution_count": 196,
   "metadata": {},
   "outputs": [
    {
     "data": {
      "text/plain": [
       "(array([-0.88518542]), 1808.6193469773386)"
      ]
     },
     "execution_count": 196,
     "metadata": {},
     "output_type": "execute_result"
    }
   ],
   "source": [
    "model = LinearRegression()\n",
    "model.fit(edu_with_register[['school_education']], edu_with_register['age'].values.reshape(-1))\n",
    "model.coef_, model.intercept_"
   ]
  },
  {
   "cell_type": "code",
   "execution_count": 105,
   "metadata": {},
   "outputs": [
    {
     "data": {
      "text/plain": [
       "(array([-0.32882735]), 697.2078772973922)"
      ]
     },
     "execution_count": 105,
     "metadata": {},
     "output_type": "execute_result"
    }
   ],
   "source": [
    "model = LinearRegression()\n",
    "model.fit(train[['registered_year', 'school']], train['age'].values.reshape(-1))\n",
    "model.coef_, model.intercept_"
   ]
  },
  {
   "cell_type": "code",
   "execution_count": null,
   "metadata": {},
   "outputs": [],
   "source": [
    "model.predict()"
   ]
  },
  {
   "cell_type": "code",
   "execution_count": 363,
   "metadata": {},
   "outputs": [],
   "source": [
    "def decision(school: float, register: float, groups: list):\n",
    "    if np.isnan(school):\n",
    "        r = 697.208 - 0.32883 * register  # approx 35\n",
    "    else:\n",
    "#         r = 2021 - school + 18\n",
    "        r = 1918.977 - 0.05583 * register - 0.88422 * school\n",
    "#         r = 1808.62 - 0.88519 * school\n",
    "    r = max(r, 14)\n",
    "    r = min(89, r)\n",
    "    return r\n",
    "\n",
    "\n",
    "def make_predictions(ids: pd.DataFrame, education: pd.DataFrame, groups: pd.DataFrame) -> pd.DataFrame:\n",
    "    result = pd.DataFrame()\n",
    "    result['uid'] = ids['uid']\n",
    "    school = {uid : year for uid, year in zip(education['uid'].values, education['school_education'].values)}\n",
    "    register = {uid : year for uid, year in zip(ids['uid'].values, ids['registered_year'].values)}\n",
    "    groups_list = defaultdict(list)\n",
    "    for uid, gid in zip(groups['uid'].values, groups['gid'].values):\n",
    "        groups_list[uid].append(gid)\n",
    "    result['age'] = [decision(school[uid], register[uid], groups_list[uid]) for uid in result['uid'].values]\n",
    "    assert result.shape[0] == ids.shape[0] and result.shape[1] == 2\n",
    "    assert ['uid', 'age'] == list(result.columns)\n",
    "    return result"
   ]
  },
  {
   "cell_type": "code",
   "execution_count": 364,
   "metadata": {},
   "outputs": [],
   "source": [
    "res = make_predictions(train, edu, groups)"
   ]
  },
  {
   "cell_type": "code",
   "execution_count": 360,
   "metadata": {},
   "outputs": [
    {
     "data": {
      "text/plain": [
       "11.541098370410738"
      ]
     },
     "execution_count": 360,
     "metadata": {},
     "output_type": "execute_result"
    }
   ],
   "source": [
    "np.mean((res['age'] - train['age']) ** 2) ** 0.5"
   ]
  },
  {
   "cell_type": "code",
   "execution_count": 19,
   "metadata": {},
   "outputs": [],
   "source": [
    "result.to_csv('/Users/sergmiller/Downloads/result.csv', index=None, index_label=None)"
   ]
  },
  {
   "cell_type": "code",
   "execution_count": 23,
   "metadata": {},
   "outputs": [
    {
     "data": {
      "text/plain": [
       "35.02914927550986"
      ]
     },
     "execution_count": 23,
     "metadata": {},
     "output_type": "execute_result"
    }
   ],
   "source": [
    "np.mean(train['age'].values)"
   ]
  },
  {
   "cell_type": "code",
   "execution_count": 17,
   "metadata": {},
   "outputs": [
    {
     "data": {
      "text/plain": [
       "['uid', 'age']"
      ]
     },
     "execution_count": 17,
     "metadata": {},
     "output_type": "execute_result"
    }
   ],
   "source": [
    "list(result.columns)"
   ]
  },
  {
   "cell_type": "code",
   "execution_count": null,
   "metadata": {},
   "outputs": [],
   "source": [
    "np.mean(train['age'].values)"
   ]
  },
  {
   "cell_type": "code",
   "execution_count": 304,
   "metadata": {},
   "outputs": [],
   "source": [
    "from implicit.als import AlternatingLeastSquares\n",
    "from scipy.sparse import csr_matrix"
   ]
  },
  {
   "cell_type": "code",
   "execution_count": 243,
   "metadata": {},
   "outputs": [],
   "source": [
    "user_weights = groups.groupby('uid').gid.nunique()\n",
    "user2weight = {u:w for u,w in zip(user_weights.index.values, user_weights.values)}"
   ]
  },
  {
   "cell_type": "code",
   "execution_count": 305,
   "metadata": {},
   "outputs": [],
   "source": [
    "row = groups['gid'].values\n",
    "col = groups['uid'].values\n",
    "data = [user2weight[u] for u in col]"
   ]
  },
  {
   "cell_type": "code",
   "execution_count": 375,
   "metadata": {},
   "outputs": [
    {
     "data": {
      "text/plain": [
       "(array([1.784e+03, 1.130e+03, 8.550e+02, 7.280e+02, 7.080e+02, 6.500e+02,\n",
       "        6.140e+02, 5.250e+02, 5.000e+02, 5.270e+02, 4.330e+02, 4.150e+02,\n",
       "        2.970e+02, 4.240e+02, 3.910e+02, 3.470e+02, 3.270e+02, 3.050e+02,\n",
       "        2.900e+02, 3.050e+02, 2.970e+02, 3.000e+02, 2.530e+02, 2.820e+02,\n",
       "        1.690e+02, 2.260e+02, 2.400e+02, 2.170e+02, 2.520e+02, 2.020e+02,\n",
       "        1.840e+02, 1.850e+02, 2.000e+02, 6.029e+03, 0.000e+00, 0.000e+00,\n",
       "        0.000e+00, 0.000e+00, 0.000e+00, 0.000e+00, 1.000e+00, 0.000e+00,\n",
       "        0.000e+00, 0.000e+00, 0.000e+00, 0.000e+00, 0.000e+00, 0.000e+00,\n",
       "        0.000e+00, 1.000e+00]),\n",
       " array([  1.  ,   3.92,   6.84,   9.76,  12.68,  15.6 ,  18.52,  21.44,\n",
       "         24.36,  27.28,  30.2 ,  33.12,  36.04,  38.96,  41.88,  44.8 ,\n",
       "         47.72,  50.64,  53.56,  56.48,  59.4 ,  62.32,  65.24,  68.16,\n",
       "         71.08,  74.  ,  76.92,  79.84,  82.76,  85.68,  88.6 ,  91.52,\n",
       "         94.44,  97.36, 100.28, 103.2 , 106.12, 109.04, 111.96, 114.88,\n",
       "        117.8 , 120.72, 123.64, 126.56, 129.48, 132.4 , 135.32, 138.24,\n",
       "        141.16, 144.08, 147.  ]),\n",
       " <BarContainer object of 50 artists>)"
      ]
     },
     "execution_count": 375,
     "metadata": {},
     "output_type": "execute_result"
    },
    {
     "data": {
      "image/png": "[encoded data removed]",
      "text/plain": [
       "<Figure size 432x288 with 1 Axes>"
      ]
     },
     "metadata": {
      "needs_background": "light"
     },
     "output_type": "display_data"
    }
   ],
   "source": [
    "plt.hist(user_weights.values, bins=50)"
   ]
  },
  {
   "cell_type": "code",
   "execution_count": 276,
   "metadata": {},
   "outputs": [
    {
     "data": {
      "text/plain": [
       "(362032, 120055)"
      ]
     },
     "execution_count": 276,
     "metadata": {},
     "output_type": "execute_result"
    }
   ],
   "source": [
    "max(row), max(col)"
   ]
  },
  {
   "cell_type": "code",
   "execution_count": 306,
   "metadata": {},
   "outputs": [],
   "source": [
    "train_g2u = csr_matrix((data, (row, col)), shape=(362033, 120056))"
   ]
  },
  {
   "cell_type": "code",
   "execution_count": 307,
   "metadata": {},
   "outputs": [
    {
     "data": {
      "application/vnd.jupyter.widget-view+json": {
       "model_id": "930eeb9dc5a54ff397237f611bb21377",
       "version_major": 2,
       "version_minor": 0
      },
      "text/plain": [
       "  0%|          | 0/15 [00:00<?, ?it/s]"
      ]
     },
     "metadata": {},
     "output_type": "display_data"
    }
   ],
   "source": [
    "als = AlternatingLeastSquares(factors=32, random_state=0)\n",
    "als.fit(train_g2u)"
   ]
  },
  {
   "cell_type": "code",
   "execution_count": 308,
   "metadata": {},
   "outputs": [
    {
     "data": {
      "text/plain": [
       "(362033, 32)"
      ]
     },
     "execution_count": 308,
     "metadata": {},
     "output_type": "execute_result"
    }
   ],
   "source": [
    "als.item_factors.shape"
   ]
  },
  {
   "cell_type": "code",
   "execution_count": 309,
   "metadata": {},
   "outputs": [
    {
     "data": {
      "text/plain": [
       "(120056, 32)"
      ]
     },
     "execution_count": 309,
     "metadata": {},
     "output_type": "execute_result"
    }
   ],
   "source": [
    "als.user_factors.shape"
   ]
  },
  {
   "cell_type": "code",
   "execution_count": 310,
   "metadata": {},
   "outputs": [],
   "source": [
    "from sklearn.neighbors import KNeighborsRegressor"
   ]
  },
  {
   "cell_type": "code",
   "execution_count": 311,
   "metadata": {},
   "outputs": [],
   "source": [
    "N = 10000"
   ]
  },
  {
   "cell_type": "code",
   "execution_count": 312,
   "metadata": {},
   "outputs": [
    {
     "data": {
      "text/plain": [
       "((29469, 32), (29469,))"
      ]
     },
     "execution_count": 312,
     "metadata": {},
     "output_type": "execute_result"
    }
   ],
   "source": [
    "user_embs_for_knn = np.array([als.user_factors[u] for u in train['uid'].values])\n",
    "knn_age = train['age'].values\n",
    "user_embs_for_knn.shape, knn_age.shape"
   ]
  },
  {
   "cell_type": "code",
   "execution_count": 321,
   "metadata": {},
   "outputs": [],
   "source": [
    "def calc_embedding_by_user_groups(user_groups: np.array):\n",
    "    groups_embeds = als.item_factors[user_groups]\n",
    "    user_embed = np.mean(groups_embeds, axis=0)\n",
    "    return user_embed"
   ]
  },
  {
   "cell_type": "code",
   "execution_count": 351,
   "metadata": {},
   "outputs": [
    {
     "name": "stdout",
     "output_type": "stream",
     "text": [
      "31.426724404225716\n",
      "CPU times: user 6.27 ms, sys: 2.66 ms, total: 8.93 ms\n",
      "Wall time: 2.73 ms\n"
     ]
    }
   ],
   "source": [
    "%%time\n",
    "for x in user_embs_for_knn[N:]:\n",
    "    print(float(knn.predict([x])))\n",
    "    break"
   ]
  },
  {
   "cell_type": "code",
   "execution_count": 376,
   "metadata": {},
   "outputs": [
    {
     "name": "stdout",
     "output_type": "stream",
     "text": [
      "CPU times: user 28.7 s, sys: 7.59 s, total: 36.3 s\n",
      "Wall time: 16.7 s\n"
     ]
    },
    {
     "data": {
      "text/plain": [
       "7.627103383099767"
      ]
     },
     "execution_count": 376,
     "metadata": {},
     "output_type": "execute_result"
    }
   ],
   "source": [
    "%%time\n",
    "knn = KNeighborsRegressor(weights='distance', n_neighbors=25)\n",
    "knn.fit(user_embs_for_knn, knn_age)\n",
    "\n",
    "knn_age_predicted = knn.predict(user_embs_for_knn)\n",
    "\n",
    "res = np.mean((knn_age_predicted - knn_age) ** 2) ** 0.5\n",
    "res"
   ]
  },
  {
   "cell_type": "code",
   "execution_count": 344,
   "metadata": {},
   "outputs": [
    {
     "name": "stdout",
     "output_type": "stream",
     "text": [
      "CPU times: user 6.41 s, sys: 1.9 s, total: 8.32 s\n",
      "Wall time: 3.66 s\n"
     ]
    },
    {
     "data": {
      "text/plain": [
       "10.719051118447588"
      ]
     },
     "execution_count": 344,
     "metadata": {},
     "output_type": "execute_result"
    }
   ],
   "source": [
    "%%time\n",
    "knn = KNeighborsRegressor(weights='distance', n_neighbors=25)\n",
    "knn.fit(user_embs_for_knn[:N], knn_age[:N])\n",
    "\n",
    "knn_age_predicted = knn.predict(user_embs_for_knn[N:])\n",
    "\n",
    "res = np.mean((knn_age_predicted - knn_age[N:]) ** 2) ** 0.5\n",
    "res"
   ]
  },
  {
   "cell_type": "code",
   "execution_count": 348,
   "metadata": {},
   "outputs": [
    {
     "data": {
      "text/plain": [
       "(160831, 1)"
      ]
     },
     "execution_count": 348,
     "metadata": {},
     "output_type": "execute_result"
    }
   ],
   "source": [
    "pd.read_csv('../submision/data/train_groups.csv').values.shape"
   ]
  },
  {
   "cell_type": "code",
   "execution_count": 326,
   "metadata": {},
   "outputs": [],
   "source": [
    "known_groups = np.unique(groups['gid'].values)"
   ]
  },
  {
   "cell_type": "code",
   "execution_count": 329,
   "metadata": {},
   "outputs": [],
   "source": [
    "pd.DataFrame(known_groups).to_csv(\"../submision/data/train_groups.csv\", index=None, index_label=None)"
   ]
  },
  {
   "cell_type": "code",
   "execution_count": 330,
   "metadata": {},
   "outputs": [
    {
     "data": {
      "text/plain": [
       "(29469, 32)"
      ]
     },
     "execution_count": 330,
     "metadata": {},
     "output_type": "execute_result"
    }
   ],
   "source": [
    "user_embs_for_knn.shape"
   ]
  },
  {
   "cell_type": "code",
   "execution_count": 331,
   "metadata": {},
   "outputs": [
    {
     "data": {
      "text/plain": [
       "(29469,)"
      ]
     },
     "execution_count": 331,
     "metadata": {},
     "output_type": "execute_result"
    }
   ],
   "source": [
    "train['uid'].shape"
   ]
  },
  {
   "cell_type": "code",
   "execution_count": 332,
   "metadata": {},
   "outputs": [],
   "source": [
    "pd.DataFrame(train).to_csv(\"../submision/data/train.csv\", index=None, index_label=None)"
   ]
  },
  {
   "cell_type": "code",
   "execution_count": 336,
   "metadata": {},
   "outputs": [],
   "source": [
    "pd.DataFrame(user_embs_for_knn).to_csv(\"../submision/data/train_als_user_embeddings.csv\", index=None, index_label=None)"
   ]
  },
  {
   "cell_type": "code",
   "execution_count": 340,
   "metadata": {},
   "outputs": [],
   "source": [
    "group_embds_for_knn = als.item_factors[known_groups]"
   ]
  },
  {
   "cell_type": "code",
   "execution_count": 341,
   "metadata": {},
   "outputs": [
    {
     "data": {
      "text/plain": [
       "(160831, 32)"
      ]
     },
     "execution_count": 341,
     "metadata": {},
     "output_type": "execute_result"
    }
   ],
   "source": [
    "group_embds_for_knn.shape"
   ]
  },
  {
   "cell_type": "code",
   "execution_count": 339,
   "metadata": {},
   "outputs": [
    {
     "data": {
      "text/plain": [
       "(29469, 32)"
      ]
     },
     "execution_count": 339,
     "metadata": {},
     "output_type": "execute_result"
    }
   ],
   "source": [
    "user_embs_for_knn.shape"
   ]
  },
  {
   "cell_type": "code",
   "execution_count": 342,
   "metadata": {},
   "outputs": [],
   "source": [
    "pd.DataFrame(group_embds_for_knn).to_csv(\"../submision/data/train_als_group_embeddings.csv\", index=None, index_label=None)"
   ]
  },
  {
   "cell_type": "code",
   "execution_count": 345,
   "metadata": {},
   "outputs": [
    {
     "data": {
      "text/plain": [
       "array([[-0.03352285,  0.01173679, -0.00479133, -0.00079793,  0.00691519,\n",
       "         0.02763588, -0.00387738, -0.02486044, -0.00412413, -0.01828809,\n",
       "         0.03304713,  0.00094347,  0.03785113, -0.00548973,  0.00034857,\n",
       "        -0.02208665,  0.00284895,  0.03267703, -0.00689618,  0.02914728,\n",
       "         0.01545629,  0.01312421,  0.01298617,  0.01491231, -0.01607238,\n",
       "        -0.00461709, -0.00313677,  0.00893403,  0.01912749,  0.04901997,\n",
       "        -0.00721672,  0.02671472],\n",
       "       [ 0.01577521, -0.00342512, -0.03403663, -0.00619824, -0.01844874,\n",
       "         0.02002376, -0.01083123, -0.01982027, -0.02211998,  0.02357365,\n",
       "         0.02775149,  0.00207958,  0.00818852,  0.0136739 ,  0.01661555,\n",
       "         0.00561788, -0.01665961, -0.01122996, -0.00927404, -0.0091855 ,\n",
       "         0.01583714,  0.01119312,  0.01644872, -0.00017456,  0.01745618,\n",
       "         0.00827894,  0.00624486,  0.00029817,  0.00274924,  0.02194361,\n",
       "         0.00729352,  0.02449917]], dtype=float32)"
      ]
     },
     "execution_count": 345,
     "metadata": {},
     "output_type": "execute_result"
    }
   ],
   "source": [
    "als.item_factors[[1,2]]"
   ]
  },
  {
   "cell_type": "code",
   "execution_count": 368,
   "metadata": {},
   "outputs": [
    {
     "data": {
      "text/plain": [
       "array([[ 0.00620317,  0.01065773, -0.01442813, ...,  0.02823488,\n",
       "         0.02111417,  0.0143768 ],\n",
       "       [ 0.6269256 , -0.19519456,  0.26703796, ...,  0.19338019,\n",
       "         0.8778059 , -0.30893627],\n",
       "       [ 0.        ,  0.        ,  0.        , ...,  0.        ,\n",
       "         0.        ,  0.        ],\n",
       "       ...,\n",
       "       [ 0.        ,  0.        ,  0.        , ...,  0.        ,\n",
       "         0.        ,  0.        ],\n",
       "       [ 0.02584702,  0.06221347, -0.00454262, ...,  0.01528523,\n",
       "         0.01898878,  0.09596544],\n",
       "       [-0.5718822 ,  0.6594821 ,  0.07554404, ..., -1.6461611 ,\n",
       "         0.64993376, -1.061764  ]])"
      ]
     },
     "execution_count": 368,
     "metadata": {},
     "output_type": "execute_result"
    }
   ],
   "source": [
    "pd.read_csv('../submision/data/train_als_user_embeddings.csv').values"
   ]
  },
  {
   "cell_type": "code",
   "execution_count": 380,
   "metadata": {},
   "outputs": [],
   "source": [
    "friends2way = pd.DataFrame()\n",
    "friends2way['uid'] = list(friends['uid']) + list(friends['fuid'])\n",
    "friends2way['fuid'] = list(friends['fuid']) + list(friends['uid'])"
   ]
  },
  {
   "cell_type": "code",
   "execution_count": 381,
   "metadata": {},
   "outputs": [
    {
     "data": {
      "text/plain": [
       "(8219754, 2)"
      ]
     },
     "execution_count": 381,
     "metadata": {},
     "output_type": "execute_result"
    }
   ],
   "source": [
    "friends2way.shape"
   ]
  },
  {
   "cell_type": "code",
   "execution_count": 383,
   "metadata": {},
   "outputs": [],
   "source": [
    "friend_weights = friends2way.groupby('uid').fuid.nunique()\n",
    "friend2weight = {u:w for u,w in zip(friend_weights.index.values, friend_weights.values)}"
   ]
  },
  {
   "cell_type": "code",
   "execution_count": 387,
   "metadata": {},
   "outputs": [],
   "source": [
    "rowf = friends2way['fuid'].values\n",
    "colf = friends2way['uid'].values\n",
    "dataf = [friend2weight[u] for u in colf]"
   ]
  },
  {
   "cell_type": "code",
   "execution_count": 389,
   "metadata": {},
   "outputs": [
    {
     "data": {
      "text/plain": [
       "(array([7.1364e+04, 2.3933e+04, 1.0380e+04, 2.4480e+03, 6.8500e+02,\n",
       "        3.7100e+02, 2.3300e+02, 2.0600e+02, 1.2700e+02, 9.4000e+01,\n",
       "        7.8000e+01, 7.3000e+01, 5.8000e+01, 4.5000e+01, 4.2000e+01,\n",
       "        2.8000e+01, 2.4000e+01, 2.2000e+01, 1.4000e+01, 1.2000e+01,\n",
       "        2.1000e+01, 7.0000e+00, 1.0000e+01, 1.0000e+01, 1.0000e+01,\n",
       "        7.0000e+00, 3.0000e+00, 6.0000e+00, 5.0000e+00, 4.0000e+00,\n",
       "        3.0000e+00, 3.0000e+00, 5.0000e+00, 2.0000e+00, 1.0000e+00,\n",
       "        3.0000e+00, 0.0000e+00, 1.0000e+00, 3.0000e+00, 2.0000e+00,\n",
       "        1.0000e+00, 2.0000e+00, 1.0000e+00, 1.0000e+00, 0.0000e+00,\n",
       "        0.0000e+00, 1.0000e+00, 1.0000e+00, 0.0000e+00, 2.0000e+00]),\n",
       " array([1.00000e+00, 5.55200e+01, 1.10040e+02, 1.64560e+02, 2.19080e+02,\n",
       "        2.73600e+02, 3.28120e+02, 3.82640e+02, 4.37160e+02, 4.91680e+02,\n",
       "        5.46200e+02, 6.00720e+02, 6.55240e+02, 7.09760e+02, 7.64280e+02,\n",
       "        8.18800e+02, 8.73320e+02, 9.27840e+02, 9.82360e+02, 1.03688e+03,\n",
       "        1.09140e+03, 1.14592e+03, 1.20044e+03, 1.25496e+03, 1.30948e+03,\n",
       "        1.36400e+03, 1.41852e+03, 1.47304e+03, 1.52756e+03, 1.58208e+03,\n",
       "        1.63660e+03, 1.69112e+03, 1.74564e+03, 1.80016e+03, 1.85468e+03,\n",
       "        1.90920e+03, 1.96372e+03, 2.01824e+03, 2.07276e+03, 2.12728e+03,\n",
       "        2.18180e+03, 2.23632e+03, 2.29084e+03, 2.34536e+03, 2.39988e+03,\n",
       "        2.45440e+03, 2.50892e+03, 2.56344e+03, 2.61796e+03, 2.67248e+03,\n",
       "        2.72700e+03]),\n",
       " <BarContainer object of 50 artists>)"
      ]
     },
     "execution_count": 389,
     "metadata": {},
     "output_type": "execute_result"
    },
    {
     "data": {
      "image/png": "[encoded data removed]",
      "text/plain": [
       "<Figure size 432x288 with 1 Axes>"
      ]
     },
     "metadata": {
      "needs_background": "light"
     },
     "output_type": "display_data"
    }
   ],
   "source": [
    "plt.hist(friend_weights.values, bins=50)"
   ]
  },
  {
   "cell_type": "code",
   "execution_count": 390,
   "metadata": {},
   "outputs": [
    {
     "data": {
      "text/plain": [
       "(120060, 120060)"
      ]
     },
     "execution_count": 390,
     "metadata": {},
     "output_type": "execute_result"
    }
   ],
   "source": [
    "max(rowf), max(colf)"
   ]
  },
  {
   "cell_type": "code",
   "execution_count": 392,
   "metadata": {},
   "outputs": [],
   "source": [
    "train_f2u = csr_matrix((dataf, (rowf, colf)), shape=(120061, 120061))"
   ]
  },
  {
   "cell_type": "code",
   "execution_count": 393,
   "metadata": {},
   "outputs": [
    {
     "data": {
      "application/vnd.jupyter.widget-view+json": {
       "model_id": "9297819f38d442b6a84806ff5ceb7d8c",
       "version_major": 2,
       "version_minor": 0
      },
      "text/plain": [
       "  0%|          | 0/15 [00:00<?, ?it/s]"
      ]
     },
     "metadata": {},
     "output_type": "display_data"
    }
   ],
   "source": [
    "als = AlternatingLeastSquares(factors=16, random_state=0)\n",
    "als.fit(train_f2u)"
   ]
  },
  {
   "cell_type": "code",
   "execution_count": 394,
   "metadata": {},
   "outputs": [
    {
     "data": {
      "text/plain": [
       "(120061, 16)"
      ]
     },
     "execution_count": 394,
     "metadata": {},
     "output_type": "execute_result"
    }
   ],
   "source": [
    "als.item_factors.shape"
   ]
  },
  {
   "cell_type": "code",
   "execution_count": 395,
   "metadata": {},
   "outputs": [
    {
     "data": {
      "text/plain": [
       "(120061, 16)"
      ]
     },
     "execution_count": 395,
     "metadata": {},
     "output_type": "execute_result"
    }
   ],
   "source": [
    "als.user_factors.shape"
   ]
  },
  {
   "cell_type": "code",
   "execution_count": 396,
   "metadata": {},
   "outputs": [],
   "source": [
    "from sklearn.neighbors import KNeighborsRegressor"
   ]
  },
  {
   "cell_type": "code",
   "execution_count": 397,
   "metadata": {},
   "outputs": [],
   "source": [
    "N = 10000"
   ]
  },
  {
   "cell_type": "code",
   "execution_count": 398,
   "metadata": {},
   "outputs": [
    {
     "data": {
      "text/plain": [
       "((29469, 16), (29469,))"
      ]
     },
     "execution_count": 398,
     "metadata": {},
     "output_type": "execute_result"
    }
   ],
   "source": [
    "user_embs_for_knn = np.array([als.user_factors[u] for u in train['uid'].values])\n",
    "knn_age = train['age'].values\n",
    "user_embs_for_knn.shape, knn_age.shape"
   ]
  },
  {
   "cell_type": "code",
   "execution_count": 399,
   "metadata": {},
   "outputs": [],
   "source": [
    "def calc_embedding_by_user_friends(user_friends: np.array):\n",
    "    groups_embeds = als.item_factors[user_friends]\n",
    "    user_embed = np.mean(groups_embeds, axis=0)\n",
    "    return user_embed"
   ]
  },
  {
   "cell_type": "code",
   "execution_count": 351,
   "metadata": {},
   "outputs": [
    {
     "name": "stdout",
     "output_type": "stream",
     "text": [
      "31.426724404225716\n",
      "CPU times: user 6.27 ms, sys: 2.66 ms, total: 8.93 ms\n",
      "Wall time: 2.73 ms\n"
     ]
    }
   ],
   "source": [
    "%%time\n",
    "for x in user_embs_for_knn[N:]:\n",
    "    print(float(knn.predict([x])))\n",
    "    break"
   ]
  },
  {
   "cell_type": "code",
   "execution_count": 400,
   "metadata": {},
   "outputs": [
    {
     "name": "stdout",
     "output_type": "stream",
     "text": [
      "CPU times: user 29.5 s, sys: 6.69 s, total: 36.1 s\n",
      "Wall time: 17.5 s\n"
     ]
    },
    {
     "data": {
      "text/plain": [
       "4.1398631323867425"
      ]
     },
     "execution_count": 400,
     "metadata": {},
     "output_type": "execute_result"
    }
   ],
   "source": [
    "%%time\n",
    "knn = KNeighborsRegressor(weights='distance', n_neighbors=25)\n",
    "knn.fit(user_embs_for_knn, knn_age)\n",
    "\n",
    "knn_age_predicted = knn.predict(user_embs_for_knn)\n",
    "\n",
    "res = np.mean((knn_age_predicted - knn_age) ** 2) ** 0.5\n",
    "res"
   ]
  },
  {
   "cell_type": "code",
   "execution_count": 403,
   "metadata": {},
   "outputs": [
    {
     "name": "stdout",
     "output_type": "stream",
     "text": [
      "5 10.627967069866244\n",
      "10 10.174975948579815\n",
      "15 10.13221329894644\n",
      "20 10.093566655497026\n",
      "25 10.090185866004456\n",
      "50 10.145900310413072\n",
      "100 10.230385974242639\n",
      "CPU times: user 49.6 s, sys: 12.6 s, total: 1min 2s\n",
      "Wall time: 31.3 s\n"
     ]
    }
   ],
   "source": [
    "%%time\n",
    "\n",
    "for ng in [5,10,15,20,25,50,100]:\n",
    "    knn = KNeighborsRegressor(weights='distance', n_neighbors=ng)\n",
    "    knn.fit(user_embs_for_knn[:N], knn_age[:N])\n",
    "\n",
    "    knn_age_predicted = knn.predict(user_embs_for_knn[N:])\n",
    "\n",
    "    res = np.mean((knn_age_predicted - knn_age[N:]) ** 2) ** 0.5\n",
    "    print(ng, res)"
   ]
  },
  {
   "cell_type": "code",
   "execution_count": 404,
   "metadata": {},
   "outputs": [],
   "source": [
    "known_friends = np.unique(friends2way['uid'].values)"
   ]
  },
  {
   "cell_type": "code",
   "execution_count": 405,
   "metadata": {},
   "outputs": [],
   "source": [
    "pd.DataFrame(known_friends).to_csv(\"../submision/data/train_friends.csv\", index=None, index_label=None)"
   ]
  },
  {
   "cell_type": "code",
   "execution_count": 406,
   "metadata": {},
   "outputs": [],
   "source": [
    "pd.DataFrame(user_embs_for_knn).to_csv(\"../submision/data/train_friends_als_user_embeddings.csv\", index=None, index_label=None)"
   ]
  },
  {
   "cell_type": "code",
   "execution_count": 407,
   "metadata": {},
   "outputs": [],
   "source": [
    "friends_embds_for_knn = als.item_factors[known_friends]"
   ]
  },
  {
   "cell_type": "code",
   "execution_count": 408,
   "metadata": {},
   "outputs": [],
   "source": [
    "pd.DataFrame(friends_embds_for_knn).to_csv(\"../submision/data/train_friends_als_friends_embeddings.csv\", index=None, index_label=None)"
   ]
  },
  {
   "cell_type": "code",
   "execution_count": 421,
   "metadata": {},
   "outputs": [],
   "source": [
    "from sklearn.neural_network import MLPRegressor"
   ]
  },
  {
   "cell_type": "code",
   "execution_count": 445,
   "metadata": {},
   "outputs": [],
   "source": [
    "uid2age =  {u:a for u,a in zip (train['uid'].values, train['age'].values)}"
   ]
  },
  {
   "cell_type": "code",
   "execution_count": 514,
   "metadata": {},
   "outputs": [],
   "source": [
    "edu_features = []\n",
    "edu_ids = edu['uid']\n",
    "edu_ages = np.array([uid2age[u] for u in edu_ids])\n",
    "for x in edu.iterrows():\n",
    "    x = x[1]\n",
    "    get_2000 = lambda name: x[name] - 2000 if not np.isnan(x[name]) else 0\n",
    "    make_ind = lambda name: float(np.isnan(x[name]))\n",
    "    features_ind = [make_ind('school_education')]\n",
    "    for i in range(1, 8):\n",
    "        features_ind.append(make_ind('graduation_{}'.format(i)))\n",
    "    features = [get_2000('school_education')]\n",
    "    for i in range(1, 8):\n",
    "        features.append(get_2000('graduation_{}'.format(i)))\n",
    "    \n",
    "    features.append(friend2weight.get(int(x['uid']), 0))\n",
    "    features.append(user2weight.get(int(x['uid']), 0))\n",
    "    f = features_ind + features + list(als.user_factors[int(x['uid'])])\n",
    "    edu_features.append(f)"
   ]
  },
  {
   "cell_type": "code",
   "execution_count": 519,
   "metadata": {},
   "outputs": [
    {
     "data": {
      "text/plain": [
       "(120061, 16)"
      ]
     },
     "execution_count": 519,
     "metadata": {},
     "output_type": "execute_result"
    }
   ],
   "source": [
    "als.user_factors.shape"
   ]
  },
  {
   "cell_type": "code",
   "execution_count": 492,
   "metadata": {},
   "outputs": [],
   "source": [
    "model = MLPRegressor(hidden_layer_sizes=(32, 32, 32), random_state=0, )"
   ]
  },
  {
   "cell_type": "code",
   "execution_count": 493,
   "metadata": {},
   "outputs": [
    {
     "data": {
      "text/plain": [
       "MLPRegressor(hidden_layer_sizes=(32, 32, 32), random_state=0)"
      ]
     },
     "execution_count": 493,
     "metadata": {},
     "output_type": "execute_result"
    }
   ],
   "source": [
    "model.fit(edu_features[:2 * N], edu_ages[:2 * N])"
   ]
  },
  {
   "cell_type": "code",
   "execution_count": 494,
   "metadata": {},
   "outputs": [],
   "source": [
    "predict = model.predict(edu_features[2 * N:])"
   ]
  },
  {
   "cell_type": "code",
   "execution_count": 496,
   "metadata": {},
   "outputs": [
    {
     "data": {
      "text/plain": [
       "11.032558720898944"
      ]
     },
     "execution_count": 496,
     "metadata": {},
     "output_type": "execute_result"
    }
   ],
   "source": [
    "np.mean((predict - edu_ages[2 * N:]) ** 2) ** 0.5"
   ]
  },
  {
   "cell_type": "code",
   "execution_count": 486,
   "metadata": {},
   "outputs": [],
   "source": [
    "import catboost"
   ]
  },
  {
   "cell_type": "code",
   "execution_count": 498,
   "metadata": {},
   "outputs": [],
   "source": [
    "model = catboost.CatBoostRegressor(random_state=0)"
   ]
  },
  {
   "cell_type": "code",
   "execution_count": 515,
   "metadata": {},
   "outputs": [
    {
     "name": "stdout",
     "output_type": "stream",
     "text": [
      "[ 5323  2124 13065 ... 24015  9191 14056] [ 3836  8618  7370 ...  9845 10799  2732] 25000 29469\n"
     ]
    }
   ],
   "source": [
    "edu_features = np.array(edu_features)\n",
    "M = len(edu_features)\n",
    "ids = np.arange(M)\n",
    "np.random.seed(0)\n",
    "np.random.shuffle(ids)\n",
    "K = 25000\n",
    "train_ids = ids[:K]\n",
    "val_ids = ids[K:]\n",
    "print(train_ids, val_ids, K, M)"
   ]
  },
  {
   "cell_type": "code",
   "execution_count": 516,
   "metadata": {
    "scrolled": true
   },
   "outputs": [
    {
     "name": "stdout",
     "output_type": "stream",
     "text": [
      "Learning rate set to 0.084664\n",
      "0:\tlearn: 12.7524615\ttest: 12.7854503\tbest: 12.7854503 (0)\ttotal: 6.54ms\tremaining: 6.54s\n",
      "1:\tlearn: 12.4500643\ttest: 12.4726161\tbest: 12.4726161 (1)\ttotal: 11ms\tremaining: 5.5s\n",
      "2:\tlearn: 12.1762901\ttest: 12.1853468\tbest: 12.1853468 (2)\ttotal: 14.4ms\tremaining: 4.79s\n",
      "3:\tlearn: 11.9324345\ttest: 11.9334727\tbest: 11.9334727 (3)\ttotal: 18.2ms\tremaining: 4.54s\n",
      "4:\tlearn: 11.7170380\ttest: 11.7091253\tbest: 11.7091253 (4)\ttotal: 22.8ms\tremaining: 4.53s\n",
      "5:\tlearn: 11.5254365\ttest: 11.5154760\tbest: 11.5154760 (5)\ttotal: 26.3ms\tremaining: 4.36s\n",
      "6:\tlearn: 11.3582196\ttest: 11.3425556\tbest: 11.3425556 (6)\ttotal: 29.7ms\tremaining: 4.21s\n",
      "7:\tlearn: 11.2064271\ttest: 11.1901554\tbest: 11.1901554 (7)\ttotal: 33.1ms\tremaining: 4.1s\n",
      "8:\tlearn: 11.0686267\ttest: 11.0491038\tbest: 11.0491038 (8)\ttotal: 37.7ms\tremaining: 4.15s\n",
      "9:\tlearn: 10.9454048\ttest: 10.9291599\tbest: 10.9291599 (9)\ttotal: 41ms\tremaining: 4.05s\n",
      "10:\tlearn: 10.8339030\ttest: 10.8181560\tbest: 10.8181560 (10)\ttotal: 44.2ms\tremaining: 3.97s\n",
      "11:\tlearn: 10.7272890\ttest: 10.7131714\tbest: 10.7131714 (11)\ttotal: 47.6ms\tremaining: 3.92s\n",
      "12:\tlearn: 10.6392782\ttest: 10.6229685\tbest: 10.6229685 (12)\ttotal: 52.3ms\tremaining: 3.97s\n",
      "13:\tlearn: 10.5607387\ttest: 10.5407899\tbest: 10.5407899 (13)\ttotal: 55.8ms\tremaining: 3.93s\n",
      "14:\tlearn: 10.4848093\ttest: 10.4627286\tbest: 10.4627286 (14)\ttotal: 60.3ms\tremaining: 3.96s\n",
      "15:\tlearn: 10.4137494\ttest: 10.3912104\tbest: 10.3912104 (15)\ttotal: 63.5ms\tremaining: 3.9s\n",
      "16:\tlearn: 10.3503285\ttest: 10.3318395\tbest: 10.3318395 (16)\ttotal: 67.8ms\tremaining: 3.92s\n",
      "17:\tlearn: 10.2822075\ttest: 10.2659980\tbest: 10.2659980 (17)\ttotal: 71.4ms\tremaining: 3.89s\n",
      "18:\tlearn: 10.2226189\ttest: 10.2125015\tbest: 10.2125015 (18)\ttotal: 74.5ms\tremaining: 3.85s\n",
      "19:\tlearn: 10.1779286\ttest: 10.1695081\tbest: 10.1695081 (19)\ttotal: 78ms\tremaining: 3.82s\n",
      "20:\tlearn: 10.1399106\ttest: 10.1321879\tbest: 10.1321879 (20)\ttotal: 81.3ms\tremaining: 3.79s\n",
      "21:\tlearn: 10.0890899\ttest: 10.0861311\tbest: 10.0861311 (21)\ttotal: 84.6ms\tremaining: 3.76s\n",
      "22:\tlearn: 10.0544431\ttest: 10.0547699\tbest: 10.0547699 (22)\ttotal: 88ms\tremaining: 3.74s\n",
      "23:\tlearn: 10.0245071\ttest: 10.0272533\tbest: 10.0272533 (23)\ttotal: 91.3ms\tremaining: 3.71s\n",
      "24:\tlearn: 9.9932271\ttest: 9.9988917\tbest: 9.9988917 (24)\ttotal: 94.9ms\tremaining: 3.7s\n",
      "25:\tlearn: 9.9657092\ttest: 9.9735666\tbest: 9.9735666 (25)\ttotal: 98.9ms\tremaining: 3.71s\n",
      "26:\tlearn: 9.9387435\ttest: 9.9483276\tbest: 9.9483276 (26)\ttotal: 102ms\tremaining: 3.67s\n",
      "27:\tlearn: 9.9049519\ttest: 9.9196001\tbest: 9.9196001 (27)\ttotal: 105ms\tremaining: 3.66s\n",
      "28:\tlearn: 9.8735823\ttest: 9.8903811\tbest: 9.8903811 (28)\ttotal: 109ms\tremaining: 3.64s\n",
      "29:\tlearn: 9.8473672\ttest: 9.8622744\tbest: 9.8622744 (29)\ttotal: 112ms\tremaining: 3.61s\n",
      "30:\tlearn: 9.8149628\ttest: 9.8280515\tbest: 9.8280515 (30)\ttotal: 115ms\tremaining: 3.61s\n",
      "31:\tlearn: 9.7875739\ttest: 9.8047276\tbest: 9.8047276 (31)\ttotal: 120ms\tremaining: 3.63s\n",
      "32:\tlearn: 9.7687431\ttest: 9.7903342\tbest: 9.7903342 (32)\ttotal: 123ms\tremaining: 3.62s\n",
      "33:\tlearn: 9.7533041\ttest: 9.7769905\tbest: 9.7769905 (33)\ttotal: 127ms\tremaining: 3.6s\n",
      "34:\tlearn: 9.7359963\ttest: 9.7593399\tbest: 9.7593399 (34)\ttotal: 130ms\tremaining: 3.58s\n",
      "35:\tlearn: 9.7183419\ttest: 9.7449878\tbest: 9.7449878 (35)\ttotal: 134ms\tremaining: 3.58s\n",
      "36:\tlearn: 9.7031145\ttest: 9.7332135\tbest: 9.7332135 (36)\ttotal: 137ms\tremaining: 3.56s\n",
      "37:\tlearn: 9.6876289\ttest: 9.7197508\tbest: 9.7197508 (37)\ttotal: 140ms\tremaining: 3.55s\n",
      "38:\tlearn: 9.6710964\ttest: 9.7043869\tbest: 9.7043869 (38)\ttotal: 143ms\tremaining: 3.54s\n",
      "39:\tlearn: 9.6447390\ttest: 9.6790788\tbest: 9.6790788 (39)\ttotal: 147ms\tremaining: 3.53s\n",
      "40:\tlearn: 9.6349516\ttest: 9.6714015\tbest: 9.6714015 (40)\ttotal: 150ms\tremaining: 3.51s\n",
      "41:\tlearn: 9.6171335\ttest: 9.6531932\tbest: 9.6531932 (41)\ttotal: 154ms\tremaining: 3.5s\n",
      "42:\tlearn: 9.6074460\ttest: 9.6457586\tbest: 9.6457586 (42)\ttotal: 157ms\tremaining: 3.49s\n",
      "43:\tlearn: 9.5944018\ttest: 9.6308275\tbest: 9.6308275 (43)\ttotal: 160ms\tremaining: 3.48s\n",
      "44:\tlearn: 9.5757803\ttest: 9.6143614\tbest: 9.6143614 (44)\ttotal: 165ms\tremaining: 3.49s\n",
      "45:\tlearn: 9.5641916\ttest: 9.6053294\tbest: 9.6053294 (45)\ttotal: 168ms\tremaining: 3.48s\n",
      "46:\tlearn: 9.5519403\ttest: 9.5940665\tbest: 9.5940665 (46)\ttotal: 171ms\tremaining: 3.47s\n",
      "47:\tlearn: 9.5412202\ttest: 9.5829526\tbest: 9.5829526 (47)\ttotal: 174ms\tremaining: 3.46s\n",
      "48:\tlearn: 9.5246439\ttest: 9.5647089\tbest: 9.5647089 (48)\ttotal: 178ms\tremaining: 3.46s\n",
      "49:\tlearn: 9.5151893\ttest: 9.5570177\tbest: 9.5570177 (49)\ttotal: 182ms\tremaining: 3.45s\n",
      "50:\tlearn: 9.5027883\ttest: 9.5473680\tbest: 9.5473680 (50)\ttotal: 187ms\tremaining: 3.49s\n",
      "51:\tlearn: 9.4837971\ttest: 9.5254080\tbest: 9.5254080 (51)\ttotal: 193ms\tremaining: 3.52s\n",
      "52:\tlearn: 9.4695659\ttest: 9.5138363\tbest: 9.5138363 (52)\ttotal: 196ms\tremaining: 3.5s\n",
      "53:\tlearn: 9.4647610\ttest: 9.5092189\tbest: 9.5092189 (53)\ttotal: 200ms\tremaining: 3.5s\n",
      "54:\tlearn: 9.4589966\ttest: 9.5042465\tbest: 9.5042465 (54)\ttotal: 206ms\tremaining: 3.54s\n",
      "55:\tlearn: 9.4513330\ttest: 9.4994188\tbest: 9.4994188 (55)\ttotal: 211ms\tremaining: 3.56s\n",
      "56:\tlearn: 9.4408345\ttest: 9.4927772\tbest: 9.4927772 (56)\ttotal: 215ms\tremaining: 3.56s\n",
      "57:\tlearn: 9.4299118\ttest: 9.4833557\tbest: 9.4833557 (57)\ttotal: 218ms\tremaining: 3.54s\n",
      "58:\tlearn: 9.4246158\ttest: 9.4776531\tbest: 9.4776531 (58)\ttotal: 222ms\tremaining: 3.55s\n",
      "59:\tlearn: 9.4104577\ttest: 9.4636492\tbest: 9.4636492 (59)\ttotal: 227ms\tremaining: 3.55s\n",
      "60:\tlearn: 9.4041961\ttest: 9.4593781\tbest: 9.4593781 (60)\ttotal: 231ms\tremaining: 3.56s\n",
      "61:\tlearn: 9.3915842\ttest: 9.4469117\tbest: 9.4469117 (61)\ttotal: 236ms\tremaining: 3.57s\n",
      "62:\tlearn: 9.3829418\ttest: 9.4375946\tbest: 9.4375946 (62)\ttotal: 240ms\tremaining: 3.56s\n",
      "63:\tlearn: 9.3731513\ttest: 9.4278894\tbest: 9.4278894 (63)\ttotal: 243ms\tremaining: 3.56s\n",
      "64:\tlearn: 9.3634819\ttest: 9.4188369\tbest: 9.4188369 (64)\ttotal: 248ms\tremaining: 3.57s\n",
      "65:\tlearn: 9.3587435\ttest: 9.4153742\tbest: 9.4153742 (65)\ttotal: 251ms\tremaining: 3.56s\n",
      "66:\tlearn: 9.3504622\ttest: 9.4090756\tbest: 9.4090756 (66)\ttotal: 256ms\tremaining: 3.57s\n",
      "67:\tlearn: 9.3406223\ttest: 9.4012478\tbest: 9.4012478 (67)\ttotal: 260ms\tremaining: 3.56s\n",
      "68:\tlearn: 9.3288631\ttest: 9.3928164\tbest: 9.3928164 (68)\ttotal: 265ms\tremaining: 3.58s\n",
      "69:\tlearn: 9.3258494\ttest: 9.3892995\tbest: 9.3892995 (69)\ttotal: 270ms\tremaining: 3.58s\n",
      "70:\tlearn: 9.3191978\ttest: 9.3822254\tbest: 9.3822254 (70)\ttotal: 273ms\tremaining: 3.57s\n",
      "71:\tlearn: 9.3133446\ttest: 9.3786692\tbest: 9.3786692 (71)\ttotal: 278ms\tremaining: 3.58s\n",
      "72:\tlearn: 9.3068627\ttest: 9.3750002\tbest: 9.3750002 (72)\ttotal: 281ms\tremaining: 3.57s\n",
      "73:\tlearn: 9.3028067\ttest: 9.3718220\tbest: 9.3718220 (73)\ttotal: 285ms\tremaining: 3.57s\n",
      "74:\tlearn: 9.2996493\ttest: 9.3680577\tbest: 9.3680577 (74)\ttotal: 288ms\tremaining: 3.56s\n",
      "75:\tlearn: 9.2957560\ttest: 9.3648683\tbest: 9.3648683 (75)\ttotal: 292ms\tremaining: 3.55s\n",
      "76:\tlearn: 9.2909673\ttest: 9.3610140\tbest: 9.3610140 (76)\ttotal: 295ms\tremaining: 3.54s\n",
      "77:\tlearn: 9.2839664\ttest: 9.3545804\tbest: 9.3545804 (77)\ttotal: 298ms\tremaining: 3.53s\n",
      "78:\tlearn: 9.2805844\ttest: 9.3518616\tbest: 9.3518616 (78)\ttotal: 302ms\tremaining: 3.52s\n",
      "79:\tlearn: 9.2756836\ttest: 9.3478774\tbest: 9.3478774 (79)\ttotal: 305ms\tremaining: 3.51s\n",
      "80:\tlearn: 9.2705879\ttest: 9.3441958\tbest: 9.3441958 (80)\ttotal: 309ms\tremaining: 3.51s\n",
      "81:\tlearn: 9.2643066\ttest: 9.3384694\tbest: 9.3384694 (81)\ttotal: 313ms\tremaining: 3.51s\n",
      "82:\tlearn: 9.2599700\ttest: 9.3335269\tbest: 9.3335269 (82)\ttotal: 317ms\tremaining: 3.5s\n",
      "83:\tlearn: 9.2574837\ttest: 9.3324089\tbest: 9.3324089 (83)\ttotal: 321ms\tremaining: 3.5s\n",
      "84:\tlearn: 9.2527870\ttest: 9.3275711\tbest: 9.3275711 (84)\ttotal: 325ms\tremaining: 3.5s\n",
      "85:\tlearn: 9.2489384\ttest: 9.3239403\tbest: 9.3239403 (85)\ttotal: 328ms\tremaining: 3.49s\n",
      "86:\tlearn: 9.2405415\ttest: 9.3172148\tbest: 9.3172148 (86)\ttotal: 332ms\tremaining: 3.48s\n",
      "87:\tlearn: 9.2369251\ttest: 9.3130256\tbest: 9.3130256 (87)\ttotal: 336ms\tremaining: 3.48s\n",
      "88:\tlearn: 9.2323053\ttest: 9.3080611\tbest: 9.3080611 (88)\ttotal: 339ms\tremaining: 3.47s\n",
      "89:\tlearn: 9.2287483\ttest: 9.3062626\tbest: 9.3062626 (89)\ttotal: 342ms\tremaining: 3.46s\n",
      "90:\tlearn: 9.2239984\ttest: 9.3019487\tbest: 9.3019487 (90)\ttotal: 346ms\tremaining: 3.45s\n",
      "91:\tlearn: 9.2181467\ttest: 9.2969457\tbest: 9.2969457 (91)\ttotal: 349ms\tremaining: 3.44s\n",
      "92:\tlearn: 9.2164733\ttest: 9.2953772\tbest: 9.2953772 (92)\ttotal: 352ms\tremaining: 3.43s\n",
      "93:\tlearn: 9.2121042\ttest: 9.2915658\tbest: 9.2915658 (93)\ttotal: 356ms\tremaining: 3.43s\n",
      "94:\tlearn: 9.2068161\ttest: 9.2877524\tbest: 9.2877524 (94)\ttotal: 359ms\tremaining: 3.42s\n",
      "95:\tlearn: 9.2040966\ttest: 9.2854784\tbest: 9.2854784 (95)\ttotal: 362ms\tremaining: 3.41s\n",
      "96:\tlearn: 9.2012767\ttest: 9.2831867\tbest: 9.2831867 (96)\ttotal: 366ms\tremaining: 3.4s\n",
      "97:\tlearn: 9.1940915\ttest: 9.2784298\tbest: 9.2784298 (97)\ttotal: 369ms\tremaining: 3.39s\n",
      "98:\tlearn: 9.1846794\ttest: 9.2715449\tbest: 9.2715449 (98)\ttotal: 372ms\tremaining: 3.39s\n",
      "99:\tlearn: 9.1827960\ttest: 9.2692412\tbest: 9.2692412 (99)\ttotal: 380ms\tremaining: 3.42s\n",
      "100:\tlearn: 9.1794598\ttest: 9.2670363\tbest: 9.2670363 (100)\ttotal: 389ms\tremaining: 3.46s\n",
      "101:\tlearn: 9.1743256\ttest: 9.2624633\tbest: 9.2624633 (101)\ttotal: 399ms\tremaining: 3.51s\n",
      "102:\tlearn: 9.1691865\ttest: 9.2602122\tbest: 9.2602122 (102)\ttotal: 407ms\tremaining: 3.54s\n",
      "103:\tlearn: 9.1656559\ttest: 9.2574882\tbest: 9.2574882 (103)\ttotal: 415ms\tremaining: 3.57s\n",
      "104:\tlearn: 9.1615867\ttest: 9.2545267\tbest: 9.2545267 (104)\ttotal: 423ms\tremaining: 3.6s\n",
      "105:\tlearn: 9.1588910\ttest: 9.2531772\tbest: 9.2531772 (105)\ttotal: 432ms\tremaining: 3.64s\n",
      "106:\tlearn: 9.1553036\ttest: 9.2512886\tbest: 9.2512886 (106)\ttotal: 440ms\tremaining: 3.67s\n",
      "107:\tlearn: 9.1531080\ttest: 9.2483294\tbest: 9.2483294 (107)\ttotal: 449ms\tremaining: 3.71s\n",
      "108:\tlearn: 9.1484152\ttest: 9.2444474\tbest: 9.2444474 (108)\ttotal: 459ms\tremaining: 3.75s\n",
      "109:\tlearn: 9.1471310\ttest: 9.2429276\tbest: 9.2429276 (109)\ttotal: 467ms\tremaining: 3.78s\n",
      "110:\tlearn: 9.1453548\ttest: 9.2419765\tbest: 9.2419765 (110)\ttotal: 473ms\tremaining: 3.79s\n",
      "111:\tlearn: 9.1395455\ttest: 9.2374374\tbest: 9.2374374 (111)\ttotal: 476ms\tremaining: 3.78s\n",
      "112:\tlearn: 9.1382941\ttest: 9.2368872\tbest: 9.2368872 (112)\ttotal: 480ms\tremaining: 3.77s\n",
      "113:\tlearn: 9.1330160\ttest: 9.2335124\tbest: 9.2335124 (113)\ttotal: 483ms\tremaining: 3.76s\n",
      "114:\tlearn: 9.1276740\ttest: 9.2295324\tbest: 9.2295324 (114)\ttotal: 487ms\tremaining: 3.75s\n",
      "115:\tlearn: 9.1251074\ttest: 9.2271420\tbest: 9.2271420 (115)\ttotal: 490ms\tremaining: 3.73s\n",
      "116:\tlearn: 9.1216635\ttest: 9.2242500\tbest: 9.2242500 (116)\ttotal: 494ms\tremaining: 3.72s\n",
      "117:\tlearn: 9.1205622\ttest: 9.2229718\tbest: 9.2229718 (117)\ttotal: 497ms\tremaining: 3.71s\n",
      "118:\tlearn: 9.1179372\ttest: 9.2193946\tbest: 9.2193946 (118)\ttotal: 500ms\tremaining: 3.7s\n",
      "119:\tlearn: 9.1154358\ttest: 9.2173276\tbest: 9.2173276 (119)\ttotal: 503ms\tremaining: 3.69s\n",
      "120:\tlearn: 9.1103251\ttest: 9.2142844\tbest: 9.2142844 (120)\ttotal: 507ms\tremaining: 3.68s\n",
      "121:\tlearn: 9.1091993\ttest: 9.2131524\tbest: 9.2131524 (121)\ttotal: 510ms\tremaining: 3.67s\n",
      "122:\tlearn: 9.1077857\ttest: 9.2111672\tbest: 9.2111672 (122)\ttotal: 514ms\tremaining: 3.66s\n",
      "123:\tlearn: 9.1047671\ttest: 9.2089849\tbest: 9.2089849 (123)\ttotal: 518ms\tremaining: 3.66s\n",
      "124:\tlearn: 9.1005614\ttest: 9.2045105\tbest: 9.2045105 (124)\ttotal: 521ms\tremaining: 3.65s\n",
      "125:\tlearn: 9.0945627\ttest: 9.2008876\tbest: 9.2008876 (125)\ttotal: 526ms\tremaining: 3.65s\n",
      "126:\tlearn: 9.0934301\ttest: 9.2004254\tbest: 9.2004254 (126)\ttotal: 530ms\tremaining: 3.64s\n",
      "127:\tlearn: 9.0866593\ttest: 9.1973271\tbest: 9.1973271 (127)\ttotal: 535ms\tremaining: 3.64s\n",
      "128:\tlearn: 9.0818311\ttest: 9.1922247\tbest: 9.1922247 (128)\ttotal: 538ms\tremaining: 3.63s\n",
      "129:\tlearn: 9.0798635\ttest: 9.1909310\tbest: 9.1909310 (129)\ttotal: 544ms\tremaining: 3.64s\n",
      "130:\tlearn: 9.0784579\ttest: 9.1892328\tbest: 9.1892328 (130)\ttotal: 551ms\tremaining: 3.66s\n",
      "131:\tlearn: 9.0770944\ttest: 9.1872389\tbest: 9.1872389 (131)\ttotal: 556ms\tremaining: 3.66s\n",
      "132:\tlearn: 9.0751975\ttest: 9.1861440\tbest: 9.1861440 (132)\ttotal: 564ms\tremaining: 3.67s\n",
      "133:\tlearn: 9.0728371\ttest: 9.1849385\tbest: 9.1849385 (133)\ttotal: 571ms\tremaining: 3.69s\n",
      "134:\tlearn: 9.0712443\ttest: 9.1838297\tbest: 9.1838297 (134)\ttotal: 577ms\tremaining: 3.7s\n",
      "135:\tlearn: 9.0665191\ttest: 9.1806908\tbest: 9.1806908 (135)\ttotal: 584ms\tremaining: 3.71s\n",
      "136:\tlearn: 9.0623029\ttest: 9.1772508\tbest: 9.1772508 (136)\ttotal: 590ms\tremaining: 3.72s\n",
      "137:\tlearn: 9.0593903\ttest: 9.1742154\tbest: 9.1742154 (137)\ttotal: 596ms\tremaining: 3.72s\n",
      "138:\tlearn: 9.0577042\ttest: 9.1735000\tbest: 9.1735000 (138)\ttotal: 603ms\tremaining: 3.74s\n",
      "139:\tlearn: 9.0556454\ttest: 9.1727203\tbest: 9.1727203 (139)\ttotal: 609ms\tremaining: 3.74s\n",
      "140:\tlearn: 9.0535726\ttest: 9.1716752\tbest: 9.1716752 (140)\ttotal: 617ms\tremaining: 3.76s\n",
      "141:\tlearn: 9.0524253\ttest: 9.1705769\tbest: 9.1705769 (141)\ttotal: 622ms\tremaining: 3.76s\n",
      "142:\tlearn: 9.0497764\ttest: 9.1696314\tbest: 9.1696314 (142)\ttotal: 629ms\tremaining: 3.77s\n",
      "143:\tlearn: 9.0476336\ttest: 9.1683743\tbest: 9.1683743 (143)\ttotal: 634ms\tremaining: 3.77s\n",
      "144:\tlearn: 9.0468763\ttest: 9.1675352\tbest: 9.1675352 (144)\ttotal: 639ms\tremaining: 3.77s\n",
      "145:\tlearn: 9.0408869\ttest: 9.1649119\tbest: 9.1649119 (145)\ttotal: 647ms\tremaining: 3.79s\n",
      "146:\tlearn: 9.0365596\ttest: 9.1615458\tbest: 9.1615458 (146)\ttotal: 653ms\tremaining: 3.79s\n",
      "147:\tlearn: 9.0360605\ttest: 9.1606062\tbest: 9.1606062 (147)\ttotal: 660ms\tremaining: 3.8s\n",
      "148:\tlearn: 9.0310966\ttest: 9.1581871\tbest: 9.1581871 (148)\ttotal: 664ms\tremaining: 3.79s\n",
      "149:\tlearn: 9.0286509\ttest: 9.1552915\tbest: 9.1552915 (149)\ttotal: 670ms\tremaining: 3.79s\n",
      "150:\tlearn: 9.0248333\ttest: 9.1537912\tbest: 9.1537912 (150)\ttotal: 675ms\tremaining: 3.79s\n",
      "151:\tlearn: 9.0204518\ttest: 9.1538897\tbest: 9.1537912 (150)\ttotal: 678ms\tremaining: 3.78s\n",
      "152:\tlearn: 9.0194890\ttest: 9.1530893\tbest: 9.1530893 (152)\ttotal: 681ms\tremaining: 3.77s\n",
      "153:\tlearn: 9.0160008\ttest: 9.1511246\tbest: 9.1511246 (153)\ttotal: 687ms\tremaining: 3.77s\n",
      "154:\tlearn: 9.0156383\ttest: 9.1504964\tbest: 9.1504964 (154)\ttotal: 694ms\tremaining: 3.78s\n",
      "155:\tlearn: 9.0137268\ttest: 9.1497263\tbest: 9.1497263 (155)\ttotal: 699ms\tremaining: 3.78s\n",
      "156:\tlearn: 9.0133851\ttest: 9.1493969\tbest: 9.1493969 (156)\ttotal: 706ms\tremaining: 3.79s\n",
      "157:\tlearn: 9.0076751\ttest: 9.1460438\tbest: 9.1460438 (157)\ttotal: 709ms\tremaining: 3.78s\n",
      "158:\tlearn: 9.0065910\ttest: 9.1451277\tbest: 9.1451277 (158)\ttotal: 713ms\tremaining: 3.77s\n",
      "159:\tlearn: 9.0052117\ttest: 9.1445591\tbest: 9.1445591 (159)\ttotal: 719ms\tremaining: 3.77s\n",
      "160:\tlearn: 8.9991836\ttest: 9.1394475\tbest: 9.1394475 (160)\ttotal: 726ms\tremaining: 3.78s\n",
      "161:\tlearn: 8.9939004\ttest: 9.1386284\tbest: 9.1386284 (161)\ttotal: 732ms\tremaining: 3.79s\n",
      "162:\tlearn: 8.9897702\ttest: 9.1359802\tbest: 9.1359802 (162)\ttotal: 740ms\tremaining: 3.8s\n",
      "163:\tlearn: 8.9852240\ttest: 9.1326630\tbest: 9.1326630 (163)\ttotal: 746ms\tremaining: 3.8s\n",
      "164:\tlearn: 8.9771410\ttest: 9.1265009\tbest: 9.1265009 (164)\ttotal: 753ms\tremaining: 3.81s\n",
      "165:\tlearn: 8.9753716\ttest: 9.1268761\tbest: 9.1265009 (164)\ttotal: 760ms\tremaining: 3.82s\n",
      "166:\tlearn: 8.9714096\ttest: 9.1234690\tbest: 9.1234690 (166)\ttotal: 766ms\tremaining: 3.82s\n",
      "167:\tlearn: 8.9700257\ttest: 9.1230305\tbest: 9.1230305 (167)\ttotal: 771ms\tremaining: 3.82s\n",
      "168:\tlearn: 8.9697381\ttest: 9.1225382\tbest: 9.1225382 (168)\ttotal: 777ms\tremaining: 3.82s\n",
      "169:\tlearn: 8.9653116\ttest: 9.1228246\tbest: 9.1225382 (168)\ttotal: 783ms\tremaining: 3.83s\n",
      "170:\tlearn: 8.9643116\ttest: 9.1218882\tbest: 9.1218882 (170)\ttotal: 788ms\tremaining: 3.82s\n",
      "171:\tlearn: 8.9617966\ttest: 9.1213861\tbest: 9.1213861 (171)\ttotal: 793ms\tremaining: 3.82s\n",
      "172:\tlearn: 8.9599677\ttest: 9.1199926\tbest: 9.1199926 (172)\ttotal: 800ms\tremaining: 3.82s\n",
      "173:\tlearn: 8.9597488\ttest: 9.1195481\tbest: 9.1195481 (173)\ttotal: 803ms\tremaining: 3.81s\n",
      "174:\tlearn: 8.9576912\ttest: 9.1185348\tbest: 9.1185348 (174)\ttotal: 807ms\tremaining: 3.8s\n",
      "175:\tlearn: 8.9556097\ttest: 9.1163266\tbest: 9.1163266 (175)\ttotal: 814ms\tremaining: 3.81s\n",
      "176:\tlearn: 8.9531110\ttest: 9.1156524\tbest: 9.1156524 (176)\ttotal: 821ms\tremaining: 3.81s\n",
      "177:\tlearn: 8.9491007\ttest: 9.1138022\tbest: 9.1138022 (177)\ttotal: 827ms\tremaining: 3.82s\n",
      "178:\tlearn: 8.9488790\ttest: 9.1133879\tbest: 9.1133879 (178)\ttotal: 833ms\tremaining: 3.82s\n",
      "179:\tlearn: 8.9463656\ttest: 9.1119932\tbest: 9.1119932 (179)\ttotal: 837ms\tremaining: 3.81s\n",
      "180:\tlearn: 8.9424793\ttest: 9.1115634\tbest: 9.1115634 (180)\ttotal: 842ms\tremaining: 3.81s\n",
      "181:\tlearn: 8.9374739\ttest: 9.1076118\tbest: 9.1076118 (181)\ttotal: 850ms\tremaining: 3.82s\n",
      "182:\tlearn: 8.9328372\ttest: 9.1057913\tbest: 9.1057913 (182)\ttotal: 856ms\tremaining: 3.82s\n",
      "183:\tlearn: 8.9295178\ttest: 9.1040570\tbest: 9.1040570 (183)\ttotal: 863ms\tremaining: 3.83s\n",
      "184:\tlearn: 8.9277213\ttest: 9.1032725\tbest: 9.1032725 (184)\ttotal: 869ms\tremaining: 3.83s\n",
      "185:\tlearn: 8.9266412\ttest: 9.1030053\tbest: 9.1030053 (185)\ttotal: 873ms\tremaining: 3.82s\n",
      "186:\tlearn: 8.9246697\ttest: 9.1022132\tbest: 9.1022132 (186)\ttotal: 882ms\tremaining: 3.83s\n",
      "187:\tlearn: 8.9196439\ttest: 9.1012285\tbest: 9.1012285 (187)\ttotal: 888ms\tremaining: 3.84s\n",
      "188:\tlearn: 8.9164050\ttest: 9.0997891\tbest: 9.0997891 (188)\ttotal: 896ms\tremaining: 3.85s\n",
      "189:\tlearn: 8.9142123\ttest: 9.0979936\tbest: 9.0979936 (189)\ttotal: 902ms\tremaining: 3.85s\n",
      "190:\tlearn: 8.9103825\ttest: 9.0947808\tbest: 9.0947808 (190)\ttotal: 907ms\tremaining: 3.84s\n",
      "191:\tlearn: 8.9074637\ttest: 9.0931207\tbest: 9.0931207 (191)\ttotal: 913ms\tremaining: 3.84s\n",
      "192:\tlearn: 8.9055180\ttest: 9.0918412\tbest: 9.0918412 (192)\ttotal: 919ms\tremaining: 3.84s\n",
      "193:\tlearn: 8.9051180\ttest: 9.0917243\tbest: 9.0917243 (193)\ttotal: 928ms\tremaining: 3.85s\n",
      "194:\tlearn: 8.9036777\ttest: 9.0907632\tbest: 9.0907632 (194)\ttotal: 934ms\tremaining: 3.85s\n",
      "195:\tlearn: 8.9021191\ttest: 9.0903417\tbest: 9.0903417 (195)\ttotal: 941ms\tremaining: 3.86s\n",
      "196:\tlearn: 8.9017932\ttest: 9.0898344\tbest: 9.0898344 (196)\ttotal: 947ms\tremaining: 3.86s\n",
      "197:\tlearn: 8.9001853\ttest: 9.0887353\tbest: 9.0887353 (197)\ttotal: 953ms\tremaining: 3.86s\n",
      "198:\tlearn: 8.8963125\ttest: 9.0865710\tbest: 9.0865710 (198)\ttotal: 959ms\tremaining: 3.86s\n",
      "199:\tlearn: 8.8950814\ttest: 9.0858879\tbest: 9.0858879 (199)\ttotal: 965ms\tremaining: 3.86s\n",
      "200:\tlearn: 8.8943523\ttest: 9.0857445\tbest: 9.0857445 (200)\ttotal: 971ms\tremaining: 3.86s\n",
      "201:\tlearn: 8.8896150\ttest: 9.0841157\tbest: 9.0841157 (201)\ttotal: 976ms\tremaining: 3.86s\n",
      "202:\tlearn: 8.8893868\ttest: 9.0838151\tbest: 9.0838151 (202)\ttotal: 981ms\tremaining: 3.85s\n",
      "203:\tlearn: 8.8867204\ttest: 9.0827220\tbest: 9.0827220 (203)\ttotal: 986ms\tremaining: 3.85s\n",
      "204:\tlearn: 8.8857331\ttest: 9.0816428\tbest: 9.0816428 (204)\ttotal: 992ms\tremaining: 3.85s\n",
      "205:\tlearn: 8.8830162\ttest: 9.0793225\tbest: 9.0793225 (205)\ttotal: 997ms\tremaining: 3.84s\n",
      "206:\tlearn: 8.8798612\ttest: 9.0774674\tbest: 9.0774674 (206)\ttotal: 1s\tremaining: 3.84s\n",
      "207:\tlearn: 8.8781762\ttest: 9.0769079\tbest: 9.0769079 (207)\ttotal: 1.01s\tremaining: 3.84s\n",
      "208:\tlearn: 8.8760860\ttest: 9.0754527\tbest: 9.0754527 (208)\ttotal: 1.01s\tremaining: 3.84s\n",
      "209:\tlearn: 8.8734679\ttest: 9.0747688\tbest: 9.0747688 (209)\ttotal: 1.02s\tremaining: 3.84s\n",
      "210:\tlearn: 8.8710943\ttest: 9.0734175\tbest: 9.0734175 (210)\ttotal: 1.02s\tremaining: 3.83s\n",
      "211:\tlearn: 8.8706724\ttest: 9.0730235\tbest: 9.0730235 (211)\ttotal: 1.03s\tremaining: 3.83s\n",
      "212:\tlearn: 8.8685607\ttest: 9.0721217\tbest: 9.0721217 (212)\ttotal: 1.04s\tremaining: 3.83s\n",
      "213:\tlearn: 8.8675785\ttest: 9.0712102\tbest: 9.0712102 (213)\ttotal: 1.04s\tremaining: 3.83s\n",
      "214:\tlearn: 8.8637403\ttest: 9.0680368\tbest: 9.0680368 (214)\ttotal: 1.05s\tremaining: 3.82s\n",
      "215:\tlearn: 8.8619682\ttest: 9.0673596\tbest: 9.0673596 (215)\ttotal: 1.05s\tremaining: 3.83s\n",
      "216:\tlearn: 8.8609950\ttest: 9.0670348\tbest: 9.0670348 (216)\ttotal: 1.06s\tremaining: 3.83s\n",
      "217:\tlearn: 8.8608276\ttest: 9.0667469\tbest: 9.0667469 (217)\ttotal: 1.07s\tremaining: 3.84s\n",
      "218:\tlearn: 8.8596072\ttest: 9.0653353\tbest: 9.0653353 (218)\ttotal: 1.07s\tremaining: 3.84s\n",
      "219:\tlearn: 8.8570539\ttest: 9.0647861\tbest: 9.0647861 (219)\ttotal: 1.08s\tremaining: 3.85s\n",
      "220:\tlearn: 8.8547689\ttest: 9.0637763\tbest: 9.0637763 (220)\ttotal: 1.09s\tremaining: 3.85s\n",
      "221:\tlearn: 8.8537152\ttest: 9.0628715\tbest: 9.0628715 (221)\ttotal: 1.1s\tremaining: 3.85s\n",
      "222:\tlearn: 8.8495598\ttest: 9.0603959\tbest: 9.0603959 (222)\ttotal: 1.1s\tremaining: 3.84s\n",
      "223:\tlearn: 8.8484552\ttest: 9.0599402\tbest: 9.0599402 (223)\ttotal: 1.11s\tremaining: 3.84s\n",
      "224:\tlearn: 8.8467761\ttest: 9.0599197\tbest: 9.0599197 (224)\ttotal: 1.12s\tremaining: 3.85s\n",
      "225:\tlearn: 8.8465695\ttest: 9.0594833\tbest: 9.0594833 (225)\ttotal: 1.12s\tremaining: 3.85s\n",
      "226:\tlearn: 8.8433936\ttest: 9.0575492\tbest: 9.0575492 (226)\ttotal: 1.13s\tremaining: 3.85s\n",
      "227:\tlearn: 8.8366790\ttest: 9.0550161\tbest: 9.0550161 (227)\ttotal: 1.14s\tremaining: 3.85s\n",
      "228:\tlearn: 8.8350188\ttest: 9.0541157\tbest: 9.0541157 (228)\ttotal: 1.14s\tremaining: 3.85s\n",
      "229:\tlearn: 8.8344521\ttest: 9.0536683\tbest: 9.0536683 (229)\ttotal: 1.15s\tremaining: 3.84s\n",
      "230:\tlearn: 8.8343376\ttest: 9.0535142\tbest: 9.0535142 (230)\ttotal: 1.15s\tremaining: 3.84s\n",
      "231:\tlearn: 8.8319128\ttest: 9.0534060\tbest: 9.0534060 (231)\ttotal: 1.16s\tremaining: 3.84s\n",
      "232:\tlearn: 8.8299476\ttest: 9.0525122\tbest: 9.0525122 (232)\ttotal: 1.17s\tremaining: 3.84s\n",
      "233:\tlearn: 8.8242751\ttest: 9.0496426\tbest: 9.0496426 (233)\ttotal: 1.18s\tremaining: 3.85s\n",
      "234:\tlearn: 8.8207688\ttest: 9.0475311\tbest: 9.0475311 (234)\ttotal: 1.18s\tremaining: 3.85s\n",
      "235:\tlearn: 8.8155474\ttest: 9.0463007\tbest: 9.0463007 (235)\ttotal: 1.19s\tremaining: 3.84s\n",
      "236:\tlearn: 8.8132563\ttest: 9.0452223\tbest: 9.0452223 (236)\ttotal: 1.19s\tremaining: 3.83s\n",
      "237:\tlearn: 8.8096861\ttest: 9.0422001\tbest: 9.0422001 (237)\ttotal: 1.2s\tremaining: 3.83s\n",
      "238:\tlearn: 8.8080762\ttest: 9.0418203\tbest: 9.0418203 (238)\ttotal: 1.2s\tremaining: 3.82s\n",
      "239:\tlearn: 8.8050919\ttest: 9.0400960\tbest: 9.0400960 (239)\ttotal: 1.21s\tremaining: 3.82s\n",
      "240:\tlearn: 8.8039313\ttest: 9.0398991\tbest: 9.0398991 (240)\ttotal: 1.21s\tremaining: 3.82s\n",
      "241:\tlearn: 8.8022341\ttest: 9.0391663\tbest: 9.0391663 (241)\ttotal: 1.22s\tremaining: 3.82s\n",
      "242:\tlearn: 8.8014349\ttest: 9.0390246\tbest: 9.0390246 (242)\ttotal: 1.23s\tremaining: 3.82s\n",
      "243:\tlearn: 8.8012537\ttest: 9.0386071\tbest: 9.0386071 (243)\ttotal: 1.23s\tremaining: 3.81s\n",
      "244:\tlearn: 8.7996578\ttest: 9.0383741\tbest: 9.0383741 (244)\ttotal: 1.23s\tremaining: 3.8s\n",
      "245:\tlearn: 8.7969527\ttest: 9.0372023\tbest: 9.0372023 (245)\ttotal: 1.24s\tremaining: 3.79s\n",
      "246:\tlearn: 8.7954768\ttest: 9.0370181\tbest: 9.0370181 (246)\ttotal: 1.24s\tremaining: 3.78s\n",
      "247:\tlearn: 8.7930780\ttest: 9.0358290\tbest: 9.0358290 (247)\ttotal: 1.25s\tremaining: 3.78s\n",
      "248:\tlearn: 8.7926737\ttest: 9.0355033\tbest: 9.0355033 (248)\ttotal: 1.25s\tremaining: 3.77s\n",
      "249:\tlearn: 8.7870122\ttest: 9.0320624\tbest: 9.0320624 (249)\ttotal: 1.26s\tremaining: 3.77s\n",
      "250:\tlearn: 8.7839218\ttest: 9.0295630\tbest: 9.0295630 (250)\ttotal: 1.26s\tremaining: 3.77s\n",
      "251:\tlearn: 8.7822169\ttest: 9.0288363\tbest: 9.0288363 (251)\ttotal: 1.27s\tremaining: 3.76s\n",
      "252:\tlearn: 8.7795549\ttest: 9.0266140\tbest: 9.0266140 (252)\ttotal: 1.27s\tremaining: 3.75s\n",
      "253:\tlearn: 8.7760732\ttest: 9.0248101\tbest: 9.0248101 (253)\ttotal: 1.27s\tremaining: 3.74s\n",
      "254:\tlearn: 8.7750457\ttest: 9.0245899\tbest: 9.0245899 (254)\ttotal: 1.28s\tremaining: 3.73s\n",
      "255:\tlearn: 8.7706508\ttest: 9.0235245\tbest: 9.0235245 (255)\ttotal: 1.28s\tremaining: 3.72s\n",
      "256:\tlearn: 8.7688971\ttest: 9.0224320\tbest: 9.0224320 (256)\ttotal: 1.28s\tremaining: 3.71s\n",
      "257:\tlearn: 8.7674001\ttest: 9.0214703\tbest: 9.0214703 (257)\ttotal: 1.29s\tremaining: 3.7s\n",
      "258:\tlearn: 8.7650643\ttest: 9.0202331\tbest: 9.0202331 (258)\ttotal: 1.29s\tremaining: 3.69s\n",
      "259:\tlearn: 8.7619719\ttest: 9.0206054\tbest: 9.0202331 (258)\ttotal: 1.29s\tremaining: 3.69s\n",
      "260:\tlearn: 8.7603776\ttest: 9.0192429\tbest: 9.0192429 (260)\ttotal: 1.3s\tremaining: 3.68s\n",
      "261:\tlearn: 8.7563111\ttest: 9.0179595\tbest: 9.0179595 (261)\ttotal: 1.3s\tremaining: 3.67s\n",
      "262:\tlearn: 8.7547845\ttest: 9.0174913\tbest: 9.0174913 (262)\ttotal: 1.31s\tremaining: 3.66s\n",
      "263:\tlearn: 8.7525048\ttest: 9.0176182\tbest: 9.0174913 (262)\ttotal: 1.31s\tremaining: 3.65s\n",
      "264:\tlearn: 8.7508753\ttest: 9.0167043\tbest: 9.0167043 (264)\ttotal: 1.31s\tremaining: 3.65s\n",
      "265:\tlearn: 8.7504736\ttest: 9.0160877\tbest: 9.0160877 (265)\ttotal: 1.32s\tremaining: 3.64s\n",
      "266:\tlearn: 8.7486734\ttest: 9.0152872\tbest: 9.0152872 (266)\ttotal: 1.32s\tremaining: 3.63s\n",
      "267:\tlearn: 8.7460175\ttest: 9.0147400\tbest: 9.0147400 (267)\ttotal: 1.33s\tremaining: 3.63s\n",
      "268:\tlearn: 8.7414156\ttest: 9.0143164\tbest: 9.0143164 (268)\ttotal: 1.33s\tremaining: 3.63s\n",
      "269:\tlearn: 8.7403042\ttest: 9.0141672\tbest: 9.0141672 (269)\ttotal: 1.34s\tremaining: 3.62s\n",
      "270:\tlearn: 8.7389247\ttest: 9.0139732\tbest: 9.0139732 (270)\ttotal: 1.35s\tremaining: 3.62s\n",
      "271:\tlearn: 8.7374803\ttest: 9.0130997\tbest: 9.0130997 (271)\ttotal: 1.35s\tremaining: 3.62s\n",
      "272:\tlearn: 8.7336806\ttest: 9.0136710\tbest: 9.0130997 (271)\ttotal: 1.36s\tremaining: 3.61s\n",
      "273:\tlearn: 8.7330386\ttest: 9.0137642\tbest: 9.0130997 (271)\ttotal: 1.36s\tremaining: 3.6s\n",
      "274:\tlearn: 8.7314711\ttest: 9.0138384\tbest: 9.0130997 (271)\ttotal: 1.36s\tremaining: 3.6s\n",
      "275:\tlearn: 8.7276280\ttest: 9.0125857\tbest: 9.0125857 (275)\ttotal: 1.37s\tremaining: 3.59s\n",
      "276:\tlearn: 8.7260066\ttest: 9.0120834\tbest: 9.0120834 (276)\ttotal: 1.37s\tremaining: 3.58s\n",
      "277:\tlearn: 8.7235309\ttest: 9.0110618\tbest: 9.0110618 (277)\ttotal: 1.38s\tremaining: 3.57s\n",
      "278:\tlearn: 8.7227319\ttest: 9.0105336\tbest: 9.0105336 (278)\ttotal: 1.38s\tremaining: 3.56s\n",
      "279:\tlearn: 8.7212836\ttest: 9.0101071\tbest: 9.0101071 (279)\ttotal: 1.38s\tremaining: 3.56s\n",
      "280:\tlearn: 8.7180401\ttest: 9.0085319\tbest: 9.0085319 (280)\ttotal: 1.39s\tremaining: 3.55s\n",
      "281:\tlearn: 8.7166235\ttest: 9.0091816\tbest: 9.0085319 (280)\ttotal: 1.39s\tremaining: 3.55s\n",
      "282:\tlearn: 8.7157113\ttest: 9.0080839\tbest: 9.0080839 (282)\ttotal: 1.4s\tremaining: 3.55s\n",
      "283:\tlearn: 8.7143278\ttest: 9.0077396\tbest: 9.0077396 (283)\ttotal: 1.4s\tremaining: 3.54s\n",
      "284:\tlearn: 8.7111299\ttest: 9.0055718\tbest: 9.0055718 (284)\ttotal: 1.41s\tremaining: 3.54s\n",
      "285:\tlearn: 8.7103586\ttest: 9.0056939\tbest: 9.0055718 (284)\ttotal: 1.41s\tremaining: 3.53s\n",
      "286:\tlearn: 8.7087925\ttest: 9.0056152\tbest: 9.0055718 (284)\ttotal: 1.42s\tremaining: 3.52s\n",
      "287:\tlearn: 8.7078341\ttest: 9.0054717\tbest: 9.0054717 (287)\ttotal: 1.42s\tremaining: 3.52s\n",
      "288:\tlearn: 8.7059581\ttest: 9.0046627\tbest: 9.0046627 (288)\ttotal: 1.43s\tremaining: 3.51s\n",
      "289:\tlearn: 8.7038176\ttest: 9.0039497\tbest: 9.0039497 (289)\ttotal: 1.43s\tremaining: 3.51s\n",
      "290:\tlearn: 8.6999085\ttest: 9.0026698\tbest: 9.0026698 (290)\ttotal: 1.44s\tremaining: 3.5s\n",
      "291:\tlearn: 8.6988632\ttest: 9.0023597\tbest: 9.0023597 (291)\ttotal: 1.44s\tremaining: 3.5s\n",
      "292:\tlearn: 8.6948134\ttest: 9.0004305\tbest: 9.0004305 (292)\ttotal: 1.45s\tremaining: 3.49s\n",
      "293:\tlearn: 8.6930170\ttest: 8.9997193\tbest: 8.9997193 (293)\ttotal: 1.45s\tremaining: 3.48s\n",
      "294:\tlearn: 8.6917560\ttest: 8.9996313\tbest: 8.9996313 (294)\ttotal: 1.46s\tremaining: 3.48s\n",
      "295:\tlearn: 8.6880194\ttest: 8.9981007\tbest: 8.9981007 (295)\ttotal: 1.46s\tremaining: 3.48s\n",
      "296:\tlearn: 8.6857217\ttest: 8.9970946\tbest: 8.9970946 (296)\ttotal: 1.47s\tremaining: 3.47s\n",
      "297:\tlearn: 8.6827396\ttest: 8.9962125\tbest: 8.9962125 (297)\ttotal: 1.47s\tremaining: 3.47s\n",
      "298:\tlearn: 8.6789003\ttest: 8.9944686\tbest: 8.9944686 (298)\ttotal: 1.48s\tremaining: 3.46s\n",
      "299:\tlearn: 8.6770988\ttest: 8.9939174\tbest: 8.9939174 (299)\ttotal: 1.48s\tremaining: 3.46s\n",
      "300:\tlearn: 8.6752563\ttest: 8.9931214\tbest: 8.9931214 (300)\ttotal: 1.49s\tremaining: 3.46s\n",
      "301:\tlearn: 8.6710824\ttest: 8.9919126\tbest: 8.9919126 (301)\ttotal: 1.49s\tremaining: 3.45s\n",
      "302:\tlearn: 8.6702731\ttest: 8.9908040\tbest: 8.9908040 (302)\ttotal: 1.5s\tremaining: 3.44s\n",
      "303:\tlearn: 8.6693400\ttest: 8.9906752\tbest: 8.9906752 (303)\ttotal: 1.5s\tremaining: 3.44s\n",
      "304:\tlearn: 8.6672256\ttest: 8.9902021\tbest: 8.9902021 (304)\ttotal: 1.51s\tremaining: 3.44s\n",
      "305:\tlearn: 8.6650528\ttest: 8.9891767\tbest: 8.9891767 (305)\ttotal: 1.51s\tremaining: 3.43s\n",
      "306:\tlearn: 8.6624175\ttest: 8.9870696\tbest: 8.9870696 (306)\ttotal: 1.51s\tremaining: 3.42s\n",
      "307:\tlearn: 8.6621325\ttest: 8.9863291\tbest: 8.9863291 (307)\ttotal: 1.52s\tremaining: 3.42s\n",
      "308:\tlearn: 8.6603915\ttest: 8.9854671\tbest: 8.9854671 (308)\ttotal: 1.53s\tremaining: 3.42s\n",
      "309:\tlearn: 8.6580694\ttest: 8.9844370\tbest: 8.9844370 (309)\ttotal: 1.53s\tremaining: 3.41s\n",
      "310:\tlearn: 8.6558558\ttest: 8.9820407\tbest: 8.9820407 (310)\ttotal: 1.54s\tremaining: 3.41s\n",
      "311:\tlearn: 8.6546277\ttest: 8.9820891\tbest: 8.9820407 (310)\ttotal: 1.55s\tremaining: 3.41s\n",
      "312:\tlearn: 8.6539178\ttest: 8.9820343\tbest: 8.9820343 (312)\ttotal: 1.55s\tremaining: 3.4s\n",
      "313:\tlearn: 8.6520332\ttest: 8.9814430\tbest: 8.9814430 (313)\ttotal: 1.55s\tremaining: 3.4s\n",
      "314:\tlearn: 8.6505366\ttest: 8.9811384\tbest: 8.9811384 (314)\ttotal: 1.56s\tremaining: 3.39s\n",
      "315:\tlearn: 8.6494246\ttest: 8.9811415\tbest: 8.9811384 (314)\ttotal: 1.56s\tremaining: 3.38s\n",
      "316:\tlearn: 8.6488122\ttest: 8.9811967\tbest: 8.9811384 (314)\ttotal: 1.57s\tremaining: 3.38s\n",
      "317:\tlearn: 8.6462929\ttest: 8.9802470\tbest: 8.9802470 (317)\ttotal: 1.57s\tremaining: 3.37s\n",
      "318:\tlearn: 8.6425342\ttest: 8.9793490\tbest: 8.9793490 (318)\ttotal: 1.58s\tremaining: 3.37s\n",
      "319:\tlearn: 8.6415305\ttest: 8.9791980\tbest: 8.9791980 (319)\ttotal: 1.58s\tremaining: 3.36s\n",
      "320:\tlearn: 8.6395152\ttest: 8.9780363\tbest: 8.9780363 (320)\ttotal: 1.59s\tremaining: 3.36s\n",
      "321:\tlearn: 8.6354610\ttest: 8.9774307\tbest: 8.9774307 (321)\ttotal: 1.59s\tremaining: 3.35s\n",
      "322:\tlearn: 8.6341994\ttest: 8.9769811\tbest: 8.9769811 (322)\ttotal: 1.59s\tremaining: 3.34s\n",
      "323:\tlearn: 8.6317381\ttest: 8.9764509\tbest: 8.9764509 (323)\ttotal: 1.6s\tremaining: 3.34s\n",
      "324:\tlearn: 8.6309739\ttest: 8.9756045\tbest: 8.9756045 (324)\ttotal: 1.6s\tremaining: 3.33s\n",
      "325:\tlearn: 8.6292638\ttest: 8.9753793\tbest: 8.9753793 (325)\ttotal: 1.61s\tremaining: 3.32s\n",
      "326:\tlearn: 8.6284842\ttest: 8.9750299\tbest: 8.9750299 (326)\ttotal: 1.61s\tremaining: 3.32s\n",
      "327:\tlearn: 8.6269781\ttest: 8.9755457\tbest: 8.9750299 (326)\ttotal: 1.62s\tremaining: 3.31s\n",
      "328:\tlearn: 8.6261810\ttest: 8.9756169\tbest: 8.9750299 (326)\ttotal: 1.62s\tremaining: 3.31s\n",
      "329:\tlearn: 8.6230800\ttest: 8.9733738\tbest: 8.9733738 (329)\ttotal: 1.63s\tremaining: 3.31s\n",
      "330:\tlearn: 8.6194535\ttest: 8.9707855\tbest: 8.9707855 (330)\ttotal: 1.63s\tremaining: 3.3s\n",
      "331:\tlearn: 8.6183788\ttest: 8.9704427\tbest: 8.9704427 (331)\ttotal: 1.64s\tremaining: 3.29s\n",
      "332:\tlearn: 8.6157856\ttest: 8.9688313\tbest: 8.9688313 (332)\ttotal: 1.64s\tremaining: 3.29s\n",
      "333:\tlearn: 8.6137623\ttest: 8.9686380\tbest: 8.9686380 (333)\ttotal: 1.65s\tremaining: 3.28s\n",
      "334:\tlearn: 8.6116308\ttest: 8.9673265\tbest: 8.9673265 (334)\ttotal: 1.65s\tremaining: 3.28s\n",
      "335:\tlearn: 8.6089709\ttest: 8.9667303\tbest: 8.9667303 (335)\ttotal: 1.66s\tremaining: 3.27s\n",
      "336:\tlearn: 8.6064752\ttest: 8.9662112\tbest: 8.9662112 (336)\ttotal: 1.66s\tremaining: 3.27s\n",
      "337:\tlearn: 8.6028541\ttest: 8.9655440\tbest: 8.9655440 (337)\ttotal: 1.67s\tremaining: 3.26s\n",
      "338:\tlearn: 8.6013562\ttest: 8.9642182\tbest: 8.9642182 (338)\ttotal: 1.67s\tremaining: 3.25s\n",
      "339:\tlearn: 8.5994923\ttest: 8.9641497\tbest: 8.9641497 (339)\ttotal: 1.67s\tremaining: 3.25s\n",
      "340:\tlearn: 8.5984515\ttest: 8.9637823\tbest: 8.9637823 (340)\ttotal: 1.68s\tremaining: 3.24s\n",
      "341:\tlearn: 8.5964419\ttest: 8.9634246\tbest: 8.9634246 (341)\ttotal: 1.68s\tremaining: 3.23s\n",
      "342:\tlearn: 8.5957361\ttest: 8.9631094\tbest: 8.9631094 (342)\ttotal: 1.69s\tremaining: 3.23s\n",
      "343:\tlearn: 8.5910011\ttest: 8.9622794\tbest: 8.9622794 (343)\ttotal: 1.69s\tremaining: 3.22s\n",
      "344:\tlearn: 8.5873485\ttest: 8.9605739\tbest: 8.9605739 (344)\ttotal: 1.69s\tremaining: 3.22s\n",
      "345:\tlearn: 8.5867590\ttest: 8.9608135\tbest: 8.9605739 (344)\ttotal: 1.7s\tremaining: 3.21s\n",
      "346:\tlearn: 8.5830894\ttest: 8.9611002\tbest: 8.9605739 (344)\ttotal: 1.7s\tremaining: 3.2s\n",
      "347:\tlearn: 8.5829827\ttest: 8.9608921\tbest: 8.9605739 (344)\ttotal: 1.7s\tremaining: 3.19s\n",
      "348:\tlearn: 8.5807335\ttest: 8.9608197\tbest: 8.9605739 (344)\ttotal: 1.71s\tremaining: 3.19s\n",
      "349:\tlearn: 8.5792273\ttest: 8.9607856\tbest: 8.9605739 (344)\ttotal: 1.71s\tremaining: 3.18s\n",
      "350:\tlearn: 8.5765834\ttest: 8.9604075\tbest: 8.9604075 (350)\ttotal: 1.72s\tremaining: 3.18s\n",
      "351:\tlearn: 8.5743674\ttest: 8.9582231\tbest: 8.9582231 (351)\ttotal: 1.73s\tremaining: 3.18s\n",
      "352:\tlearn: 8.5712608\ttest: 8.9574210\tbest: 8.9574210 (352)\ttotal: 1.73s\tremaining: 3.17s\n",
      "353:\tlearn: 8.5674502\ttest: 8.9568162\tbest: 8.9568162 (353)\ttotal: 1.74s\tremaining: 3.17s\n",
      "354:\tlearn: 8.5655656\ttest: 8.9559294\tbest: 8.9559294 (354)\ttotal: 1.74s\tremaining: 3.17s\n",
      "355:\tlearn: 8.5640627\ttest: 8.9554550\tbest: 8.9554550 (355)\ttotal: 1.75s\tremaining: 3.16s\n",
      "356:\tlearn: 8.5626245\ttest: 8.9548873\tbest: 8.9548873 (356)\ttotal: 1.75s\tremaining: 3.16s\n",
      "357:\tlearn: 8.5616964\ttest: 8.9546398\tbest: 8.9546398 (357)\ttotal: 1.76s\tremaining: 3.16s\n",
      "358:\tlearn: 8.5609277\ttest: 8.9546403\tbest: 8.9546398 (357)\ttotal: 1.77s\tremaining: 3.15s\n",
      "359:\tlearn: 8.5568770\ttest: 8.9538438\tbest: 8.9538438 (359)\ttotal: 1.77s\tremaining: 3.15s\n",
      "360:\tlearn: 8.5540296\ttest: 8.9526199\tbest: 8.9526199 (360)\ttotal: 1.78s\tremaining: 3.15s\n",
      "361:\tlearn: 8.5534310\ttest: 8.9523444\tbest: 8.9523444 (361)\ttotal: 1.79s\tremaining: 3.15s\n",
      "362:\tlearn: 8.5514404\ttest: 8.9520961\tbest: 8.9520961 (362)\ttotal: 1.79s\tremaining: 3.15s\n",
      "363:\tlearn: 8.5473598\ttest: 8.9536816\tbest: 8.9520961 (362)\ttotal: 1.8s\tremaining: 3.14s\n",
      "364:\tlearn: 8.5457875\ttest: 8.9540221\tbest: 8.9520961 (362)\ttotal: 1.81s\tremaining: 3.14s\n",
      "365:\tlearn: 8.5437727\ttest: 8.9540210\tbest: 8.9520961 (362)\ttotal: 1.81s\tremaining: 3.14s\n",
      "366:\tlearn: 8.5430748\ttest: 8.9534158\tbest: 8.9520961 (362)\ttotal: 1.82s\tremaining: 3.13s\n",
      "367:\tlearn: 8.5421561\ttest: 8.9531643\tbest: 8.9520961 (362)\ttotal: 1.82s\tremaining: 3.13s\n",
      "368:\tlearn: 8.5408201\ttest: 8.9528380\tbest: 8.9520961 (362)\ttotal: 1.83s\tremaining: 3.13s\n",
      "369:\tlearn: 8.5385808\ttest: 8.9513336\tbest: 8.9513336 (369)\ttotal: 1.83s\tremaining: 3.12s\n",
      "370:\tlearn: 8.5361293\ttest: 8.9505580\tbest: 8.9505580 (370)\ttotal: 1.84s\tremaining: 3.12s\n",
      "371:\tlearn: 8.5350013\ttest: 8.9507547\tbest: 8.9505580 (370)\ttotal: 1.84s\tremaining: 3.11s\n",
      "372:\tlearn: 8.5348429\ttest: 8.9505535\tbest: 8.9505535 (372)\ttotal: 1.85s\tremaining: 3.11s\n",
      "373:\tlearn: 8.5328874\ttest: 8.9511285\tbest: 8.9505535 (372)\ttotal: 1.86s\tremaining: 3.11s\n",
      "374:\tlearn: 8.5313706\ttest: 8.9508146\tbest: 8.9505535 (372)\ttotal: 1.86s\tremaining: 3.1s\n",
      "375:\tlearn: 8.5294571\ttest: 8.9497056\tbest: 8.9497056 (375)\ttotal: 1.87s\tremaining: 3.1s\n",
      "376:\tlearn: 8.5272328\ttest: 8.9490577\tbest: 8.9490577 (376)\ttotal: 1.87s\tremaining: 3.09s\n",
      "377:\tlearn: 8.5233336\ttest: 8.9499230\tbest: 8.9490577 (376)\ttotal: 1.88s\tremaining: 3.09s\n",
      "378:\tlearn: 8.5189592\ttest: 8.9479458\tbest: 8.9479458 (378)\ttotal: 1.88s\tremaining: 3.08s\n",
      "379:\tlearn: 8.5182946\ttest: 8.9473447\tbest: 8.9473447 (379)\ttotal: 1.88s\tremaining: 3.07s\n",
      "380:\tlearn: 8.5165059\ttest: 8.9482144\tbest: 8.9473447 (379)\ttotal: 1.89s\tremaining: 3.07s\n",
      "381:\tlearn: 8.5151936\ttest: 8.9479263\tbest: 8.9473447 (379)\ttotal: 1.89s\tremaining: 3.06s\n",
      "382:\tlearn: 8.5130607\ttest: 8.9471578\tbest: 8.9471578 (382)\ttotal: 1.9s\tremaining: 3.06s\n",
      "383:\tlearn: 8.5117915\ttest: 8.9468994\tbest: 8.9468994 (383)\ttotal: 1.9s\tremaining: 3.05s\n",
      "384:\tlearn: 8.5102437\ttest: 8.9462363\tbest: 8.9462363 (384)\ttotal: 1.91s\tremaining: 3.04s\n",
      "385:\tlearn: 8.5092331\ttest: 8.9458346\tbest: 8.9458346 (385)\ttotal: 1.91s\tremaining: 3.04s\n",
      "386:\tlearn: 8.5074767\ttest: 8.9455926\tbest: 8.9455926 (386)\ttotal: 1.92s\tremaining: 3.04s\n",
      "387:\tlearn: 8.5064286\ttest: 8.9449730\tbest: 8.9449730 (387)\ttotal: 1.93s\tremaining: 3.04s\n",
      "388:\tlearn: 8.5063006\ttest: 8.9450156\tbest: 8.9449730 (387)\ttotal: 1.93s\tremaining: 3.03s\n",
      "389:\tlearn: 8.5031577\ttest: 8.9457481\tbest: 8.9449730 (387)\ttotal: 1.94s\tremaining: 3.03s\n",
      "390:\tlearn: 8.5020120\ttest: 8.9453140\tbest: 8.9449730 (387)\ttotal: 1.94s\tremaining: 3.03s\n",
      "391:\tlearn: 8.4988847\ttest: 8.9448051\tbest: 8.9448051 (391)\ttotal: 1.95s\tremaining: 3.02s\n",
      "392:\tlearn: 8.4988050\ttest: 8.9448051\tbest: 8.9448051 (392)\ttotal: 1.95s\tremaining: 3.02s\n",
      "393:\tlearn: 8.4970318\ttest: 8.9449603\tbest: 8.9448051 (392)\ttotal: 1.96s\tremaining: 3.01s\n",
      "394:\tlearn: 8.4942443\ttest: 8.9450504\tbest: 8.9448051 (392)\ttotal: 1.96s\tremaining: 3s\n",
      "395:\tlearn: 8.4921059\ttest: 8.9444909\tbest: 8.9444909 (395)\ttotal: 1.97s\tremaining: 3s\n",
      "396:\tlearn: 8.4915673\ttest: 8.9443838\tbest: 8.9443838 (396)\ttotal: 1.97s\tremaining: 2.99s\n",
      "397:\tlearn: 8.4905039\ttest: 8.9445053\tbest: 8.9443838 (396)\ttotal: 1.98s\tremaining: 2.99s\n",
      "398:\tlearn: 8.4875122\ttest: 8.9433458\tbest: 8.9433458 (398)\ttotal: 1.98s\tremaining: 2.98s\n",
      "399:\tlearn: 8.4866009\ttest: 8.9432125\tbest: 8.9432125 (399)\ttotal: 1.98s\tremaining: 2.98s\n",
      "400:\tlearn: 8.4845759\ttest: 8.9423903\tbest: 8.9423903 (400)\ttotal: 1.99s\tremaining: 2.97s\n",
      "401:\tlearn: 8.4837453\ttest: 8.9425532\tbest: 8.9423903 (400)\ttotal: 1.99s\tremaining: 2.96s\n",
      "402:\tlearn: 8.4827655\ttest: 8.9420897\tbest: 8.9420897 (402)\ttotal: 2s\tremaining: 2.96s\n",
      "403:\tlearn: 8.4819203\ttest: 8.9417685\tbest: 8.9417685 (403)\ttotal: 2s\tremaining: 2.95s\n",
      "404:\tlearn: 8.4818434\ttest: 8.9416507\tbest: 8.9416507 (404)\ttotal: 2s\tremaining: 2.94s\n",
      "405:\tlearn: 8.4805708\ttest: 8.9413062\tbest: 8.9413062 (405)\ttotal: 2s\tremaining: 2.93s\n",
      "406:\tlearn: 8.4773185\ttest: 8.9405839\tbest: 8.9405839 (406)\ttotal: 2.01s\tremaining: 2.93s\n",
      "407:\tlearn: 8.4758878\ttest: 8.9405447\tbest: 8.9405447 (407)\ttotal: 2.01s\tremaining: 2.92s\n",
      "408:\tlearn: 8.4730951\ttest: 8.9395242\tbest: 8.9395242 (408)\ttotal: 2.02s\tremaining: 2.91s\n",
      "409:\tlearn: 8.4712257\ttest: 8.9385636\tbest: 8.9385636 (409)\ttotal: 2.02s\tremaining: 2.91s\n",
      "410:\tlearn: 8.4698331\ttest: 8.9382560\tbest: 8.9382560 (410)\ttotal: 2.02s\tremaining: 2.9s\n",
      "411:\tlearn: 8.4673014\ttest: 8.9367693\tbest: 8.9367693 (411)\ttotal: 2.03s\tremaining: 2.89s\n",
      "412:\tlearn: 8.4652862\ttest: 8.9359067\tbest: 8.9359067 (412)\ttotal: 2.03s\tremaining: 2.88s\n",
      "413:\tlearn: 8.4631081\ttest: 8.9344497\tbest: 8.9344497 (413)\ttotal: 2.03s\tremaining: 2.88s\n",
      "414:\tlearn: 8.4617425\ttest: 8.9344271\tbest: 8.9344271 (414)\ttotal: 2.04s\tremaining: 2.87s\n",
      "415:\tlearn: 8.4597636\ttest: 8.9336514\tbest: 8.9336514 (415)\ttotal: 2.04s\tremaining: 2.86s\n",
      "416:\tlearn: 8.4565977\ttest: 8.9317520\tbest: 8.9317520 (416)\ttotal: 2.04s\tremaining: 2.86s\n",
      "417:\tlearn: 8.4558543\ttest: 8.9318809\tbest: 8.9317520 (416)\ttotal: 2.05s\tremaining: 2.85s\n",
      "418:\tlearn: 8.4545310\ttest: 8.9318377\tbest: 8.9317520 (416)\ttotal: 2.05s\tremaining: 2.84s\n",
      "419:\tlearn: 8.4525751\ttest: 8.9312550\tbest: 8.9312550 (419)\ttotal: 2.05s\tremaining: 2.83s\n",
      "420:\tlearn: 8.4493679\ttest: 8.9321504\tbest: 8.9312550 (419)\ttotal: 2.06s\tremaining: 2.83s\n",
      "421:\tlearn: 8.4470116\ttest: 8.9311663\tbest: 8.9311663 (421)\ttotal: 2.06s\tremaining: 2.82s\n",
      "422:\tlearn: 8.4444769\ttest: 8.9316621\tbest: 8.9311663 (421)\ttotal: 2.06s\tremaining: 2.81s\n",
      "423:\tlearn: 8.4423863\ttest: 8.9315569\tbest: 8.9311663 (421)\ttotal: 2.07s\tremaining: 2.81s\n",
      "424:\tlearn: 8.4409283\ttest: 8.9309518\tbest: 8.9309518 (424)\ttotal: 2.07s\tremaining: 2.8s\n",
      "425:\tlearn: 8.4407468\ttest: 8.9305650\tbest: 8.9305650 (425)\ttotal: 2.08s\tremaining: 2.8s\n",
      "426:\tlearn: 8.4390785\ttest: 8.9300953\tbest: 8.9300953 (426)\ttotal: 2.08s\tremaining: 2.79s\n",
      "427:\tlearn: 8.4351645\ttest: 8.9300584\tbest: 8.9300584 (427)\ttotal: 2.08s\tremaining: 2.78s\n",
      "428:\tlearn: 8.4338697\ttest: 8.9294782\tbest: 8.9294782 (428)\ttotal: 2.08s\tremaining: 2.77s\n",
      "429:\tlearn: 8.4311221\ttest: 8.9289729\tbest: 8.9289729 (429)\ttotal: 2.09s\tremaining: 2.77s\n",
      "430:\tlearn: 8.4295333\ttest: 8.9286216\tbest: 8.9286216 (430)\ttotal: 2.09s\tremaining: 2.76s\n",
      "431:\tlearn: 8.4279731\ttest: 8.9276143\tbest: 8.9276143 (431)\ttotal: 2.1s\tremaining: 2.76s\n",
      "432:\tlearn: 8.4235379\ttest: 8.9289511\tbest: 8.9276143 (431)\ttotal: 2.1s\tremaining: 2.75s\n",
      "433:\tlearn: 8.4212976\ttest: 8.9292901\tbest: 8.9276143 (431)\ttotal: 2.11s\tremaining: 2.75s\n",
      "434:\tlearn: 8.4174848\ttest: 8.9271265\tbest: 8.9271265 (434)\ttotal: 2.12s\tremaining: 2.75s\n",
      "435:\tlearn: 8.4161069\ttest: 8.9267634\tbest: 8.9267634 (435)\ttotal: 2.12s\tremaining: 2.74s\n",
      "436:\tlearn: 8.4137612\ttest: 8.9260901\tbest: 8.9260901 (436)\ttotal: 2.13s\tremaining: 2.74s\n",
      "437:\tlearn: 8.4123303\ttest: 8.9256567\tbest: 8.9256567 (437)\ttotal: 2.13s\tremaining: 2.73s\n",
      "438:\tlearn: 8.4103778\ttest: 8.9250076\tbest: 8.9250076 (438)\ttotal: 2.13s\tremaining: 2.73s\n",
      "439:\tlearn: 8.4081882\ttest: 8.9231888\tbest: 8.9231888 (439)\ttotal: 2.14s\tremaining: 2.72s\n",
      "440:\tlearn: 8.4041899\ttest: 8.9232681\tbest: 8.9231888 (439)\ttotal: 2.14s\tremaining: 2.71s\n",
      "441:\tlearn: 8.4029178\ttest: 8.9232177\tbest: 8.9231888 (439)\ttotal: 2.14s\tremaining: 2.71s\n",
      "442:\tlearn: 8.4027042\ttest: 8.9232492\tbest: 8.9231888 (439)\ttotal: 2.15s\tremaining: 2.7s\n",
      "443:\tlearn: 8.4014421\ttest: 8.9231332\tbest: 8.9231332 (443)\ttotal: 2.15s\tremaining: 2.69s\n",
      "444:\tlearn: 8.3995313\ttest: 8.9226954\tbest: 8.9226954 (444)\ttotal: 2.15s\tremaining: 2.69s\n",
      "445:\tlearn: 8.3985824\ttest: 8.9228328\tbest: 8.9226954 (444)\ttotal: 2.16s\tremaining: 2.68s\n",
      "446:\tlearn: 8.3977519\ttest: 8.9229463\tbest: 8.9226954 (444)\ttotal: 2.16s\tremaining: 2.67s\n",
      "447:\tlearn: 8.3958864\ttest: 8.9222661\tbest: 8.9222661 (447)\ttotal: 2.16s\tremaining: 2.67s\n",
      "448:\tlearn: 8.3938206\ttest: 8.9217632\tbest: 8.9217632 (448)\ttotal: 2.17s\tremaining: 2.66s\n",
      "449:\tlearn: 8.3937203\ttest: 8.9215807\tbest: 8.9215807 (449)\ttotal: 2.17s\tremaining: 2.65s\n",
      "450:\tlearn: 8.3897023\ttest: 8.9222125\tbest: 8.9215807 (449)\ttotal: 2.17s\tremaining: 2.65s\n",
      "451:\tlearn: 8.3892712\ttest: 8.9218724\tbest: 8.9215807 (449)\ttotal: 2.18s\tremaining: 2.64s\n",
      "452:\tlearn: 8.3881429\ttest: 8.9212304\tbest: 8.9212304 (452)\ttotal: 2.18s\tremaining: 2.63s\n",
      "453:\tlearn: 8.3870727\ttest: 8.9209389\tbest: 8.9209389 (453)\ttotal: 2.19s\tremaining: 2.63s\n",
      "454:\tlearn: 8.3836571\ttest: 8.9187730\tbest: 8.9187730 (454)\ttotal: 2.19s\tremaining: 2.62s\n",
      "455:\tlearn: 8.3814531\ttest: 8.9174346\tbest: 8.9174346 (455)\ttotal: 2.19s\tremaining: 2.62s\n",
      "456:\tlearn: 8.3804183\ttest: 8.9174557\tbest: 8.9174346 (455)\ttotal: 2.2s\tremaining: 2.62s\n",
      "457:\tlearn: 8.3769022\ttest: 8.9154020\tbest: 8.9154020 (457)\ttotal: 2.21s\tremaining: 2.61s\n",
      "458:\tlearn: 8.3752833\ttest: 8.9151039\tbest: 8.9151039 (458)\ttotal: 2.21s\tremaining: 2.6s\n",
      "459:\tlearn: 8.3743910\ttest: 8.9154809\tbest: 8.9151039 (458)\ttotal: 2.21s\tremaining: 2.6s\n",
      "460:\tlearn: 8.3732375\ttest: 8.9153021\tbest: 8.9151039 (458)\ttotal: 2.22s\tremaining: 2.6s\n",
      "461:\tlearn: 8.3725064\ttest: 8.9152244\tbest: 8.9151039 (458)\ttotal: 2.22s\tremaining: 2.59s\n",
      "462:\tlearn: 8.3691873\ttest: 8.9151537\tbest: 8.9151039 (458)\ttotal: 2.23s\tremaining: 2.59s\n",
      "463:\tlearn: 8.3656579\ttest: 8.9149863\tbest: 8.9149863 (463)\ttotal: 2.23s\tremaining: 2.58s\n",
      "464:\tlearn: 8.3651873\ttest: 8.9150456\tbest: 8.9149863 (463)\ttotal: 2.24s\tremaining: 2.58s\n",
      "465:\tlearn: 8.3619019\ttest: 8.9163398\tbest: 8.9149863 (463)\ttotal: 2.25s\tremaining: 2.57s\n",
      "466:\tlearn: 8.3578609\ttest: 8.9147658\tbest: 8.9147658 (466)\ttotal: 2.25s\tremaining: 2.57s\n",
      "467:\tlearn: 8.3557738\ttest: 8.9145733\tbest: 8.9145733 (467)\ttotal: 2.25s\tremaining: 2.56s\n",
      "468:\tlearn: 8.3536484\ttest: 8.9147648\tbest: 8.9145733 (467)\ttotal: 2.26s\tremaining: 2.56s\n",
      "469:\tlearn: 8.3521754\ttest: 8.9142674\tbest: 8.9142674 (469)\ttotal: 2.27s\tremaining: 2.55s\n",
      "470:\tlearn: 8.3485136\ttest: 8.9157914\tbest: 8.9142674 (469)\ttotal: 2.27s\tremaining: 2.55s\n",
      "471:\tlearn: 8.3471243\ttest: 8.9154268\tbest: 8.9142674 (469)\ttotal: 2.27s\tremaining: 2.54s\n",
      "472:\tlearn: 8.3447792\ttest: 8.9141432\tbest: 8.9141432 (472)\ttotal: 2.28s\tremaining: 2.54s\n",
      "473:\tlearn: 8.3435737\ttest: 8.9141146\tbest: 8.9141146 (473)\ttotal: 2.28s\tremaining: 2.53s\n",
      "474:\tlearn: 8.3425105\ttest: 8.9142896\tbest: 8.9141146 (473)\ttotal: 2.29s\tremaining: 2.53s\n",
      "475:\tlearn: 8.3395658\ttest: 8.9139184\tbest: 8.9139184 (475)\ttotal: 2.29s\tremaining: 2.52s\n",
      "476:\tlearn: 8.3386824\ttest: 8.9136052\tbest: 8.9136052 (476)\ttotal: 2.3s\tremaining: 2.52s\n",
      "477:\tlearn: 8.3384301\ttest: 8.9134799\tbest: 8.9134799 (477)\ttotal: 2.31s\tremaining: 2.52s\n",
      "478:\tlearn: 8.3365229\ttest: 8.9131410\tbest: 8.9131410 (478)\ttotal: 2.31s\tremaining: 2.52s\n",
      "479:\tlearn: 8.3357770\ttest: 8.9133324\tbest: 8.9131410 (478)\ttotal: 2.32s\tremaining: 2.51s\n",
      "480:\tlearn: 8.3350972\ttest: 8.9133809\tbest: 8.9131410 (478)\ttotal: 2.32s\tremaining: 2.5s\n",
      "481:\tlearn: 8.3336608\ttest: 8.9131835\tbest: 8.9131410 (478)\ttotal: 2.33s\tremaining: 2.5s\n",
      "482:\tlearn: 8.3326286\ttest: 8.9124972\tbest: 8.9124972 (482)\ttotal: 2.33s\tremaining: 2.5s\n",
      "483:\tlearn: 8.3301028\ttest: 8.9124359\tbest: 8.9124359 (483)\ttotal: 2.33s\tremaining: 2.49s\n",
      "484:\tlearn: 8.3280926\ttest: 8.9105589\tbest: 8.9105589 (484)\ttotal: 2.34s\tremaining: 2.49s\n",
      "485:\tlearn: 8.3248674\ttest: 8.9102439\tbest: 8.9102439 (485)\ttotal: 2.35s\tremaining: 2.48s\n",
      "486:\tlearn: 8.3242594\ttest: 8.9100325\tbest: 8.9100325 (486)\ttotal: 2.35s\tremaining: 2.48s\n",
      "487:\tlearn: 8.3220698\ttest: 8.9106011\tbest: 8.9100325 (486)\ttotal: 2.36s\tremaining: 2.47s\n",
      "488:\tlearn: 8.3213656\ttest: 8.9105314\tbest: 8.9100325 (486)\ttotal: 2.36s\tremaining: 2.47s\n",
      "489:\tlearn: 8.3194997\ttest: 8.9108954\tbest: 8.9100325 (486)\ttotal: 2.37s\tremaining: 2.46s\n",
      "490:\tlearn: 8.3176393\ttest: 8.9110984\tbest: 8.9100325 (486)\ttotal: 2.37s\tremaining: 2.46s\n",
      "491:\tlearn: 8.3174598\ttest: 8.9111256\tbest: 8.9100325 (486)\ttotal: 2.38s\tremaining: 2.45s\n",
      "492:\tlearn: 8.3168466\ttest: 8.9109412\tbest: 8.9100325 (486)\ttotal: 2.38s\tremaining: 2.45s\n",
      "493:\tlearn: 8.3146259\ttest: 8.9096745\tbest: 8.9096745 (493)\ttotal: 2.38s\tremaining: 2.44s\n",
      "494:\tlearn: 8.3133185\ttest: 8.9096160\tbest: 8.9096160 (494)\ttotal: 2.39s\tremaining: 2.43s\n",
      "495:\tlearn: 8.3118404\ttest: 8.9099131\tbest: 8.9096160 (494)\ttotal: 2.39s\tremaining: 2.43s\n",
      "496:\tlearn: 8.3093432\ttest: 8.9095485\tbest: 8.9095485 (496)\ttotal: 2.39s\tremaining: 2.42s\n",
      "497:\tlearn: 8.3070715\ttest: 8.9091303\tbest: 8.9091303 (497)\ttotal: 2.4s\tremaining: 2.42s\n",
      "498:\tlearn: 8.3052407\ttest: 8.9086629\tbest: 8.9086629 (498)\ttotal: 2.4s\tremaining: 2.41s\n",
      "499:\tlearn: 8.3040638\ttest: 8.9086136\tbest: 8.9086136 (499)\ttotal: 2.4s\tremaining: 2.4s\n",
      "500:\tlearn: 8.3012086\ttest: 8.9084844\tbest: 8.9084844 (500)\ttotal: 2.41s\tremaining: 2.4s\n",
      "501:\tlearn: 8.2997483\ttest: 8.9077536\tbest: 8.9077536 (501)\ttotal: 2.41s\tremaining: 2.39s\n",
      "502:\tlearn: 8.2966040\ttest: 8.9075717\tbest: 8.9075717 (502)\ttotal: 2.41s\tremaining: 2.38s\n",
      "503:\tlearn: 8.2953781\ttest: 8.9071374\tbest: 8.9071374 (503)\ttotal: 2.42s\tremaining: 2.38s\n",
      "504:\tlearn: 8.2920147\ttest: 8.9071607\tbest: 8.9071374 (503)\ttotal: 2.42s\tremaining: 2.37s\n",
      "505:\tlearn: 8.2909862\ttest: 8.9062269\tbest: 8.9062269 (505)\ttotal: 2.42s\tremaining: 2.37s\n",
      "506:\tlearn: 8.2909264\ttest: 8.9062477\tbest: 8.9062269 (505)\ttotal: 2.43s\tremaining: 2.36s\n",
      "507:\tlearn: 8.2904394\ttest: 8.9063077\tbest: 8.9062269 (505)\ttotal: 2.43s\tremaining: 2.35s\n",
      "508:\tlearn: 8.2894908\ttest: 8.9062719\tbest: 8.9062269 (505)\ttotal: 2.43s\tremaining: 2.35s\n",
      "509:\tlearn: 8.2885989\ttest: 8.9061048\tbest: 8.9061048 (509)\ttotal: 2.44s\tremaining: 2.34s\n",
      "510:\tlearn: 8.2849167\ttest: 8.9053670\tbest: 8.9053670 (510)\ttotal: 2.44s\tremaining: 2.34s\n",
      "511:\tlearn: 8.2836694\ttest: 8.9053898\tbest: 8.9053670 (510)\ttotal: 2.44s\tremaining: 2.33s\n",
      "512:\tlearn: 8.2828372\ttest: 8.9054517\tbest: 8.9053670 (510)\ttotal: 2.45s\tremaining: 2.32s\n",
      "513:\tlearn: 8.2812150\ttest: 8.9051665\tbest: 8.9051665 (513)\ttotal: 2.45s\tremaining: 2.32s\n",
      "514:\tlearn: 8.2800147\ttest: 8.9042773\tbest: 8.9042773 (514)\ttotal: 2.46s\tremaining: 2.31s\n",
      "515:\tlearn: 8.2786496\ttest: 8.9042014\tbest: 8.9042014 (515)\ttotal: 2.46s\tremaining: 2.31s\n",
      "516:\tlearn: 8.2775835\ttest: 8.9040585\tbest: 8.9040585 (516)\ttotal: 2.46s\tremaining: 2.3s\n",
      "517:\tlearn: 8.2763519\ttest: 8.9039055\tbest: 8.9039055 (517)\ttotal: 2.46s\tremaining: 2.29s\n",
      "518:\tlearn: 8.2758636\ttest: 8.9040633\tbest: 8.9039055 (517)\ttotal: 2.47s\tremaining: 2.29s\n",
      "519:\tlearn: 8.2751925\ttest: 8.9034260\tbest: 8.9034260 (519)\ttotal: 2.47s\tremaining: 2.28s\n",
      "520:\tlearn: 8.2726048\ttest: 8.9038967\tbest: 8.9034260 (519)\ttotal: 2.48s\tremaining: 2.28s\n",
      "521:\tlearn: 8.2696671\ttest: 8.9050455\tbest: 8.9034260 (519)\ttotal: 2.48s\tremaining: 2.27s\n",
      "522:\tlearn: 8.2695392\ttest: 8.9049732\tbest: 8.9034260 (519)\ttotal: 2.49s\tremaining: 2.27s\n",
      "523:\tlearn: 8.2674907\ttest: 8.9048369\tbest: 8.9034260 (519)\ttotal: 2.49s\tremaining: 2.27s\n",
      "524:\tlearn: 8.2657397\ttest: 8.9052689\tbest: 8.9034260 (519)\ttotal: 2.5s\tremaining: 2.26s\n",
      "525:\tlearn: 8.2647368\ttest: 8.9053295\tbest: 8.9034260 (519)\ttotal: 2.51s\tremaining: 2.26s\n",
      "526:\tlearn: 8.2637392\ttest: 8.9055201\tbest: 8.9034260 (519)\ttotal: 2.51s\tremaining: 2.25s\n",
      "527:\tlearn: 8.2618770\ttest: 8.9056119\tbest: 8.9034260 (519)\ttotal: 2.52s\tremaining: 2.25s\n",
      "528:\tlearn: 8.2608866\ttest: 8.9054142\tbest: 8.9034260 (519)\ttotal: 2.52s\tremaining: 2.24s\n",
      "529:\tlearn: 8.2598243\ttest: 8.9042851\tbest: 8.9034260 (519)\ttotal: 2.52s\tremaining: 2.24s\n",
      "530:\tlearn: 8.2570168\ttest: 8.9047822\tbest: 8.9034260 (519)\ttotal: 2.53s\tremaining: 2.23s\n",
      "531:\tlearn: 8.2561242\ttest: 8.9042368\tbest: 8.9034260 (519)\ttotal: 2.53s\tremaining: 2.23s\n",
      "532:\tlearn: 8.2543459\ttest: 8.9038792\tbest: 8.9034260 (519)\ttotal: 2.54s\tremaining: 2.23s\n",
      "533:\tlearn: 8.2523693\ttest: 8.9032989\tbest: 8.9032989 (533)\ttotal: 2.54s\tremaining: 2.22s\n",
      "534:\tlearn: 8.2495044\ttest: 8.9039649\tbest: 8.9032989 (533)\ttotal: 2.55s\tremaining: 2.22s\n",
      "535:\tlearn: 8.2487246\ttest: 8.9037727\tbest: 8.9032989 (533)\ttotal: 2.56s\tremaining: 2.21s\n",
      "536:\tlearn: 8.2480904\ttest: 8.9037036\tbest: 8.9032989 (533)\ttotal: 2.56s\tremaining: 2.21s\n",
      "537:\tlearn: 8.2451583\ttest: 8.9037271\tbest: 8.9032989 (533)\ttotal: 2.57s\tremaining: 2.21s\n",
      "538:\tlearn: 8.2449189\ttest: 8.9036242\tbest: 8.9032989 (533)\ttotal: 2.57s\tremaining: 2.2s\n",
      "539:\tlearn: 8.2438319\ttest: 8.9035365\tbest: 8.9032989 (533)\ttotal: 2.58s\tremaining: 2.19s\n",
      "540:\tlearn: 8.2422983\ttest: 8.9030356\tbest: 8.9030356 (540)\ttotal: 2.58s\tremaining: 2.19s\n",
      "541:\tlearn: 8.2408371\ttest: 8.9028207\tbest: 8.9028207 (541)\ttotal: 2.59s\tremaining: 2.19s\n",
      "542:\tlearn: 8.2396943\ttest: 8.9023645\tbest: 8.9023645 (542)\ttotal: 2.59s\tremaining: 2.18s\n",
      "543:\tlearn: 8.2369425\ttest: 8.9013822\tbest: 8.9013822 (543)\ttotal: 2.6s\tremaining: 2.18s\n",
      "544:\tlearn: 8.2341967\ttest: 8.8999563\tbest: 8.8999563 (544)\ttotal: 2.6s\tremaining: 2.17s\n",
      "545:\tlearn: 8.2325040\ttest: 8.9002839\tbest: 8.8999563 (544)\ttotal: 2.61s\tremaining: 2.17s\n",
      "546:\tlearn: 8.2313069\ttest: 8.9004429\tbest: 8.8999563 (544)\ttotal: 2.61s\tremaining: 2.16s\n",
      "547:\tlearn: 8.2302846\ttest: 8.8999259\tbest: 8.8999259 (547)\ttotal: 2.61s\tremaining: 2.15s\n",
      "548:\tlearn: 8.2296757\ttest: 8.8996982\tbest: 8.8996982 (548)\ttotal: 2.62s\tremaining: 2.15s\n",
      "549:\tlearn: 8.2290394\ttest: 8.8996022\tbest: 8.8996022 (549)\ttotal: 2.62s\tremaining: 2.15s\n",
      "550:\tlearn: 8.2280672\ttest: 8.8992979\tbest: 8.8992979 (550)\ttotal: 2.63s\tremaining: 2.14s\n",
      "551:\tlearn: 8.2265624\ttest: 8.8992737\tbest: 8.8992737 (551)\ttotal: 2.63s\tremaining: 2.14s\n",
      "552:\tlearn: 8.2264997\ttest: 8.8992920\tbest: 8.8992737 (551)\ttotal: 2.64s\tremaining: 2.13s\n",
      "553:\tlearn: 8.2248549\ttest: 8.8990458\tbest: 8.8990458 (553)\ttotal: 2.64s\tremaining: 2.13s\n",
      "554:\tlearn: 8.2243643\ttest: 8.8990028\tbest: 8.8990028 (554)\ttotal: 2.65s\tremaining: 2.12s\n",
      "555:\tlearn: 8.2213350\ttest: 8.8983609\tbest: 8.8983609 (555)\ttotal: 2.65s\tremaining: 2.12s\n",
      "556:\tlearn: 8.2196184\ttest: 8.8982075\tbest: 8.8982075 (556)\ttotal: 2.65s\tremaining: 2.11s\n",
      "557:\tlearn: 8.2184921\ttest: 8.8982917\tbest: 8.8982075 (556)\ttotal: 2.66s\tremaining: 2.1s\n",
      "558:\tlearn: 8.2165465\ttest: 8.8971718\tbest: 8.8971718 (558)\ttotal: 2.66s\tremaining: 2.1s\n",
      "559:\tlearn: 8.2134887\ttest: 8.8948155\tbest: 8.8948155 (559)\ttotal: 2.67s\tremaining: 2.1s\n",
      "560:\tlearn: 8.2119111\ttest: 8.8940221\tbest: 8.8940221 (560)\ttotal: 2.67s\tremaining: 2.09s\n",
      "561:\tlearn: 8.2092636\ttest: 8.8938089\tbest: 8.8938089 (561)\ttotal: 2.68s\tremaining: 2.09s\n",
      "562:\tlearn: 8.2083286\ttest: 8.8932823\tbest: 8.8932823 (562)\ttotal: 2.69s\tremaining: 2.08s\n",
      "563:\tlearn: 8.2074576\ttest: 8.8932684\tbest: 8.8932684 (563)\ttotal: 2.69s\tremaining: 2.08s\n",
      "564:\tlearn: 8.2073955\ttest: 8.8931881\tbest: 8.8931881 (564)\ttotal: 2.7s\tremaining: 2.08s\n",
      "565:\tlearn: 8.2046261\ttest: 8.8913244\tbest: 8.8913244 (565)\ttotal: 2.7s\tremaining: 2.07s\n",
      "566:\tlearn: 8.2035656\ttest: 8.8911841\tbest: 8.8911841 (566)\ttotal: 2.7s\tremaining: 2.06s\n",
      "567:\tlearn: 8.2016408\ttest: 8.8905753\tbest: 8.8905753 (567)\ttotal: 2.71s\tremaining: 2.06s\n",
      "568:\tlearn: 8.1991560\ttest: 8.8896525\tbest: 8.8896525 (568)\ttotal: 2.71s\tremaining: 2.06s\n",
      "569:\tlearn: 8.1973485\ttest: 8.8897646\tbest: 8.8896525 (568)\ttotal: 2.72s\tremaining: 2.05s\n",
      "570:\tlearn: 8.1962688\ttest: 8.8897474\tbest: 8.8896525 (568)\ttotal: 2.72s\tremaining: 2.05s\n",
      "571:\tlearn: 8.1953876\ttest: 8.8897026\tbest: 8.8896525 (568)\ttotal: 2.73s\tremaining: 2.04s\n",
      "572:\tlearn: 8.1940012\ttest: 8.8899198\tbest: 8.8896525 (568)\ttotal: 2.73s\tremaining: 2.04s\n",
      "573:\tlearn: 8.1909727\ttest: 8.8909997\tbest: 8.8896525 (568)\ttotal: 2.74s\tremaining: 2.03s\n",
      "574:\tlearn: 8.1889486\ttest: 8.8907776\tbest: 8.8896525 (568)\ttotal: 2.74s\tremaining: 2.03s\n",
      "575:\tlearn: 8.1869669\ttest: 8.8890750\tbest: 8.8890750 (575)\ttotal: 2.75s\tremaining: 2.02s\n",
      "576:\tlearn: 8.1852021\ttest: 8.8889019\tbest: 8.8889019 (576)\ttotal: 2.75s\tremaining: 2.02s\n",
      "577:\tlearn: 8.1851470\ttest: 8.8889066\tbest: 8.8889019 (576)\ttotal: 2.76s\tremaining: 2.01s\n",
      "578:\tlearn: 8.1829172\ttest: 8.8877700\tbest: 8.8877700 (578)\ttotal: 2.76s\tremaining: 2.01s\n",
      "579:\tlearn: 8.1816922\ttest: 8.8876405\tbest: 8.8876405 (579)\ttotal: 2.77s\tremaining: 2s\n",
      "580:\tlearn: 8.1780315\ttest: 8.8881611\tbest: 8.8876405 (579)\ttotal: 2.77s\tremaining: 2s\n",
      "581:\tlearn: 8.1752013\ttest: 8.8879422\tbest: 8.8876405 (579)\ttotal: 2.78s\tremaining: 1.99s\n",
      "582:\tlearn: 8.1732908\ttest: 8.8874883\tbest: 8.8874883 (582)\ttotal: 2.78s\tremaining: 1.99s\n",
      "583:\tlearn: 8.1721047\ttest: 8.8871708\tbest: 8.8871708 (583)\ttotal: 2.79s\tremaining: 1.98s\n",
      "584:\tlearn: 8.1715426\ttest: 8.8869651\tbest: 8.8869651 (584)\ttotal: 2.79s\tremaining: 1.98s\n",
      "585:\tlearn: 8.1701887\ttest: 8.8873327\tbest: 8.8869651 (584)\ttotal: 2.79s\tremaining: 1.97s\n",
      "586:\tlearn: 8.1692842\ttest: 8.8873253\tbest: 8.8869651 (584)\ttotal: 2.8s\tremaining: 1.97s\n",
      "587:\tlearn: 8.1680034\ttest: 8.8872733\tbest: 8.8869651 (584)\ttotal: 2.8s\tremaining: 1.96s\n",
      "588:\tlearn: 8.1667413\ttest: 8.8870001\tbest: 8.8869651 (584)\ttotal: 2.81s\tremaining: 1.96s\n",
      "589:\tlearn: 8.1628124\ttest: 8.8847993\tbest: 8.8847993 (589)\ttotal: 2.81s\tremaining: 1.95s\n",
      "590:\tlearn: 8.1620332\ttest: 8.8844193\tbest: 8.8844193 (590)\ttotal: 2.81s\tremaining: 1.95s\n",
      "591:\tlearn: 8.1592996\ttest: 8.8845814\tbest: 8.8844193 (590)\ttotal: 2.82s\tremaining: 1.94s\n",
      "592:\tlearn: 8.1573308\ttest: 8.8861018\tbest: 8.8844193 (590)\ttotal: 2.82s\tremaining: 1.94s\n",
      "593:\tlearn: 8.1554943\ttest: 8.8861959\tbest: 8.8844193 (590)\ttotal: 2.83s\tremaining: 1.93s\n",
      "594:\tlearn: 8.1541984\ttest: 8.8870254\tbest: 8.8844193 (590)\ttotal: 2.83s\tremaining: 1.93s\n",
      "595:\tlearn: 8.1541475\ttest: 8.8870495\tbest: 8.8844193 (590)\ttotal: 2.83s\tremaining: 1.92s\n",
      "596:\tlearn: 8.1535974\ttest: 8.8869275\tbest: 8.8844193 (590)\ttotal: 2.83s\tremaining: 1.91s\n",
      "597:\tlearn: 8.1525737\ttest: 8.8867018\tbest: 8.8844193 (590)\ttotal: 2.84s\tremaining: 1.91s\n",
      "598:\tlearn: 8.1510657\ttest: 8.8872266\tbest: 8.8844193 (590)\ttotal: 2.84s\tremaining: 1.9s\n",
      "599:\tlearn: 8.1478581\ttest: 8.8863593\tbest: 8.8844193 (590)\ttotal: 2.85s\tremaining: 1.9s\n",
      "600:\tlearn: 8.1472794\ttest: 8.8862405\tbest: 8.8844193 (590)\ttotal: 2.86s\tremaining: 1.9s\n",
      "601:\tlearn: 8.1459814\ttest: 8.8858378\tbest: 8.8844193 (590)\ttotal: 2.86s\tremaining: 1.89s\n",
      "602:\tlearn: 8.1451861\ttest: 8.8856703\tbest: 8.8844193 (590)\ttotal: 2.87s\tremaining: 1.89s\n",
      "603:\tlearn: 8.1446392\ttest: 8.8855832\tbest: 8.8844193 (590)\ttotal: 2.87s\tremaining: 1.88s\n",
      "604:\tlearn: 8.1423918\ttest: 8.8853898\tbest: 8.8844193 (590)\ttotal: 2.88s\tremaining: 1.88s\n",
      "605:\tlearn: 8.1418092\ttest: 8.8852390\tbest: 8.8844193 (590)\ttotal: 2.89s\tremaining: 1.88s\n",
      "606:\tlearn: 8.1398667\ttest: 8.8859523\tbest: 8.8844193 (590)\ttotal: 2.89s\tremaining: 1.87s\n",
      "607:\tlearn: 8.1392254\ttest: 8.8857983\tbest: 8.8844193 (590)\ttotal: 2.9s\tremaining: 1.87s\n",
      "608:\tlearn: 8.1382919\ttest: 8.8856561\tbest: 8.8844193 (590)\ttotal: 2.9s\tremaining: 1.86s\n",
      "609:\tlearn: 8.1378385\ttest: 8.8856199\tbest: 8.8844193 (590)\ttotal: 2.91s\tremaining: 1.86s\n",
      "610:\tlearn: 8.1354157\ttest: 8.8843336\tbest: 8.8843336 (610)\ttotal: 2.91s\tremaining: 1.85s\n",
      "611:\tlearn: 8.1325608\ttest: 8.8856731\tbest: 8.8843336 (610)\ttotal: 2.92s\tremaining: 1.85s\n",
      "612:\tlearn: 8.1311501\ttest: 8.8850407\tbest: 8.8843336 (610)\ttotal: 2.92s\tremaining: 1.84s\n",
      "613:\tlearn: 8.1307833\ttest: 8.8848100\tbest: 8.8843336 (610)\ttotal: 2.93s\tremaining: 1.84s\n",
      "614:\tlearn: 8.1294771\ttest: 8.8848664\tbest: 8.8843336 (610)\ttotal: 2.93s\tremaining: 1.83s\n",
      "615:\tlearn: 8.1275952\ttest: 8.8845379\tbest: 8.8843336 (610)\ttotal: 2.93s\tremaining: 1.83s\n",
      "616:\tlearn: 8.1262893\ttest: 8.8844379\tbest: 8.8843336 (610)\ttotal: 2.94s\tremaining: 1.82s\n",
      "617:\tlearn: 8.1253534\ttest: 8.8841830\tbest: 8.8841830 (617)\ttotal: 2.94s\tremaining: 1.82s\n",
      "618:\tlearn: 8.1246646\ttest: 8.8847689\tbest: 8.8841830 (617)\ttotal: 2.95s\tremaining: 1.81s\n",
      "619:\tlearn: 8.1240877\ttest: 8.8846174\tbest: 8.8841830 (617)\ttotal: 2.95s\tremaining: 1.81s\n",
      "620:\tlearn: 8.1225453\ttest: 8.8847303\tbest: 8.8841830 (617)\ttotal: 2.96s\tremaining: 1.8s\n",
      "621:\tlearn: 8.1201558\ttest: 8.8842421\tbest: 8.8841830 (617)\ttotal: 2.96s\tremaining: 1.8s\n",
      "622:\tlearn: 8.1192218\ttest: 8.8838825\tbest: 8.8838825 (622)\ttotal: 2.97s\tremaining: 1.79s\n",
      "623:\tlearn: 8.1160079\ttest: 8.8818720\tbest: 8.8818720 (623)\ttotal: 2.97s\tremaining: 1.79s\n",
      "624:\tlearn: 8.1157438\ttest: 8.8818310\tbest: 8.8818310 (624)\ttotal: 2.98s\tremaining: 1.79s\n",
      "625:\tlearn: 8.1147211\ttest: 8.8817361\tbest: 8.8817361 (625)\ttotal: 2.98s\tremaining: 1.78s\n",
      "626:\tlearn: 8.1138993\ttest: 8.8817180\tbest: 8.8817180 (626)\ttotal: 2.99s\tremaining: 1.78s\n",
      "627:\tlearn: 8.1103950\ttest: 8.8827523\tbest: 8.8817180 (626)\ttotal: 2.99s\tremaining: 1.77s\n",
      "628:\tlearn: 8.1096676\ttest: 8.8826182\tbest: 8.8817180 (626)\ttotal: 3s\tremaining: 1.77s\n",
      "629:\tlearn: 8.1085586\ttest: 8.8827798\tbest: 8.8817180 (626)\ttotal: 3s\tremaining: 1.76s\n",
      "630:\tlearn: 8.1079332\ttest: 8.8827603\tbest: 8.8817180 (626)\ttotal: 3.01s\tremaining: 1.76s\n",
      "631:\tlearn: 8.1078819\ttest: 8.8827781\tbest: 8.8817180 (626)\ttotal: 3.01s\tremaining: 1.75s\n",
      "632:\tlearn: 8.1066524\ttest: 8.8827417\tbest: 8.8817180 (626)\ttotal: 3.01s\tremaining: 1.75s\n",
      "633:\tlearn: 8.1062099\ttest: 8.8826582\tbest: 8.8817180 (626)\ttotal: 3.02s\tremaining: 1.74s\n",
      "634:\tlearn: 8.1043224\ttest: 8.8824700\tbest: 8.8817180 (626)\ttotal: 3.02s\tremaining: 1.74s\n",
      "635:\tlearn: 8.1022219\ttest: 8.8830950\tbest: 8.8817180 (626)\ttotal: 3.03s\tremaining: 1.73s\n",
      "636:\tlearn: 8.1005350\ttest: 8.8831652\tbest: 8.8817180 (626)\ttotal: 3.03s\tremaining: 1.73s\n",
      "637:\tlearn: 8.0995458\ttest: 8.8833256\tbest: 8.8817180 (626)\ttotal: 3.04s\tremaining: 1.72s\n",
      "638:\tlearn: 8.0955180\ttest: 8.8843856\tbest: 8.8817180 (626)\ttotal: 3.04s\tremaining: 1.72s\n",
      "639:\tlearn: 8.0933801\ttest: 8.8830367\tbest: 8.8817180 (626)\ttotal: 3.05s\tremaining: 1.72s\n",
      "640:\tlearn: 8.0909750\ttest: 8.8836452\tbest: 8.8817180 (626)\ttotal: 3.06s\tremaining: 1.71s\n",
      "641:\tlearn: 8.0885499\ttest: 8.8828350\tbest: 8.8817180 (626)\ttotal: 3.06s\tremaining: 1.71s\n",
      "642:\tlearn: 8.0876150\ttest: 8.8826779\tbest: 8.8817180 (626)\ttotal: 3.07s\tremaining: 1.7s\n",
      "643:\tlearn: 8.0871780\ttest: 8.8828550\tbest: 8.8817180 (626)\ttotal: 3.07s\tremaining: 1.7s\n",
      "644:\tlearn: 8.0853948\ttest: 8.8827759\tbest: 8.8817180 (626)\ttotal: 3.08s\tremaining: 1.69s\n",
      "645:\tlearn: 8.0841679\ttest: 8.8825371\tbest: 8.8817180 (626)\ttotal: 3.08s\tremaining: 1.69s\n",
      "646:\tlearn: 8.0829493\ttest: 8.8825782\tbest: 8.8817180 (626)\ttotal: 3.09s\tremaining: 1.69s\n",
      "647:\tlearn: 8.0825767\ttest: 8.8825058\tbest: 8.8817180 (626)\ttotal: 3.09s\tremaining: 1.68s\n",
      "648:\tlearn: 8.0790804\ttest: 8.8797466\tbest: 8.8797466 (648)\ttotal: 3.1s\tremaining: 1.68s\n",
      "649:\tlearn: 8.0780742\ttest: 8.8793693\tbest: 8.8793693 (649)\ttotal: 3.1s\tremaining: 1.67s\n",
      "650:\tlearn: 8.0764058\ttest: 8.8789192\tbest: 8.8789192 (650)\ttotal: 3.11s\tremaining: 1.67s\n",
      "651:\tlearn: 8.0749604\ttest: 8.8785797\tbest: 8.8785797 (651)\ttotal: 3.11s\tremaining: 1.66s\n",
      "652:\tlearn: 8.0735384\ttest: 8.8791250\tbest: 8.8785797 (651)\ttotal: 3.12s\tremaining: 1.66s\n",
      "653:\tlearn: 8.0720537\ttest: 8.8789775\tbest: 8.8785797 (651)\ttotal: 3.12s\tremaining: 1.65s\n",
      "654:\tlearn: 8.0714500\ttest: 8.8782892\tbest: 8.8782892 (654)\ttotal: 3.13s\tremaining: 1.65s\n",
      "655:\tlearn: 8.0707087\ttest: 8.8783419\tbest: 8.8782892 (654)\ttotal: 3.13s\tremaining: 1.64s\n",
      "656:\tlearn: 8.0684812\ttest: 8.8779536\tbest: 8.8779536 (656)\ttotal: 3.13s\tremaining: 1.64s\n",
      "657:\tlearn: 8.0675448\ttest: 8.8780210\tbest: 8.8779536 (656)\ttotal: 3.14s\tremaining: 1.63s\n",
      "658:\tlearn: 8.0659109\ttest: 8.8783842\tbest: 8.8779536 (656)\ttotal: 3.14s\tremaining: 1.62s\n",
      "659:\tlearn: 8.0651231\ttest: 8.8783745\tbest: 8.8779536 (656)\ttotal: 3.14s\tremaining: 1.62s\n",
      "660:\tlearn: 8.0635584\ttest: 8.8775323\tbest: 8.8775323 (660)\ttotal: 3.15s\tremaining: 1.61s\n",
      "661:\tlearn: 8.0619607\ttest: 8.8776461\tbest: 8.8775323 (660)\ttotal: 3.15s\tremaining: 1.61s\n",
      "662:\tlearn: 8.0589197\ttest: 8.8788987\tbest: 8.8775323 (660)\ttotal: 3.15s\tremaining: 1.6s\n",
      "663:\tlearn: 8.0575993\ttest: 8.8787479\tbest: 8.8775323 (660)\ttotal: 3.16s\tremaining: 1.6s\n",
      "664:\tlearn: 8.0566651\ttest: 8.8786862\tbest: 8.8775323 (660)\ttotal: 3.16s\tremaining: 1.59s\n",
      "665:\tlearn: 8.0559518\ttest: 8.8785550\tbest: 8.8775323 (660)\ttotal: 3.16s\tremaining: 1.59s\n",
      "666:\tlearn: 8.0547424\ttest: 8.8776792\tbest: 8.8775323 (660)\ttotal: 3.17s\tremaining: 1.58s\n",
      "667:\tlearn: 8.0542255\ttest: 8.8779792\tbest: 8.8775323 (660)\ttotal: 3.17s\tremaining: 1.58s\n",
      "668:\tlearn: 8.0519729\ttest: 8.8792823\tbest: 8.8775323 (660)\ttotal: 3.17s\tremaining: 1.57s\n",
      "669:\tlearn: 8.0507816\ttest: 8.8791720\tbest: 8.8775323 (660)\ttotal: 3.18s\tremaining: 1.56s\n",
      "670:\tlearn: 8.0506067\ttest: 8.8788584\tbest: 8.8775323 (660)\ttotal: 3.18s\tremaining: 1.56s\n",
      "671:\tlearn: 8.0495222\ttest: 8.8791071\tbest: 8.8775323 (660)\ttotal: 3.19s\tremaining: 1.55s\n",
      "672:\tlearn: 8.0484018\ttest: 8.8793542\tbest: 8.8775323 (660)\ttotal: 3.19s\tremaining: 1.55s\n",
      "673:\tlearn: 8.0462750\ttest: 8.8784917\tbest: 8.8775323 (660)\ttotal: 3.19s\tremaining: 1.54s\n",
      "674:\tlearn: 8.0459733\ttest: 8.8784805\tbest: 8.8775323 (660)\ttotal: 3.2s\tremaining: 1.54s\n",
      "675:\tlearn: 8.0455675\ttest: 8.8785319\tbest: 8.8775323 (660)\ttotal: 3.2s\tremaining: 1.53s\n",
      "676:\tlearn: 8.0444749\ttest: 8.8778171\tbest: 8.8775323 (660)\ttotal: 3.2s\tremaining: 1.53s\n",
      "677:\tlearn: 8.0439594\ttest: 8.8776425\tbest: 8.8775323 (660)\ttotal: 3.21s\tremaining: 1.52s\n",
      "678:\tlearn: 8.0432036\ttest: 8.8771574\tbest: 8.8771574 (678)\ttotal: 3.21s\tremaining: 1.52s\n",
      "679:\tlearn: 8.0427042\ttest: 8.8771682\tbest: 8.8771574 (678)\ttotal: 3.21s\tremaining: 1.51s\n",
      "680:\tlearn: 8.0402587\ttest: 8.8768828\tbest: 8.8768828 (680)\ttotal: 3.22s\tremaining: 1.51s\n",
      "681:\tlearn: 8.0375846\ttest: 8.8774355\tbest: 8.8768828 (680)\ttotal: 3.22s\tremaining: 1.5s\n",
      "682:\tlearn: 8.0363358\ttest: 8.8775423\tbest: 8.8768828 (680)\ttotal: 3.23s\tremaining: 1.5s\n",
      "683:\tlearn: 8.0341575\ttest: 8.8784472\tbest: 8.8768828 (680)\ttotal: 3.23s\tremaining: 1.49s\n",
      "684:\tlearn: 8.0323292\ttest: 8.8784228\tbest: 8.8768828 (680)\ttotal: 3.24s\tremaining: 1.49s\n",
      "685:\tlearn: 8.0291469\ttest: 8.8791277\tbest: 8.8768828 (680)\ttotal: 3.24s\tremaining: 1.48s\n",
      "686:\tlearn: 8.0270837\ttest: 8.8783549\tbest: 8.8768828 (680)\ttotal: 3.25s\tremaining: 1.48s\n",
      "687:\tlearn: 8.0265487\ttest: 8.8786591\tbest: 8.8768828 (680)\ttotal: 3.25s\tremaining: 1.48s\n",
      "688:\tlearn: 8.0256255\ttest: 8.8781759\tbest: 8.8768828 (680)\ttotal: 3.26s\tremaining: 1.47s\n",
      "689:\tlearn: 8.0250610\ttest: 8.8779561\tbest: 8.8768828 (680)\ttotal: 3.27s\tremaining: 1.47s\n",
      "690:\tlearn: 8.0243559\ttest: 8.8782711\tbest: 8.8768828 (680)\ttotal: 3.27s\tremaining: 1.46s\n",
      "691:\tlearn: 8.0232723\ttest: 8.8781397\tbest: 8.8768828 (680)\ttotal: 3.28s\tremaining: 1.46s\n",
      "692:\tlearn: 8.0202920\ttest: 8.8770145\tbest: 8.8768828 (680)\ttotal: 3.28s\tremaining: 1.45s\n",
      "693:\tlearn: 8.0189115\ttest: 8.8769506\tbest: 8.8768828 (680)\ttotal: 3.29s\tremaining: 1.45s\n",
      "694:\tlearn: 8.0184289\ttest: 8.8769737\tbest: 8.8768828 (680)\ttotal: 3.3s\tremaining: 1.45s\n",
      "695:\tlearn: 8.0168855\ttest: 8.8768752\tbest: 8.8768752 (695)\ttotal: 3.3s\tremaining: 1.44s\n",
      "696:\tlearn: 8.0161700\ttest: 8.8765375\tbest: 8.8765375 (696)\ttotal: 3.31s\tremaining: 1.44s\n",
      "697:\tlearn: 8.0156072\ttest: 8.8764381\tbest: 8.8764381 (697)\ttotal: 3.31s\tremaining: 1.43s\n",
      "698:\tlearn: 8.0113814\ttest: 8.8756304\tbest: 8.8756304 (698)\ttotal: 3.31s\tremaining: 1.43s\n",
      "699:\tlearn: 8.0102764\ttest: 8.8749784\tbest: 8.8749784 (699)\ttotal: 3.32s\tremaining: 1.42s\n",
      "700:\tlearn: 8.0097367\ttest: 8.8749974\tbest: 8.8749784 (699)\ttotal: 3.32s\tremaining: 1.42s\n",
      "701:\tlearn: 8.0083897\ttest: 8.8748196\tbest: 8.8748196 (701)\ttotal: 3.33s\tremaining: 1.41s\n",
      "702:\tlearn: 8.0073625\ttest: 8.8746801\tbest: 8.8746801 (702)\ttotal: 3.33s\tremaining: 1.41s\n",
      "703:\tlearn: 8.0071921\ttest: 8.8746236\tbest: 8.8746236 (703)\ttotal: 3.34s\tremaining: 1.4s\n",
      "704:\tlearn: 8.0040260\ttest: 8.8748995\tbest: 8.8746236 (703)\ttotal: 3.34s\tremaining: 1.4s\n",
      "705:\tlearn: 8.0032978\ttest: 8.8748631\tbest: 8.8746236 (703)\ttotal: 3.35s\tremaining: 1.39s\n",
      "706:\tlearn: 8.0028227\ttest: 8.8747611\tbest: 8.8746236 (703)\ttotal: 3.35s\tremaining: 1.39s\n",
      "707:\tlearn: 8.0017673\ttest: 8.8748579\tbest: 8.8746236 (703)\ttotal: 3.35s\tremaining: 1.38s\n",
      "708:\tlearn: 7.9992932\ttest: 8.8766645\tbest: 8.8746236 (703)\ttotal: 3.36s\tremaining: 1.38s\n",
      "709:\tlearn: 7.9974637\ttest: 8.8761975\tbest: 8.8746236 (703)\ttotal: 3.36s\tremaining: 1.37s\n",
      "710:\tlearn: 7.9956587\ttest: 8.8767015\tbest: 8.8746236 (703)\ttotal: 3.37s\tremaining: 1.37s\n",
      "711:\tlearn: 7.9948018\ttest: 8.8762955\tbest: 8.8746236 (703)\ttotal: 3.37s\tremaining: 1.36s\n",
      "712:\tlearn: 7.9928844\ttest: 8.8750990\tbest: 8.8746236 (703)\ttotal: 3.38s\tremaining: 1.36s\n",
      "713:\tlearn: 7.9923782\ttest: 8.8752806\tbest: 8.8746236 (703)\ttotal: 3.38s\tremaining: 1.35s\n",
      "714:\tlearn: 7.9920241\ttest: 8.8754043\tbest: 8.8746236 (703)\ttotal: 3.39s\tremaining: 1.35s\n",
      "715:\tlearn: 7.9913792\ttest: 8.8750833\tbest: 8.8746236 (703)\ttotal: 3.39s\tremaining: 1.34s\n",
      "716:\tlearn: 7.9884838\ttest: 8.8749014\tbest: 8.8746236 (703)\ttotal: 3.39s\tremaining: 1.34s\n",
      "717:\tlearn: 7.9860065\ttest: 8.8736767\tbest: 8.8736767 (717)\ttotal: 3.4s\tremaining: 1.33s\n",
      "718:\tlearn: 7.9841180\ttest: 8.8721621\tbest: 8.8721621 (718)\ttotal: 3.4s\tremaining: 1.33s\n",
      "719:\tlearn: 7.9833914\ttest: 8.8719482\tbest: 8.8719482 (719)\ttotal: 3.41s\tremaining: 1.32s\n",
      "720:\tlearn: 7.9824730\ttest: 8.8710294\tbest: 8.8710294 (720)\ttotal: 3.42s\tremaining: 1.32s\n",
      "721:\tlearn: 7.9804005\ttest: 8.8706882\tbest: 8.8706882 (721)\ttotal: 3.42s\tremaining: 1.32s\n",
      "722:\tlearn: 7.9800159\ttest: 8.8706543\tbest: 8.8706543 (722)\ttotal: 3.43s\tremaining: 1.31s\n",
      "723:\tlearn: 7.9793072\ttest: 8.8704666\tbest: 8.8704666 (723)\ttotal: 3.44s\tremaining: 1.31s\n",
      "724:\tlearn: 7.9774665\ttest: 8.8699369\tbest: 8.8699369 (724)\ttotal: 3.44s\tremaining: 1.31s\n",
      "725:\tlearn: 7.9771661\ttest: 8.8698947\tbest: 8.8698947 (725)\ttotal: 3.45s\tremaining: 1.3s\n",
      "726:\tlearn: 7.9767509\ttest: 8.8697151\tbest: 8.8697151 (726)\ttotal: 3.46s\tremaining: 1.3s\n",
      "727:\tlearn: 7.9744999\ttest: 8.8692953\tbest: 8.8692953 (727)\ttotal: 3.46s\tremaining: 1.29s\n",
      "728:\tlearn: 7.9738986\ttest: 8.8693211\tbest: 8.8692953 (727)\ttotal: 3.47s\tremaining: 1.29s\n",
      "729:\tlearn: 7.9720830\ttest: 8.8690874\tbest: 8.8690874 (729)\ttotal: 3.47s\tremaining: 1.28s\n",
      "730:\tlearn: 7.9696052\ttest: 8.8704091\tbest: 8.8690874 (729)\ttotal: 3.48s\tremaining: 1.28s\n",
      "731:\tlearn: 7.9695587\ttest: 8.8702920\tbest: 8.8690874 (729)\ttotal: 3.48s\tremaining: 1.27s\n",
      "732:\tlearn: 7.9686618\ttest: 8.8699204\tbest: 8.8690874 (729)\ttotal: 3.48s\tremaining: 1.27s\n",
      "733:\tlearn: 7.9678552\ttest: 8.8702214\tbest: 8.8690874 (729)\ttotal: 3.48s\tremaining: 1.26s\n",
      "734:\tlearn: 7.9663713\ttest: 8.8702750\tbest: 8.8690874 (729)\ttotal: 3.49s\tremaining: 1.26s\n",
      "735:\tlearn: 7.9659494\ttest: 8.8703768\tbest: 8.8690874 (729)\ttotal: 3.49s\tremaining: 1.25s\n",
      "736:\tlearn: 7.9631216\ttest: 8.8702027\tbest: 8.8690874 (729)\ttotal: 3.5s\tremaining: 1.25s\n",
      "737:\tlearn: 7.9626085\ttest: 8.8698952\tbest: 8.8690874 (729)\ttotal: 3.5s\tremaining: 1.24s\n",
      "738:\tlearn: 7.9604879\ttest: 8.8695652\tbest: 8.8690874 (729)\ttotal: 3.5s\tremaining: 1.24s\n",
      "739:\tlearn: 7.9596313\ttest: 8.8702160\tbest: 8.8690874 (729)\ttotal: 3.51s\tremaining: 1.23s\n",
      "740:\tlearn: 7.9581127\ttest: 8.8695209\tbest: 8.8690874 (729)\ttotal: 3.51s\tremaining: 1.23s\n",
      "741:\tlearn: 7.9556773\ttest: 8.8699292\tbest: 8.8690874 (729)\ttotal: 3.52s\tremaining: 1.22s\n",
      "742:\tlearn: 7.9553857\ttest: 8.8698388\tbest: 8.8690874 (729)\ttotal: 3.52s\tremaining: 1.22s\n",
      "743:\tlearn: 7.9546420\ttest: 8.8696206\tbest: 8.8690874 (729)\ttotal: 3.53s\tremaining: 1.21s\n",
      "744:\tlearn: 7.9532459\ttest: 8.8692928\tbest: 8.8690874 (729)\ttotal: 3.54s\tremaining: 1.21s\n",
      "745:\tlearn: 7.9518644\ttest: 8.8693460\tbest: 8.8690874 (729)\ttotal: 3.54s\tremaining: 1.21s\n",
      "746:\tlearn: 7.9503112\ttest: 8.8698295\tbest: 8.8690874 (729)\ttotal: 3.55s\tremaining: 1.2s\n",
      "747:\tlearn: 7.9495802\ttest: 8.8697505\tbest: 8.8690874 (729)\ttotal: 3.55s\tremaining: 1.2s\n",
      "748:\tlearn: 7.9481507\ttest: 8.8699590\tbest: 8.8690874 (729)\ttotal: 3.56s\tremaining: 1.19s\n",
      "749:\tlearn: 7.9453196\ttest: 8.8706346\tbest: 8.8690874 (729)\ttotal: 3.56s\tremaining: 1.19s\n",
      "750:\tlearn: 7.9439929\ttest: 8.8695119\tbest: 8.8690874 (729)\ttotal: 3.57s\tremaining: 1.18s\n",
      "751:\tlearn: 7.9434922\ttest: 8.8693260\tbest: 8.8690874 (729)\ttotal: 3.57s\tremaining: 1.18s\n",
      "752:\tlearn: 7.9408384\ttest: 8.8699894\tbest: 8.8690874 (729)\ttotal: 3.58s\tremaining: 1.17s\n",
      "753:\tlearn: 7.9395856\ttest: 8.8699066\tbest: 8.8690874 (729)\ttotal: 3.58s\tremaining: 1.17s\n",
      "754:\tlearn: 7.9374468\ttest: 8.8694932\tbest: 8.8690874 (729)\ttotal: 3.59s\tremaining: 1.16s\n",
      "755:\tlearn: 7.9370494\ttest: 8.8694153\tbest: 8.8690874 (729)\ttotal: 3.59s\tremaining: 1.16s\n",
      "756:\tlearn: 7.9356564\ttest: 8.8693600\tbest: 8.8690874 (729)\ttotal: 3.6s\tremaining: 1.15s\n",
      "757:\tlearn: 7.9346537\ttest: 8.8689982\tbest: 8.8689982 (757)\ttotal: 3.6s\tremaining: 1.15s\n",
      "758:\tlearn: 7.9316979\ttest: 8.8688716\tbest: 8.8688716 (758)\ttotal: 3.61s\tremaining: 1.15s\n",
      "759:\tlearn: 7.9306591\ttest: 8.8688350\tbest: 8.8688350 (759)\ttotal: 3.62s\tremaining: 1.14s\n",
      "760:\tlearn: 7.9293959\ttest: 8.8686546\tbest: 8.8686546 (760)\ttotal: 3.62s\tremaining: 1.14s\n",
      "761:\tlearn: 7.9285827\ttest: 8.8687264\tbest: 8.8686546 (760)\ttotal: 3.63s\tremaining: 1.13s\n",
      "762:\tlearn: 7.9279244\ttest: 8.8686810\tbest: 8.8686546 (760)\ttotal: 3.63s\tremaining: 1.13s\n",
      "763:\tlearn: 7.9275230\ttest: 8.8687303\tbest: 8.8686546 (760)\ttotal: 3.64s\tremaining: 1.12s\n",
      "764:\tlearn: 7.9267590\ttest: 8.8688033\tbest: 8.8686546 (760)\ttotal: 3.64s\tremaining: 1.12s\n",
      "765:\tlearn: 7.9267152\ttest: 8.8688113\tbest: 8.8686546 (760)\ttotal: 3.65s\tremaining: 1.11s\n",
      "766:\tlearn: 7.9265764\ttest: 8.8688445\tbest: 8.8686546 (760)\ttotal: 3.65s\tremaining: 1.11s\n",
      "767:\tlearn: 7.9259010\ttest: 8.8684714\tbest: 8.8684714 (767)\ttotal: 3.66s\tremaining: 1.1s\n",
      "768:\tlearn: 7.9236627\ttest: 8.8673167\tbest: 8.8673167 (768)\ttotal: 3.66s\tremaining: 1.1s\n",
      "769:\tlearn: 7.9223269\ttest: 8.8663419\tbest: 8.8663419 (769)\ttotal: 3.67s\tremaining: 1.09s\n",
      "770:\tlearn: 7.9203630\ttest: 8.8659925\tbest: 8.8659925 (770)\ttotal: 3.67s\tremaining: 1.09s\n",
      "771:\tlearn: 7.9173153\ttest: 8.8676105\tbest: 8.8659925 (770)\ttotal: 3.68s\tremaining: 1.08s\n",
      "772:\tlearn: 7.9162686\ttest: 8.8674459\tbest: 8.8659925 (770)\ttotal: 3.68s\tremaining: 1.08s\n",
      "773:\tlearn: 7.9129603\ttest: 8.8680364\tbest: 8.8659925 (770)\ttotal: 3.69s\tremaining: 1.08s\n",
      "774:\tlearn: 7.9110641\ttest: 8.8695891\tbest: 8.8659925 (770)\ttotal: 3.69s\tremaining: 1.07s\n",
      "775:\tlearn: 7.9095397\ttest: 8.8685504\tbest: 8.8659925 (770)\ttotal: 3.69s\tremaining: 1.07s\n",
      "776:\tlearn: 7.9083870\ttest: 8.8683780\tbest: 8.8659925 (770)\ttotal: 3.7s\tremaining: 1.06s\n",
      "777:\tlearn: 7.9072482\ttest: 8.8680964\tbest: 8.8659925 (770)\ttotal: 3.71s\tremaining: 1.06s\n",
      "778:\tlearn: 7.9046681\ttest: 8.8671758\tbest: 8.8659925 (770)\ttotal: 3.71s\tremaining: 1.05s\n",
      "779:\tlearn: 7.9035856\ttest: 8.8670365\tbest: 8.8659925 (770)\ttotal: 3.71s\tremaining: 1.05s\n",
      "780:\tlearn: 7.9028647\ttest: 8.8670324\tbest: 8.8659925 (770)\ttotal: 3.72s\tremaining: 1.04s\n",
      "781:\tlearn: 7.9016368\ttest: 8.8672386\tbest: 8.8659925 (770)\ttotal: 3.72s\tremaining: 1.04s\n",
      "782:\tlearn: 7.9006427\ttest: 8.8670786\tbest: 8.8659925 (770)\ttotal: 3.73s\tremaining: 1.03s\n",
      "783:\tlearn: 7.8997886\ttest: 8.8670158\tbest: 8.8659925 (770)\ttotal: 3.73s\tremaining: 1.03s\n",
      "784:\tlearn: 7.8968575\ttest: 8.8680497\tbest: 8.8659925 (770)\ttotal: 3.74s\tremaining: 1.02s\n",
      "785:\tlearn: 7.8952165\ttest: 8.8676963\tbest: 8.8659925 (770)\ttotal: 3.74s\tremaining: 1.02s\n",
      "786:\tlearn: 7.8940855\ttest: 8.8676862\tbest: 8.8659925 (770)\ttotal: 3.75s\tremaining: 1.01s\n",
      "787:\tlearn: 7.8927412\ttest: 8.8679481\tbest: 8.8659925 (770)\ttotal: 3.75s\tremaining: 1.01s\n",
      "788:\tlearn: 7.8923573\ttest: 8.8676755\tbest: 8.8659925 (770)\ttotal: 3.76s\tremaining: 1s\n",
      "789:\tlearn: 7.8893895\ttest: 8.8678208\tbest: 8.8659925 (770)\ttotal: 3.76s\tremaining: 1000ms\n",
      "790:\tlearn: 7.8880437\ttest: 8.8676699\tbest: 8.8659925 (770)\ttotal: 3.76s\tremaining: 994ms\n",
      "791:\tlearn: 7.8870949\ttest: 8.8676663\tbest: 8.8659925 (770)\ttotal: 3.77s\tremaining: 989ms\n",
      "792:\tlearn: 7.8866459\ttest: 8.8676880\tbest: 8.8659925 (770)\ttotal: 3.77s\tremaining: 984ms\n",
      "793:\tlearn: 7.8851073\ttest: 8.8667236\tbest: 8.8659925 (770)\ttotal: 3.77s\tremaining: 979ms\n",
      "794:\tlearn: 7.8843098\ttest: 8.8666635\tbest: 8.8659925 (770)\ttotal: 3.78s\tremaining: 974ms\n",
      "795:\tlearn: 7.8826836\ttest: 8.8660278\tbest: 8.8659925 (770)\ttotal: 3.78s\tremaining: 969ms\n",
      "796:\tlearn: 7.8819398\ttest: 8.8656439\tbest: 8.8656439 (796)\ttotal: 3.78s\tremaining: 964ms\n",
      "797:\tlearn: 7.8815128\ttest: 8.8656464\tbest: 8.8656439 (796)\ttotal: 3.79s\tremaining: 959ms\n",
      "798:\tlearn: 7.8806392\ttest: 8.8650463\tbest: 8.8650463 (798)\ttotal: 3.79s\tremaining: 953ms\n",
      "799:\tlearn: 7.8797965\ttest: 8.8650139\tbest: 8.8650139 (799)\ttotal: 3.79s\tremaining: 949ms\n",
      "800:\tlearn: 7.8787920\ttest: 8.8651868\tbest: 8.8650139 (799)\ttotal: 3.8s\tremaining: 944ms\n",
      "801:\tlearn: 7.8778043\ttest: 8.8647628\tbest: 8.8647628 (801)\ttotal: 3.8s\tremaining: 939ms\n",
      "802:\tlearn: 7.8749754\ttest: 8.8642530\tbest: 8.8642530 (802)\ttotal: 3.81s\tremaining: 935ms\n",
      "803:\tlearn: 7.8738084\ttest: 8.8643377\tbest: 8.8642530 (802)\ttotal: 3.81s\tremaining: 930ms\n",
      "804:\tlearn: 7.8727986\ttest: 8.8640921\tbest: 8.8640921 (804)\ttotal: 3.82s\tremaining: 926ms\n",
      "805:\tlearn: 7.8719552\ttest: 8.8641301\tbest: 8.8640921 (804)\ttotal: 3.83s\tremaining: 921ms\n",
      "806:\tlearn: 7.8702230\ttest: 8.8648610\tbest: 8.8640921 (804)\ttotal: 3.83s\tremaining: 917ms\n",
      "807:\tlearn: 7.8699225\ttest: 8.8648374\tbest: 8.8640921 (804)\ttotal: 3.84s\tremaining: 912ms\n",
      "808:\tlearn: 7.8690118\ttest: 8.8642789\tbest: 8.8640921 (804)\ttotal: 3.84s\tremaining: 907ms\n",
      "809:\tlearn: 7.8663042\ttest: 8.8648661\tbest: 8.8640921 (804)\ttotal: 3.84s\tremaining: 902ms\n",
      "810:\tlearn: 7.8658780\ttest: 8.8647951\tbest: 8.8640921 (804)\ttotal: 3.85s\tremaining: 897ms\n",
      "811:\tlearn: 7.8645034\ttest: 8.8648496\tbest: 8.8640921 (804)\ttotal: 3.86s\tremaining: 893ms\n",
      "812:\tlearn: 7.8637424\ttest: 8.8646936\tbest: 8.8640921 (804)\ttotal: 3.86s\tremaining: 888ms\n",
      "813:\tlearn: 7.8628126\ttest: 8.8646297\tbest: 8.8640921 (804)\ttotal: 3.86s\tremaining: 883ms\n",
      "814:\tlearn: 7.8621749\ttest: 8.8648126\tbest: 8.8640921 (804)\ttotal: 3.87s\tremaining: 878ms\n",
      "815:\tlearn: 7.8613516\ttest: 8.8643727\tbest: 8.8640921 (804)\ttotal: 3.87s\tremaining: 874ms\n",
      "816:\tlearn: 7.8606580\ttest: 8.8642196\tbest: 8.8640921 (804)\ttotal: 3.88s\tremaining: 869ms\n",
      "817:\tlearn: 7.8600735\ttest: 8.8639790\tbest: 8.8639790 (817)\ttotal: 3.88s\tremaining: 864ms\n",
      "818:\tlearn: 7.8595380\ttest: 8.8640636\tbest: 8.8639790 (817)\ttotal: 3.89s\tremaining: 859ms\n",
      "819:\tlearn: 7.8584308\ttest: 8.8635700\tbest: 8.8635700 (819)\ttotal: 3.89s\tremaining: 854ms\n",
      "820:\tlearn: 7.8571740\ttest: 8.8640505\tbest: 8.8635700 (819)\ttotal: 3.9s\tremaining: 849ms\n",
      "821:\tlearn: 7.8567928\ttest: 8.8641674\tbest: 8.8635700 (819)\ttotal: 3.9s\tremaining: 844ms\n",
      "822:\tlearn: 7.8561550\ttest: 8.8641052\tbest: 8.8635700 (819)\ttotal: 3.9s\tremaining: 840ms\n",
      "823:\tlearn: 7.8554927\ttest: 8.8640112\tbest: 8.8635700 (819)\ttotal: 3.91s\tremaining: 835ms\n",
      "824:\tlearn: 7.8544262\ttest: 8.8634292\tbest: 8.8634292 (824)\ttotal: 3.91s\tremaining: 830ms\n",
      "825:\tlearn: 7.8538333\ttest: 8.8636935\tbest: 8.8634292 (824)\ttotal: 3.92s\tremaining: 826ms\n",
      "826:\tlearn: 7.8510833\ttest: 8.8622844\tbest: 8.8622844 (826)\ttotal: 3.92s\tremaining: 821ms\n",
      "827:\tlearn: 7.8491368\ttest: 8.8642615\tbest: 8.8622844 (826)\ttotal: 3.93s\tremaining: 816ms\n",
      "828:\tlearn: 7.8480570\ttest: 8.8639077\tbest: 8.8622844 (826)\ttotal: 3.93s\tremaining: 811ms\n",
      "829:\tlearn: 7.8459529\ttest: 8.8638077\tbest: 8.8622844 (826)\ttotal: 3.94s\tremaining: 807ms\n",
      "830:\tlearn: 7.8455535\ttest: 8.8640177\tbest: 8.8622844 (826)\ttotal: 3.94s\tremaining: 802ms\n",
      "831:\tlearn: 7.8445588\ttest: 8.8640107\tbest: 8.8622844 (826)\ttotal: 3.94s\tremaining: 797ms\n",
      "832:\tlearn: 7.8432483\ttest: 8.8644432\tbest: 8.8622844 (826)\ttotal: 3.95s\tremaining: 792ms\n",
      "833:\tlearn: 7.8416691\ttest: 8.8650927\tbest: 8.8622844 (826)\ttotal: 3.96s\tremaining: 787ms\n",
      "834:\tlearn: 7.8386543\ttest: 8.8645326\tbest: 8.8622844 (826)\ttotal: 3.96s\tremaining: 782ms\n",
      "835:\tlearn: 7.8374199\ttest: 8.8640454\tbest: 8.8622844 (826)\ttotal: 3.96s\tremaining: 778ms\n",
      "836:\tlearn: 7.8369947\ttest: 8.8639822\tbest: 8.8622844 (826)\ttotal: 3.97s\tremaining: 773ms\n",
      "837:\tlearn: 7.8357668\ttest: 8.8637866\tbest: 8.8622844 (826)\ttotal: 3.97s\tremaining: 768ms\n",
      "838:\tlearn: 7.8347441\ttest: 8.8639141\tbest: 8.8622844 (826)\ttotal: 3.98s\tremaining: 763ms\n",
      "839:\tlearn: 7.8338947\ttest: 8.8636264\tbest: 8.8622844 (826)\ttotal: 3.98s\tremaining: 758ms\n",
      "840:\tlearn: 7.8330561\ttest: 8.8632783\tbest: 8.8622844 (826)\ttotal: 3.99s\tremaining: 754ms\n",
      "841:\tlearn: 7.8319120\ttest: 8.8625964\tbest: 8.8622844 (826)\ttotal: 3.99s\tremaining: 750ms\n",
      "842:\tlearn: 7.8310337\ttest: 8.8625485\tbest: 8.8622844 (826)\ttotal: 4s\tremaining: 745ms\n",
      "843:\tlearn: 7.8306215\ttest: 8.8626071\tbest: 8.8622844 (826)\ttotal: 4.01s\tremaining: 741ms\n",
      "844:\tlearn: 7.8288003\ttest: 8.8627132\tbest: 8.8622844 (826)\ttotal: 4.01s\tremaining: 736ms\n",
      "845:\tlearn: 7.8277756\ttest: 8.8620217\tbest: 8.8620217 (845)\ttotal: 4.02s\tremaining: 731ms\n",
      "846:\tlearn: 7.8268032\ttest: 8.8616102\tbest: 8.8616102 (846)\ttotal: 4.02s\tremaining: 727ms\n",
      "847:\tlearn: 7.8249050\ttest: 8.8610999\tbest: 8.8610999 (847)\ttotal: 4.03s\tremaining: 722ms\n",
      "848:\tlearn: 7.8225556\ttest: 8.8617157\tbest: 8.8610999 (847)\ttotal: 4.03s\tremaining: 717ms\n",
      "849:\tlearn: 7.8218049\ttest: 8.8616087\tbest: 8.8610999 (847)\ttotal: 4.04s\tremaining: 712ms\n",
      "850:\tlearn: 7.8200866\ttest: 8.8614338\tbest: 8.8610999 (847)\ttotal: 4.04s\tremaining: 708ms\n",
      "851:\tlearn: 7.8185257\ttest: 8.8613906\tbest: 8.8610999 (847)\ttotal: 4.05s\tremaining: 703ms\n",
      "852:\tlearn: 7.8179134\ttest: 8.8615380\tbest: 8.8610999 (847)\ttotal: 4.05s\tremaining: 698ms\n",
      "853:\tlearn: 7.8161616\ttest: 8.8615543\tbest: 8.8610999 (847)\ttotal: 4.05s\tremaining: 693ms\n",
      "854:\tlearn: 7.8150377\ttest: 8.8613855\tbest: 8.8610999 (847)\ttotal: 4.06s\tremaining: 689ms\n",
      "855:\tlearn: 7.8144195\ttest: 8.8612810\tbest: 8.8610999 (847)\ttotal: 4.06s\tremaining: 684ms\n",
      "856:\tlearn: 7.8136924\ttest: 8.8613831\tbest: 8.8610999 (847)\ttotal: 4.07s\tremaining: 679ms\n",
      "857:\tlearn: 7.8127394\ttest: 8.8609477\tbest: 8.8609477 (857)\ttotal: 4.07s\tremaining: 674ms\n",
      "858:\tlearn: 7.8111864\ttest: 8.8609022\tbest: 8.8609022 (858)\ttotal: 4.08s\tremaining: 669ms\n",
      "859:\tlearn: 7.8105872\ttest: 8.8609649\tbest: 8.8609022 (858)\ttotal: 4.08s\tremaining: 664ms\n",
      "860:\tlearn: 7.8083559\ttest: 8.8603319\tbest: 8.8603319 (860)\ttotal: 4.08s\tremaining: 660ms\n",
      "861:\tlearn: 7.8076182\ttest: 8.8600418\tbest: 8.8600418 (861)\ttotal: 4.09s\tremaining: 655ms\n",
      "862:\tlearn: 7.8070437\ttest: 8.8599793\tbest: 8.8599793 (862)\ttotal: 4.09s\tremaining: 650ms\n",
      "863:\tlearn: 7.8060136\ttest: 8.8597035\tbest: 8.8597035 (863)\ttotal: 4.09s\tremaining: 645ms\n",
      "864:\tlearn: 7.8054672\ttest: 8.8593314\tbest: 8.8593314 (864)\ttotal: 4.1s\tremaining: 640ms\n",
      "865:\tlearn: 7.8030152\ttest: 8.8594112\tbest: 8.8593314 (864)\ttotal: 4.1s\tremaining: 635ms\n",
      "866:\tlearn: 7.8016494\ttest: 8.8594587\tbest: 8.8593314 (864)\ttotal: 4.11s\tremaining: 630ms\n",
      "867:\tlearn: 7.8011653\ttest: 8.8591556\tbest: 8.8591556 (867)\ttotal: 4.11s\tremaining: 625ms\n",
      "868:\tlearn: 7.8003265\ttest: 8.8582542\tbest: 8.8582542 (868)\ttotal: 4.11s\tremaining: 620ms\n",
      "869:\tlearn: 7.7983373\ttest: 8.8592100\tbest: 8.8582542 (868)\ttotal: 4.12s\tremaining: 616ms\n",
      "870:\tlearn: 7.7971024\ttest: 8.8593272\tbest: 8.8582542 (868)\ttotal: 4.12s\tremaining: 611ms\n",
      "871:\tlearn: 7.7965882\ttest: 8.8593382\tbest: 8.8582542 (868)\ttotal: 4.13s\tremaining: 606ms\n",
      "872:\tlearn: 7.7948730\ttest: 8.8590648\tbest: 8.8582542 (868)\ttotal: 4.13s\tremaining: 601ms\n",
      "873:\tlearn: 7.7945536\ttest: 8.8591599\tbest: 8.8582542 (868)\ttotal: 4.14s\tremaining: 597ms\n",
      "874:\tlearn: 7.7936965\ttest: 8.8590880\tbest: 8.8582542 (868)\ttotal: 4.14s\tremaining: 592ms\n",
      "875:\tlearn: 7.7930534\ttest: 8.8587648\tbest: 8.8582542 (868)\ttotal: 4.14s\tremaining: 587ms\n",
      "876:\tlearn: 7.7910065\ttest: 8.8580848\tbest: 8.8580848 (876)\ttotal: 4.15s\tremaining: 582ms\n",
      "877:\tlearn: 7.7901940\ttest: 8.8581129\tbest: 8.8580848 (876)\ttotal: 4.16s\tremaining: 578ms\n",
      "878:\tlearn: 7.7897934\ttest: 8.8582278\tbest: 8.8580848 (876)\ttotal: 4.16s\tremaining: 573ms\n",
      "879:\tlearn: 7.7893886\ttest: 8.8579576\tbest: 8.8579576 (879)\ttotal: 4.17s\tremaining: 568ms\n",
      "880:\tlearn: 7.7888323\ttest: 8.8579587\tbest: 8.8579576 (879)\ttotal: 4.17s\tremaining: 564ms\n",
      "881:\tlearn: 7.7874836\ttest: 8.8583408\tbest: 8.8579576 (879)\ttotal: 4.18s\tremaining: 559ms\n",
      "882:\tlearn: 7.7868178\ttest: 8.8584815\tbest: 8.8579576 (879)\ttotal: 4.18s\tremaining: 554ms\n",
      "883:\tlearn: 7.7848725\ttest: 8.8574953\tbest: 8.8574953 (883)\ttotal: 4.19s\tremaining: 550ms\n",
      "884:\tlearn: 7.7837815\ttest: 8.8577178\tbest: 8.8574953 (883)\ttotal: 4.19s\tremaining: 545ms\n",
      "885:\tlearn: 7.7818422\ttest: 8.8581749\tbest: 8.8574953 (883)\ttotal: 4.2s\tremaining: 540ms\n",
      "886:\tlearn: 7.7795797\ttest: 8.8587227\tbest: 8.8574953 (883)\ttotal: 4.21s\tremaining: 536ms\n",
      "887:\tlearn: 7.7788629\ttest: 8.8587999\tbest: 8.8574953 (883)\ttotal: 4.21s\tremaining: 531ms\n",
      "888:\tlearn: 7.7778740\ttest: 8.8588196\tbest: 8.8574953 (883)\ttotal: 4.22s\tremaining: 527ms\n",
      "889:\tlearn: 7.7774447\ttest: 8.8586206\tbest: 8.8574953 (883)\ttotal: 4.22s\tremaining: 522ms\n",
      "890:\tlearn: 7.7752867\ttest: 8.8582219\tbest: 8.8574953 (883)\ttotal: 4.23s\tremaining: 517ms\n",
      "891:\tlearn: 7.7737925\ttest: 8.8583304\tbest: 8.8574953 (883)\ttotal: 4.23s\tremaining: 513ms\n",
      "892:\tlearn: 7.7729137\ttest: 8.8585208\tbest: 8.8574953 (883)\ttotal: 4.24s\tremaining: 508ms\n",
      "893:\tlearn: 7.7697320\ttest: 8.8589782\tbest: 8.8574953 (883)\ttotal: 4.24s\tremaining: 503ms\n",
      "894:\tlearn: 7.7667337\ttest: 8.8588607\tbest: 8.8574953 (883)\ttotal: 4.25s\tremaining: 498ms\n",
      "895:\tlearn: 7.7663969\ttest: 8.8588151\tbest: 8.8574953 (883)\ttotal: 4.25s\tremaining: 494ms\n",
      "896:\tlearn: 7.7656026\ttest: 8.8589263\tbest: 8.8574953 (883)\ttotal: 4.25s\tremaining: 489ms\n",
      "897:\tlearn: 7.7649651\ttest: 8.8589499\tbest: 8.8574953 (883)\ttotal: 4.26s\tremaining: 484ms\n",
      "898:\tlearn: 7.7641957\ttest: 8.8586582\tbest: 8.8574953 (883)\ttotal: 4.26s\tremaining: 479ms\n",
      "899:\tlearn: 7.7614254\ttest: 8.8583481\tbest: 8.8574953 (883)\ttotal: 4.27s\tremaining: 474ms\n",
      "900:\tlearn: 7.7590532\ttest: 8.8568372\tbest: 8.8568372 (900)\ttotal: 4.27s\tremaining: 470ms\n",
      "901:\tlearn: 7.7568028\ttest: 8.8553061\tbest: 8.8553061 (901)\ttotal: 4.28s\tremaining: 465ms\n",
      "902:\tlearn: 7.7548596\ttest: 8.8548762\tbest: 8.8548762 (902)\ttotal: 4.28s\tremaining: 460ms\n",
      "903:\tlearn: 7.7543265\ttest: 8.8549442\tbest: 8.8548762 (902)\ttotal: 4.29s\tremaining: 455ms\n",
      "904:\tlearn: 7.7535352\ttest: 8.8547303\tbest: 8.8547303 (904)\ttotal: 4.29s\tremaining: 451ms\n",
      "905:\tlearn: 7.7529931\ttest: 8.8548476\tbest: 8.8547303 (904)\ttotal: 4.3s\tremaining: 446ms\n",
      "906:\tlearn: 7.7518527\ttest: 8.8549214\tbest: 8.8547303 (904)\ttotal: 4.3s\tremaining: 441ms\n",
      "907:\tlearn: 7.7518270\ttest: 8.8549255\tbest: 8.8547303 (904)\ttotal: 4.3s\tremaining: 436ms\n",
      "908:\tlearn: 7.7512493\ttest: 8.8547434\tbest: 8.8547303 (904)\ttotal: 4.31s\tremaining: 431ms\n",
      "909:\tlearn: 7.7505146\ttest: 8.8548807\tbest: 8.8547303 (904)\ttotal: 4.32s\tremaining: 427ms\n",
      "910:\tlearn: 7.7491370\ttest: 8.8544633\tbest: 8.8544633 (910)\ttotal: 4.32s\tremaining: 422ms\n",
      "911:\tlearn: 7.7483881\ttest: 8.8544922\tbest: 8.8544633 (910)\ttotal: 4.33s\tremaining: 418ms\n",
      "912:\tlearn: 7.7473182\ttest: 8.8548961\tbest: 8.8544633 (910)\ttotal: 4.34s\tremaining: 413ms\n",
      "913:\tlearn: 7.7437437\ttest: 8.8546886\tbest: 8.8544633 (910)\ttotal: 4.34s\tremaining: 409ms\n",
      "914:\tlearn: 7.7420921\ttest: 8.8548286\tbest: 8.8544633 (910)\ttotal: 4.35s\tremaining: 404ms\n",
      "915:\tlearn: 7.7406783\ttest: 8.8545108\tbest: 8.8544633 (910)\ttotal: 4.35s\tremaining: 399ms\n",
      "916:\tlearn: 7.7397321\ttest: 8.8545513\tbest: 8.8544633 (910)\ttotal: 4.36s\tremaining: 394ms\n",
      "917:\tlearn: 7.7390351\ttest: 8.8537092\tbest: 8.8537092 (917)\ttotal: 4.36s\tremaining: 390ms\n",
      "918:\tlearn: 7.7367323\ttest: 8.8536790\tbest: 8.8536790 (918)\ttotal: 4.36s\tremaining: 385ms\n",
      "919:\tlearn: 7.7341812\ttest: 8.8543507\tbest: 8.8536790 (918)\ttotal: 4.37s\tremaining: 380ms\n",
      "920:\tlearn: 7.7330550\ttest: 8.8540477\tbest: 8.8536790 (918)\ttotal: 4.38s\tremaining: 375ms\n",
      "921:\tlearn: 7.7320615\ttest: 8.8536546\tbest: 8.8536546 (921)\ttotal: 4.38s\tremaining: 371ms\n",
      "922:\tlearn: 7.7302051\ttest: 8.8531086\tbest: 8.8531086 (922)\ttotal: 4.39s\tremaining: 366ms\n",
      "923:\tlearn: 7.7294428\ttest: 8.8535129\tbest: 8.8531086 (922)\ttotal: 4.39s\tremaining: 361ms\n",
      "924:\tlearn: 7.7278997\ttest: 8.8537904\tbest: 8.8531086 (922)\ttotal: 4.4s\tremaining: 357ms\n",
      "925:\tlearn: 7.7264708\ttest: 8.8539979\tbest: 8.8531086 (922)\ttotal: 4.41s\tremaining: 352ms\n",
      "926:\tlearn: 7.7256550\ttest: 8.8539329\tbest: 8.8531086 (922)\ttotal: 4.41s\tremaining: 347ms\n",
      "927:\tlearn: 7.7253368\ttest: 8.8539530\tbest: 8.8531086 (922)\ttotal: 4.42s\tremaining: 343ms\n",
      "928:\tlearn: 7.7244372\ttest: 8.8543184\tbest: 8.8531086 (922)\ttotal: 4.42s\tremaining: 338ms\n",
      "929:\tlearn: 7.7233843\ttest: 8.8545852\tbest: 8.8531086 (922)\ttotal: 4.42s\tremaining: 333ms\n",
      "930:\tlearn: 7.7226699\ttest: 8.8541185\tbest: 8.8531086 (922)\ttotal: 4.43s\tremaining: 328ms\n",
      "931:\tlearn: 7.7226425\ttest: 8.8539657\tbest: 8.8531086 (922)\ttotal: 4.43s\tremaining: 324ms\n",
      "932:\tlearn: 7.7220651\ttest: 8.8540870\tbest: 8.8531086 (922)\ttotal: 4.44s\tremaining: 319ms\n",
      "933:\tlearn: 7.7212408\ttest: 8.8540751\tbest: 8.8531086 (922)\ttotal: 4.44s\tremaining: 314ms\n",
      "934:\tlearn: 7.7204686\ttest: 8.8539974\tbest: 8.8531086 (922)\ttotal: 4.45s\tremaining: 309ms\n",
      "935:\tlearn: 7.7190398\ttest: 8.8541698\tbest: 8.8531086 (922)\ttotal: 4.46s\tremaining: 305ms\n",
      "936:\tlearn: 7.7185486\ttest: 8.8539763\tbest: 8.8531086 (922)\ttotal: 4.46s\tremaining: 300ms\n",
      "937:\tlearn: 7.7175946\ttest: 8.8538142\tbest: 8.8531086 (922)\ttotal: 4.46s\tremaining: 295ms\n",
      "938:\tlearn: 7.7169472\ttest: 8.8537370\tbest: 8.8531086 (922)\ttotal: 4.47s\tremaining: 290ms\n",
      "939:\tlearn: 7.7153787\ttest: 8.8529116\tbest: 8.8529116 (939)\ttotal: 4.47s\tremaining: 286ms\n",
      "940:\tlearn: 7.7140311\ttest: 8.8531177\tbest: 8.8529116 (939)\ttotal: 4.48s\tremaining: 281ms\n",
      "941:\tlearn: 7.7106253\ttest: 8.8538584\tbest: 8.8529116 (939)\ttotal: 4.48s\tremaining: 276ms\n",
      "942:\tlearn: 7.7094765\ttest: 8.8541533\tbest: 8.8529116 (939)\ttotal: 4.49s\tremaining: 271ms\n",
      "943:\tlearn: 7.7083520\ttest: 8.8538650\tbest: 8.8529116 (939)\ttotal: 4.5s\tremaining: 267ms\n",
      "944:\tlearn: 7.7071301\ttest: 8.8536925\tbest: 8.8529116 (939)\ttotal: 4.5s\tremaining: 262ms\n",
      "945:\tlearn: 7.7063262\ttest: 8.8534113\tbest: 8.8529116 (939)\ttotal: 4.5s\tremaining: 257ms\n",
      "946:\tlearn: 7.7031380\ttest: 8.8542386\tbest: 8.8529116 (939)\ttotal: 4.51s\tremaining: 252ms\n",
      "947:\tlearn: 7.7011336\ttest: 8.8552601\tbest: 8.8529116 (939)\ttotal: 4.51s\tremaining: 248ms\n",
      "948:\tlearn: 7.7005229\ttest: 8.8552067\tbest: 8.8529116 (939)\ttotal: 4.52s\tremaining: 243ms\n",
      "949:\tlearn: 7.6970049\ttest: 8.8557858\tbest: 8.8529116 (939)\ttotal: 4.52s\tremaining: 238ms\n",
      "950:\tlearn: 7.6951950\ttest: 8.8552590\tbest: 8.8529116 (939)\ttotal: 4.53s\tremaining: 233ms\n",
      "951:\tlearn: 7.6944297\ttest: 8.8554878\tbest: 8.8529116 (939)\ttotal: 4.53s\tremaining: 228ms\n",
      "952:\tlearn: 7.6921636\ttest: 8.8550254\tbest: 8.8529116 (939)\ttotal: 4.53s\tremaining: 224ms\n",
      "953:\tlearn: 7.6902530\ttest: 8.8545344\tbest: 8.8529116 (939)\ttotal: 4.54s\tremaining: 219ms\n",
      "954:\tlearn: 7.6896551\ttest: 8.8545504\tbest: 8.8529116 (939)\ttotal: 4.54s\tremaining: 214ms\n",
      "955:\tlearn: 7.6893163\ttest: 8.8545177\tbest: 8.8529116 (939)\ttotal: 4.55s\tremaining: 209ms\n",
      "956:\tlearn: 7.6878520\ttest: 8.8534801\tbest: 8.8529116 (939)\ttotal: 4.56s\tremaining: 205ms\n",
      "957:\tlearn: 7.6876575\ttest: 8.8535290\tbest: 8.8529116 (939)\ttotal: 4.56s\tremaining: 200ms\n",
      "958:\tlearn: 7.6865177\ttest: 8.8534643\tbest: 8.8529116 (939)\ttotal: 4.57s\tremaining: 195ms\n",
      "959:\tlearn: 7.6852899\ttest: 8.8534979\tbest: 8.8529116 (939)\ttotal: 4.58s\tremaining: 191ms\n",
      "960:\tlearn: 7.6842965\ttest: 8.8532774\tbest: 8.8529116 (939)\ttotal: 4.58s\tremaining: 186ms\n",
      "961:\tlearn: 7.6835178\ttest: 8.8528384\tbest: 8.8528384 (961)\ttotal: 4.59s\tremaining: 181ms\n",
      "962:\tlearn: 7.6823028\ttest: 8.8529743\tbest: 8.8528384 (961)\ttotal: 4.59s\tremaining: 176ms\n",
      "963:\tlearn: 7.6805314\ttest: 8.8524118\tbest: 8.8524118 (963)\ttotal: 4.6s\tremaining: 172ms\n",
      "964:\tlearn: 7.6798447\ttest: 8.8519060\tbest: 8.8519060 (964)\ttotal: 4.6s\tremaining: 167ms\n",
      "965:\tlearn: 7.6796833\ttest: 8.8518232\tbest: 8.8518232 (965)\ttotal: 4.61s\tremaining: 162ms\n",
      "966:\tlearn: 7.6783658\ttest: 8.8514197\tbest: 8.8514197 (966)\ttotal: 4.61s\tremaining: 157ms\n",
      "967:\tlearn: 7.6779033\ttest: 8.8514249\tbest: 8.8514197 (966)\ttotal: 4.61s\tremaining: 153ms\n",
      "968:\tlearn: 7.6770228\ttest: 8.8510403\tbest: 8.8510403 (968)\ttotal: 4.62s\tremaining: 148ms\n",
      "969:\tlearn: 7.6761711\ttest: 8.8510576\tbest: 8.8510403 (968)\ttotal: 4.62s\tremaining: 143ms\n",
      "970:\tlearn: 7.6751245\ttest: 8.8513380\tbest: 8.8510403 (968)\ttotal: 4.62s\tremaining: 138ms\n",
      "971:\tlearn: 7.6742123\ttest: 8.8516699\tbest: 8.8510403 (968)\ttotal: 4.63s\tremaining: 133ms\n",
      "972:\tlearn: 7.6722231\ttest: 8.8531246\tbest: 8.8510403 (968)\ttotal: 4.63s\tremaining: 129ms\n",
      "973:\tlearn: 7.6703072\ttest: 8.8530044\tbest: 8.8510403 (968)\ttotal: 4.64s\tremaining: 124ms\n",
      "974:\tlearn: 7.6682610\ttest: 8.8529141\tbest: 8.8510403 (968)\ttotal: 4.64s\tremaining: 119ms\n",
      "975:\tlearn: 7.6670979\ttest: 8.8525569\tbest: 8.8510403 (968)\ttotal: 4.64s\tremaining: 114ms\n",
      "976:\tlearn: 7.6652968\ttest: 8.8508923\tbest: 8.8508923 (976)\ttotal: 4.65s\tremaining: 109ms\n",
      "977:\tlearn: 7.6638287\ttest: 8.8503243\tbest: 8.8503243 (977)\ttotal: 4.65s\tremaining: 105ms\n",
      "978:\tlearn: 7.6614392\ttest: 8.8505161\tbest: 8.8503243 (977)\ttotal: 4.66s\tremaining: 99.9ms\n",
      "979:\tlearn: 7.6600123\ttest: 8.8509273\tbest: 8.8503243 (977)\ttotal: 4.66s\tremaining: 95.1ms\n",
      "980:\tlearn: 7.6588268\ttest: 8.8510829\tbest: 8.8503243 (977)\ttotal: 4.66s\tremaining: 90.3ms\n",
      "981:\tlearn: 7.6566838\ttest: 8.8498261\tbest: 8.8498261 (981)\ttotal: 4.67s\tremaining: 85.6ms\n",
      "982:\tlearn: 7.6560839\ttest: 8.8496724\tbest: 8.8496724 (982)\ttotal: 4.67s\tremaining: 80.8ms\n",
      "983:\tlearn: 7.6539215\ttest: 8.8489154\tbest: 8.8489154 (983)\ttotal: 4.68s\tremaining: 76ms\n",
      "984:\tlearn: 7.6532526\ttest: 8.8487301\tbest: 8.8487301 (984)\ttotal: 4.68s\tremaining: 71.3ms\n",
      "985:\tlearn: 7.6521325\ttest: 8.8479405\tbest: 8.8479405 (985)\ttotal: 4.69s\tremaining: 66.6ms\n",
      "986:\tlearn: 7.6513211\ttest: 8.8476820\tbest: 8.8476820 (986)\ttotal: 4.69s\tremaining: 61.8ms\n",
      "987:\tlearn: 7.6508417\ttest: 8.8476210\tbest: 8.8476210 (987)\ttotal: 4.7s\tremaining: 57.1ms\n",
      "988:\tlearn: 7.6500650\ttest: 8.8477783\tbest: 8.8476210 (987)\ttotal: 4.7s\tremaining: 52.3ms\n",
      "989:\tlearn: 7.6495049\ttest: 8.8474715\tbest: 8.8474715 (989)\ttotal: 4.71s\tremaining: 47.6ms\n",
      "990:\tlearn: 7.6486110\ttest: 8.8473663\tbest: 8.8473663 (990)\ttotal: 4.71s\tremaining: 42.8ms\n",
      "991:\tlearn: 7.6482601\ttest: 8.8475079\tbest: 8.8473663 (990)\ttotal: 4.72s\tremaining: 38.1ms\n",
      "992:\tlearn: 7.6466171\ttest: 8.8471348\tbest: 8.8471348 (992)\ttotal: 4.72s\tremaining: 33.3ms\n",
      "993:\tlearn: 7.6457234\ttest: 8.8471825\tbest: 8.8471348 (992)\ttotal: 4.73s\tremaining: 28.5ms\n",
      "994:\tlearn: 7.6446428\ttest: 8.8473518\tbest: 8.8471348 (992)\ttotal: 4.73s\tremaining: 23.8ms\n",
      "995:\tlearn: 7.6443149\ttest: 8.8473720\tbest: 8.8471348 (992)\ttotal: 4.74s\tremaining: 19ms\n",
      "996:\tlearn: 7.6426765\ttest: 8.8470751\tbest: 8.8470751 (996)\ttotal: 4.74s\tremaining: 14.3ms\n",
      "997:\tlearn: 7.6424073\ttest: 8.8468114\tbest: 8.8468114 (997)\ttotal: 4.75s\tremaining: 9.52ms\n",
      "998:\tlearn: 7.6412548\ttest: 8.8475659\tbest: 8.8468114 (997)\ttotal: 4.75s\tremaining: 4.76ms\n",
      "999:\tlearn: 7.6397423\ttest: 8.8458801\tbest: 8.8458801 (999)\ttotal: 4.76s\tremaining: 0us\n",
      "\n",
      "bestTest = 8.845880119\n",
      "bestIteration = 999\n",
      "\n"
     ]
    },
    {
     "data": {
      "text/plain": [
       "<catboost.core.CatBoostRegressor at 0x7faf40854cd0>"
      ]
     },
     "execution_count": 516,
     "metadata": {},
     "output_type": "execute_result"
    }
   ],
   "source": [
    "model.fit(edu_features[train_ids], edu_ages[train_ids], eval_set=(edu_features[val_ids], edu_ages[val_ids]))"
   ]
  },
  {
   "cell_type": "code",
   "execution_count": 517,
   "metadata": {},
   "outputs": [],
   "source": [
    "model.save_model(\"../submision/data/edu_v2.cbm\")"
   ]
  },
  {
   "cell_type": "code",
   "execution_count": 491,
   "metadata": {
    "scrolled": true
   },
   "outputs": [],
   "source": [
    "m = catboost.CatBoost()"
   ]
  },
  {
   "cell_type": "code",
   "execution_count": 518,
   "metadata": {},
   "outputs": [
    {
     "data": {
      "text/plain": [
       "array([2.08878779e+00, 0.00000000e+00, 3.38284297e-03, 3.89169621e-03,\n",
       "       0.00000000e+00, 7.02374471e-02, 1.97742087e-03, 7.02212327e-04,\n",
       "       1.67039641e+01, 1.16898761e-03, 5.51177767e-02, 2.82976960e-02,\n",
       "       2.97197021e-03, 6.94624509e-01, 2.67924877e-02, 6.84921767e-02,\n",
       "       6.48739446e+00, 2.47089029e+00, 1.27214578e+00, 3.36452599e+00,\n",
       "       2.00079567e+00, 7.14097494e+00, 1.32545252e+00, 2.52015004e+00,\n",
       "       3.29126272e+00, 3.30652818e+00, 1.28643160e+00, 4.88308223e+00,\n",
       "       3.92613418e+00, 9.08587669e+00, 4.43133833e+00, 4.22195654e+00,\n",
       "       1.62916474e+01, 2.94300326e+00])"
      ]
     },
     "execution_count": 518,
     "metadata": {},
     "output_type": "execute_result"
    }
   ],
   "source": [
    "model.feature_importances_"
   ]
  },
  {
   "cell_type": "code",
   "execution_count": null,
   "metadata": {},
   "outputs": [],
   "source": []
  }
 ],
 "metadata": {
  "kernelspec": {
   "display_name": "Python 3",
   "language": "python",
   "name": "python3"
  },
  "language_info": {
   "codemirror_mode": {
    "name": "ipython",
    "version": 3
   },
   "file_extension": ".py",
   "mimetype": "text/x-python",
   "name": "python",
   "nbconvert_exporter": "python",
   "pygments_lexer": "ipython3",
   "version": "3.7.9"
  }
 },
 "nbformat": 4,
 "nbformat_minor": 4
}
